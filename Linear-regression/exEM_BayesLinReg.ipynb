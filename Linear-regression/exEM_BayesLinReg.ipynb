{
 "cells": [
  {
   "cell_type": "markdown",
   "metadata": {},
   "source": [
    "# A TUTORIAL ON EM FOR BAYESIAN LINEAR REGRESSION\n",
    "\n",
    "by Sebastian T. Glavind, April, 2020"
   ]
  },
  {
   "cell_type": "code",
   "execution_count": 132,
   "metadata": {},
   "outputs": [],
   "source": [
    "import numpy as np\n",
    "import scipy.stats as ss\n",
    "import pandas as pd\n",
    "import pymc3\n",
    "import pickle\n",
    "from matplotlib import pyplot as plt\n",
    "%matplotlib inline"
   ]
  },
  {
   "cell_type": "markdown",
   "metadata": {},
   "source": [
    "# Example 1: Slope only\n",
    "\n",
    "See Bishop(2006; Sec. 9.3.4) and Theodoridis (2020; Sec. 12.5).\n",
    "\n",
    "In the simplest case, sometimes called ordinary linear regression, the observation errors are\n",
    "independent and have equal variance;\n",
    "\n",
    "$$ y | w, \\sigma, x \\sim \\mathcal{N}(w x,\\sigma^2), $$\n",
    "\n",
    "thus we consider a single input with $w_0 = 0$.\n",
    "\n",
    "In this example, we will consider the probabilistic modeling of weight parameter only and take $\\sigma$ to be a fixed parameter, which will be fitted. We adapt a Gaussian prior for the weight parameter:\n",
    "$$ p(w) = \\mathcal{N}( 0, \\sigma_{w}^{2} ) $$\n",
    "\n",
    "For notational convenience, we consider the precision instead of the noise variance, thus\n",
    "\n",
    "$$ \\alpha = \\frac{1}{\\sigma_{w}^2} \\quad \\text{and} \\quad \\beta = \\frac{1}{\\sigma^2}. $$\n",
    "\n",
    "***\n",
    "Bishop, Christopher M. Pattern recognition and machine learning. springer, 2006.\n",
    "\n",
    "Theodoridis, Sergios. Machine learning: a Bayesian and optimization perspective. Academic Press, 2020.\n",
    "***\n",
    "\n",
    "## Sample data\n",
    "\n",
    "### True model parameters"
   ]
  },
  {
   "cell_type": "code",
   "execution_count": 133,
   "metadata": {},
   "outputs": [],
   "source": [
    "w0_true = 0\n",
    "w1_true = 8\n",
    "sigma_true = 2"
   ]
  },
  {
   "cell_type": "markdown",
   "metadata": {},
   "source": [
    "### Generate data"
   ]
  },
  {
   "cell_type": "code",
   "execution_count": 134,
   "metadata": {},
   "outputs": [],
   "source": [
    "def generate_training_data(x, w0, w1, sigma):\n",
    "    n = len(x)\n",
    "    error = np.random.normal(loc=0, scale=sigma, size=n)\n",
    "    return( w0 + w1*x + error )"
   ]
  },
  {
   "cell_type": "code",
   "execution_count": 135,
   "metadata": {},
   "outputs": [],
   "source": [
    "x_tr = np.arange(start=-1, stop=1, step=0.1)\n",
    "nX_tr = len(x_tr)"
   ]
  },
  {
   "cell_type": "code",
   "execution_count": 136,
   "metadata": {},
   "outputs": [],
   "source": [
    "np.random.seed(10)\n",
    "y_tr = generate_training_data(x=x_tr, w0 = w0_true, w1 = w1_true, sigma = sigma_true)"
   ]
  },
  {
   "cell_type": "code",
   "execution_count": 137,
   "metadata": {},
   "outputs": [
    {
     "data": {
      "image/png": "[encoded data removed]",
      "text/plain": [
       "<Figure size 432x288 with 1 Axes>"
      ]
     },
     "metadata": {
      "needs_background": "light"
     },
     "output_type": "display_data"
    }
   ],
   "source": [
    "plt.plot(x_tr, y_tr,'ob');\n",
    "plt.plot(x_tr,(w0_true + w1_true * x_tr),'-r');\n",
    "plt.xlabel('x')\n",
    "plt.ylabel('y')\n",
    "plt.title('Training data and true linear model')\n",
    "plt.grid()"
   ]
  },
  {
   "cell_type": "markdown",
   "metadata": {},
   "source": [
    "## EM algorithm"
   ]
  },
  {
   "cell_type": "code",
   "execution_count": 138,
   "metadata": {},
   "outputs": [],
   "source": [
    "XX = (x_tr) # design vector (convention Bishop(2006))\n",
    "nX = len(XX)\n",
    "mX = 1"
   ]
  },
  {
   "cell_type": "markdown",
   "metadata": {},
   "source": [
    "### Initialize algorithm"
   ]
  },
  {
   "cell_type": "code",
   "execution_count": 139,
   "metadata": {},
   "outputs": [],
   "source": [
    "# Initial parameters\n",
    "alpha0 = 1\n",
    "beta0 = 0.1\n",
    "n_it_max = 1000 # miximum no. of iterations"
   ]
  },
  {
   "cell_type": "markdown",
   "metadata": {},
   "source": [
    "### EM iterator"
   ]
  },
  {
   "cell_type": "code",
   "execution_count": 140,
   "metadata": {},
   "outputs": [],
   "source": [
    "for i in range(n_it_max):\n",
    "    \n",
    "    if i > 0:\n",
    "        alpha0 = alpha1\n",
    "        beta0 = beta1\n",
    "        \n",
    "    # E-step:\n",
    "    Sig_w_pos = ( alpha0 + beta0 * XX.T.dot(XX) )**(-1)\n",
    "    mu_w_pos = beta0 * (Sig_w_pos * XX.T).dot(y_tr)\n",
    "\n",
    "    # M-step:\n",
    "    errors = y_tr - XX * mu_w_pos\n",
    "    alpha1 = mX / ( mu_w_pos * mu_w_pos + Sig_w_pos )\n",
    "    beta1 = nX / ( errors.T.dot(errors) + (XX * Sig_w_pos).dot(XX.T) )\n",
    "    \n",
    "    # access convergence\n",
    "    if ( abs( alpha1 - alpha0 ) < 1e-4 * alpha0 )&( abs( beta1 - beta0 ) < 1e-4 * beta0 ):\n",
    "        break"
   ]
  },
  {
   "cell_type": "code",
   "execution_count": 141,
   "metadata": {},
   "outputs": [
    {
     "data": {
      "text/plain": [
       "(7.736935531099955, 0.01658312374162845, 1.7273844119370416, 5)"
      ]
     },
     "execution_count": 141,
     "metadata": {},
     "output_type": "execute_result"
    }
   ],
   "source": [
    "mu_w_pos, alpha1, np.sqrt(1/beta1), i"
   ]
  },
  {
   "cell_type": "markdown",
   "metadata": {},
   "source": [
    "# Example 2: Slope and intercept using automatic relevance determination (ARD) prior\n",
    "\n",
    "See Murphy(2012; Sec.13.7).\n",
    "\n",
    "Again, we consider the case of ordinary linear regression, but this time including an intercept term;\n",
    "\n",
    "$$ y | w, \\sigma, x \\sim \\mathcal{N}(w_0 + w_1 x,\\sigma^2). $$\n",
    "\n",
    "In this example, we will consider the probabilistic modeling of the weight parameters only and take $\\sigma$ to be a fixed parameter, which will be fitted. For notational convenience, we will consider the precisions instead of the noise variances, thus\n",
    "\n",
    "$$ \\boldsymbol\\alpha = \\frac{1}{\\boldsymbol\\sigma_{w}^2} \\quad \\text{and} \\quad \\beta = \\frac{1}{\\sigma^2}, $$\n",
    "\n",
    "where $\\boldsymbol\\alpha$ denote the vector of weight precisions and $\\beta$ is the noise precision.\n",
    "\n",
    "In particular, the we will assume the following (full) probabilistic model:\n",
    "\n",
    "$$ y | \\mathbf{w}, \\sigma, x \\sim \\mathcal{N}(\\mathbf{w}^T \\mathbf{x},1/\\beta) $$\n",
    "\n",
    "$$ \\mathbf{w}|\\mathbf{A} \\sim \\mathcal{N}(\\boldsymbol0, \\mathbf{A}^{-1}), $$\n",
    "\n",
    "where the input space have been augmented with an additional first argument, which is always 1, in order to write the likelihood in vector notation and $\\mathbf{A}=\\text{diag}(\\boldsymbol\\alpha)$.\n",
    "\n",
    "## Sample data"
   ]
  },
  {
   "cell_type": "code",
   "execution_count": 143,
   "metadata": {},
   "outputs": [],
   "source": [
    "w0_true = 4\n",
    "w1_true = 8\n",
    "sigma_true = 2"
   ]
  },
  {
   "cell_type": "code",
   "execution_count": 144,
   "metadata": {},
   "outputs": [],
   "source": [
    "def generate_training_data(x, w0, w1, sigma):\n",
    "    n = len(x)\n",
    "    error = np.random.normal(loc=0, scale=sigma, size=n)\n",
    "    return( w0 + w1*x + error )"
   ]
  },
  {
   "cell_type": "code",
   "execution_count": 145,
   "metadata": {},
   "outputs": [],
   "source": [
    "x_tr = np.arange(start=-1, stop=1, step=0.1)\n",
    "np.random.seed(10) # good seed\n",
    "y_tr = generate_training_data(x=x_tr, w0 = w0_true, w1 = w1_true, sigma = sigma_true)"
   ]
  },
  {
   "cell_type": "code",
   "execution_count": 146,
   "metadata": {},
   "outputs": [
    {
     "data": {
      "image/png": "[encoded data removed]",
      "text/plain": [
       "<Figure size 432x288 with 1 Axes>"
      ]
     },
     "metadata": {
      "needs_background": "light"
     },
     "output_type": "display_data"
    }
   ],
   "source": [
    "plt.plot(x_tr, y_tr,'ob');\n",
    "plt.plot(x_tr,(w0_true + w1_true * x_tr),'-r');\n",
    "plt.xlabel('x')\n",
    "plt.ylabel('y')\n",
    "plt.title('Training data and true linear model')\n",
    "plt.grid()"
   ]
  },
  {
   "cell_type": "code",
   "execution_count": 147,
   "metadata": {},
   "outputs": [],
   "source": [
    "XX = np.vstack((np.ones(len(x_tr)), x_tr)).T # design matrix (convention Bishop(2006))\n",
    "nX_tr, mX_tr = XX.shape # - np.array([0, 1]); # data dimensions are defined as actual features ;)"
   ]
  },
  {
   "cell_type": "code",
   "execution_count": 148,
   "metadata": {},
   "outputs": [],
   "source": [
    "x_te = np.arange(start=-1.25, stop=1.25, step=0.1)\n",
    "XX_te = np.vstack((np.ones(len(x_te)), x_te)).T # design matrix (convention Bishop(2006))\n",
    "nX_te, mX_te = XX_te.shape # - np.array([0, 1]); # data dimensions are defined as actual features ;)"
   ]
  },
  {
   "cell_type": "markdown",
   "metadata": {},
   "source": [
    "## EM algorithm\n",
    "\n",
    "See Murphy(2012; Sec.13.7).\n",
    "\n",
    "For the case of automatic relevance determination, i.e. $\\boldsymbol\\alpha$-vector, considered above, we now assume that the distribution for the hyperparameters are sharply peaked, and approximate the posterior with a fixed-point estimate.\n",
    "\n",
    "### Initialize algorithm"
   ]
  },
  {
   "cell_type": "code",
   "execution_count": 149,
   "metadata": {},
   "outputs": [],
   "source": [
    "A0_em = np.eye(mX_tr) * 1 # alpha's on the diagonal\n",
    "beta0_em = 0.1\n",
    "n_it_max = 1000 # miximum no. of iterations"
   ]
  },
  {
   "cell_type": "markdown",
   "metadata": {},
   "source": [
    "### EM iterator"
   ]
  },
  {
   "cell_type": "code",
   "execution_count": 150,
   "metadata": {},
   "outputs": [],
   "source": [
    "for i in range(1000):\n",
    "    \n",
    "    if i > 0:\n",
    "        A0_em = A1_em\n",
    "        beta0_em = beta1_em\n",
    "        \n",
    "    # E-step:\n",
    "    Sig_w_pos = np.linalg.inv( beta0_em * XX.T.dot(XX) + A0_em )\n",
    "    mu_w_pos = beta0_em * Sig_w_pos.dot(XX.T).dot(y_tr)\n",
    "\n",
    "    # M-step:\n",
    "    errors = y_tr - XX.dot(mu_w_pos)\n",
    "    A1_em = np.diag( 1 / ( mu_w_pos**2 + np.diag(Sig_w_pos)**2 ) )\n",
    "    beta1_em = nX_tr / ( errors.T.dot(errors) + np.sum(1 - np.diag(A1_em)*np.diag(Sig_w_pos) )/beta0_em )\n",
    "    \n",
    "#     # access convergence - could easily define a stopping criteria here!\n",
    "#     if ( abs( alpha1 - alpha0 ) < 1e-4 * alpha0 )&( abs( beta1 - beta0 ) < 1e-4 * beta0 ):\n",
    "#         break"
   ]
  },
  {
   "cell_type": "code",
   "execution_count": 151,
   "metadata": {},
   "outputs": [
    {
     "data": {
      "text/plain": [
       "(array([4.1887292 , 7.76300487]),\n",
       " array([[0.15439115, 0.02286894],\n",
       "        [0.02286894, 0.4614036 ]]),\n",
       " array([[0.0569175 , 0.        ],\n",
       "        [0.        , 0.01653517]]),\n",
       " 1.7584442628014527,\n",
       " 999)"
      ]
     },
     "execution_count": 151,
     "metadata": {},
     "output_type": "execute_result"
    }
   ],
   "source": [
    "mu_w_pos, Sig_w_pos, A1_em, np.sqrt(1/beta1_em), i"
   ]
  }
 ],
 "metadata": {
  "kernelspec": {
   "display_name": "Python 3",
   "language": "python",
   "name": "python3"
  },
  "language_info": {
   "codemirror_mode": {
    "name": "ipython",
    "version": 3
   },
   "file_extension": ".py",
   "mimetype": "text/x-python",
   "name": "python",
   "nbconvert_exporter": "python",
   "pygments_lexer": "ipython3",
   "version": "3.6.10"
  }
 },
 "nbformat": 4,
 "nbformat_minor": 4
}
