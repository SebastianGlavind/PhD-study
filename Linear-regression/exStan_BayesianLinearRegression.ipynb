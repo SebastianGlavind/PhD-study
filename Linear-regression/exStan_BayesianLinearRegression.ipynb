{
 "cells": [
  {
   "cell_type": "code",
   "execution_count": 2,
   "metadata": {},
   "outputs": [],
   "source": [
    "import math\n",
    "import numpy as np\n",
    "import scipy.stats as ss\n",
    "import pandas as pd\n",
    "import pystan\n",
    "import pickle\n",
    "# import arviz\n",
    "from matplotlib import pyplot as plt\n",
    "\n",
    "%matplotlib inline\n",
    "# %matplotlib notebook\n",
    "%load_ext autoreload\n",
    "%autoreload 2"
   ]
  },
  {
   "cell_type": "markdown",
   "metadata": {},
   "source": [
    "## The model\n",
    "\n",
    "In the simplest case of linear regression, sometimes called ordinary linear regression, the observation errors are\n",
    "independent and have equal variance; in vector notation,\n",
    "\n",
    "$$ \\mathbf{y} | \\mathbf{w}, \\sigma, \\mathbf{X} \\sim \\mathcal{N}(\\mathbf{X}\\mathbf{w},\\sigma^2\\mathbf{I}), $$\n",
    "\n",
    "where $\\mathbf{I}$ is an $ N \\times N $ identy matrix, and $\\mathbf{X}$ is a $ N \\times K $ design matrix."
   ]
  },
  {
   "cell_type": "markdown",
   "metadata": {},
   "source": [
    "## Sample data\n",
    "\n",
    "### Generating process"
   ]
  },
  {
   "cell_type": "code",
   "execution_count": 4,
   "metadata": {},
   "outputs": [],
   "source": [
    "w0_true = 4\n",
    "w1_true = 8\n",
    "sigma_true = 2"
   ]
  },
  {
   "cell_type": "code",
   "execution_count": 5,
   "metadata": {},
   "outputs": [],
   "source": [
    "def generate_training_data(x, w0, w1, sigma):\n",
    "    n = len(x)\n",
    "    error = np.random.normal(loc=0, scale=sigma, size=n)\n",
    "    return( w0 + w1*x + error )"
   ]
  },
  {
   "cell_type": "markdown",
   "metadata": {},
   "source": [
    "### Training data"
   ]
  },
  {
   "cell_type": "code",
   "execution_count": 7,
   "metadata": {},
   "outputs": [],
   "source": [
    "x_tr = np.arange(start=-1, stop=1, step=0.1)\n",
    "np.random.seed(10) # good seed\n",
    "y_tr = generate_training_data(x=x_tr, w0 = w0_true, w1 = w1_true, sigma = sigma_true)"
   ]
  },
  {
   "cell_type": "code",
   "execution_count": 8,
   "metadata": {},
   "outputs": [
    {
     "data": {
      "image/png": "[encoded data removed]",
      "text/plain": [
       "<Figure size 432x288 with 1 Axes>"
      ]
     },
     "metadata": {
      "needs_background": "light"
     },
     "output_type": "display_data"
    }
   ],
   "source": [
    "plt.plot(x_tr, y_tr,'ob');\n",
    "plt.plot(x_tr,(w0_true + w1_true * x_tr),'-r');\n",
    "plt.xlabel('x')\n",
    "plt.ylabel('y')\n",
    "plt.title('Training data and true linear model')\n",
    "plt.grid()"
   ]
  },
  {
   "cell_type": "code",
   "execution_count": 9,
   "metadata": {},
   "outputs": [],
   "source": [
    "XX = np.vstack((np.ones(len(x_tr)), x_tr)).T # design matrix (convention Bishop(2006))\n",
    "nX_tr, mX_tr = XX.shape # - np.array([0, 1]); # data dimensions are defined as actual features ;)"
   ]
  },
  {
   "cell_type": "markdown",
   "metadata": {},
   "source": [
    "### Test data"
   ]
  },
  {
   "cell_type": "code",
   "execution_count": 10,
   "metadata": {},
   "outputs": [],
   "source": [
    "x_te = np.arange(start=-1.25, stop=1.25, step=0.1)\n",
    "XX_te = np.vstack((np.ones(len(x_te)), x_te)).T # design matrix (convention Bishop(2006))\n",
    "nX_te, mX_te = XX_te.shape # - np.array([0, 1]); # data dimensions are defined as actual features ;)"
   ]
  },
  {
   "cell_type": "code",
   "execution_count": 11,
   "metadata": {},
   "outputs": [
    {
     "data": {
      "text/plain": [
       "(20, 2)"
      ]
     },
     "execution_count": 11,
     "metadata": {},
     "output_type": "execute_result"
    }
   ],
   "source": [
    "XX.shape"
   ]
  },
  {
   "cell_type": "markdown",
   "metadata": {},
   "source": [
    "## Stan"
   ]
  },
  {
   "cell_type": "code",
   "execution_count": 12,
   "metadata": {},
   "outputs": [],
   "source": [
    "x_stan = np.ndarray.tolist(XX)\n",
    "y_stan = np.ndarray.tolist(y_tr)"
   ]
  },
  {
   "cell_type": "code",
   "execution_count": 14,
   "metadata": {},
   "outputs": [],
   "source": [
    "stan_dat = {'N': nX_tr,\n",
    "            'K': mX_tr,\n",
    "            'x': x_stan,\n",
    "            'y': y_stan}"
   ]
  },
  {
   "cell_type": "code",
   "execution_count": 21,
   "metadata": {},
   "outputs": [],
   "source": [
    "stan_code = \"\"\"\n",
    "data {\n",
    "  int<lower=0> N;   // number of data items\n",
    "  int<lower=0> K;   // number of inputs\n",
    "  matrix[N, K] x;   // input matrix\n",
    "  vector[N] y;      // output vector\n",
    "}\n",
    "parameters {\n",
    "  vector[K] w;       // coefficients for inputs\n",
    "  real<lower=0> sigma;  // error scale\n",
    "}\n",
    "model {\n",
    "  for(k in 1:K)\n",
    "    w[k] ~ normal(0, 10); // prior for coefficients\n",
    "  sigma ~ cauchy(0, 5); // prior for error scale\n",
    "  y ~ normal(x * w, sigma);  // likelihood\n",
    "}\n",
    "\"\"\""
   ]
  },
  {
   "cell_type": "code",
   "execution_count": 22,
   "metadata": {},
   "outputs": [
    {
     "name": "stderr",
     "output_type": "stream",
     "text": [
      "INFO:pystan:COMPILING THE C++ CODE FOR MODEL anon_model_53902d24c60c98535f43f1e5b9d1fc5e NOW.\n"
     ]
    }
   ],
   "source": [
    "sm = pystan.StanModel(model_code=stan_code)"
   ]
  },
  {
   "cell_type": "code",
   "execution_count": 23,
   "metadata": {},
   "outputs": [],
   "source": [
    "fit = sm.sampling(data=stan_dat, iter=1000, chains=4, seed=42)"
   ]
  },
  {
   "cell_type": "code",
   "execution_count": 24,
   "metadata": {},
   "outputs": [
    {
     "name": "stdout",
     "output_type": "stream",
     "text": [
      "Inference for Stan model: anon_model_53902d24c60c98535f43f1e5b9d1fc5e.\n",
      "4 chains, each with iter=1000; warmup=500; thin=1; \n",
      "post-warmup draws per chain=500, total post-warmup draws=2000.\n",
      "\n",
      "        mean se_mean     sd   2.5%    25%    50%    75%  97.5%  n_eff   Rhat\n",
      "w[1]    4.21  9.2e-3   0.41   3.42   3.94    4.2   4.48   5.02   1947    1.0\n",
      "w[2]    7.78    0.02   0.76   6.28   7.31   7.79   8.25    9.3   1822    1.0\n",
      "sigma   1.87  8.5e-3   0.33   1.35   1.64   1.81   2.05   2.64   1481    1.0\n",
      "lp__  -21.79    0.05   1.32 -25.04 -22.41 -21.42 -20.84 -20.34    722    1.0\n",
      "\n",
      "Samples were drawn using NUTS at Tue Apr 28 07:00:57 2020.\n",
      "For each parameter, n_eff is a crude measure of effective sample size,\n",
      "and Rhat is the potential scale reduction factor on split chains (at \n",
      "convergence, Rhat=1).\n"
     ]
    }
   ],
   "source": [
    "print(fit)"
   ]
  },
  {
   "cell_type": "code",
   "execution_count": 68,
   "metadata": {},
   "outputs": [],
   "source": [
    "stan_code2 = \"\"\"\n",
    "data {\n",
    "  int<lower=0> N;   // number of data items\n",
    "  int<lower=0> K;   // number of inputs\n",
    "  matrix[N, K] x;   // input matrix\n",
    "  vector[N] y;      // output vector\n",
    "}\n",
    "parameters {\n",
    "  vector[K] w;              // coefficients for inputs\n",
    "  vector<lower=0>[K] alpha; // ARD vector (precision)\n",
    "  real<lower=0> beta;       // error scale (precision)\n",
    "}\n",
    "model {\n",
    "  for(k in 1:K)\n",
    "    w[k] ~ normal(0, (beta*alpha[k])^(-0.5)); // prior for coefficients\n",
    "  alpha ~ gamma(2, 2); // ARD vector\n",
    "  beta ~ gamma(2, 2); // prior for error scale\n",
    "  y ~ normal(x * w, beta^(-0.5));  // likelihood\n",
    "}\n",
    "\"\"\""
   ]
  },
  {
   "cell_type": "code",
   "execution_count": 69,
   "metadata": {},
   "outputs": [
    {
     "name": "stderr",
     "output_type": "stream",
     "text": [
      "INFO:pystan:COMPILING THE C++ CODE FOR MODEL anon_model_b30deeae169b7544706f5007aa369662 NOW.\n"
     ]
    }
   ],
   "source": [
    "sm2 = pystan.StanModel(model_code=stan_code2)"
   ]
  },
  {
   "cell_type": "code",
   "execution_count": 70,
   "metadata": {},
   "outputs": [],
   "source": [
    "control = {}\n",
    "control['adapt_delta'] = 0.95\n",
    "control['max_treedepth'] = 20\n",
    "fit2 = sm2.sampling(data=stan_dat, iter=1000, chains=4, seed=42, control=control)"
   ]
  },
  {
   "cell_type": "code",
   "execution_count": 71,
   "metadata": {},
   "outputs": [
    {
     "name": "stdout",
     "output_type": "stream",
     "text": [
      "Inference for Stan model: anon_model_b30deeae169b7544706f5007aa369662.\n",
      "4 chains, each with iter=1000; warmup=500; thin=1; \n",
      "post-warmup draws per chain=500, total post-warmup draws=2000.\n",
      "\n",
      "           mean se_mean     sd   2.5%    25%    50%    75%  97.5%  n_eff   Rhat\n",
      "w[1]       4.11    0.01   0.43   3.22   3.83   4.12    4.4   4.93   1577    1.0\n",
      "w[2]       7.53    0.02   0.76   6.07   7.05   7.52    8.0   9.05   1909    1.0\n",
      "alpha[1]   0.57  8.3e-3   0.38   0.08   0.29   0.49   0.75   1.56   2107    1.0\n",
      "alpha[2]   0.26  5.3e-3    0.2   0.03   0.12   0.21   0.34   0.78   1446    1.0\n",
      "beta       0.29  2.6e-3   0.09   0.14   0.22   0.28   0.35    0.5   1312    1.0\n",
      "lp__     -37.44    0.06   1.74 -41.69 -38.31 -37.09 -36.15 -35.24    820    1.0\n",
      "\n",
      "Samples were drawn using NUTS at Tue Apr 28 07:49:44 2020.\n",
      "For each parameter, n_eff is a crude measure of effective sample size,\n",
      "and Rhat is the potential scale reduction factor on split chains (at \n",
      "convergence, Rhat=1).\n"
     ]
    }
   ],
   "source": [
    "print(fit2)"
   ]
  },
  {
   "cell_type": "code",
   "execution_count": 72,
   "metadata": {},
   "outputs": [
    {
     "data": {
      "text/plain": [
       "1.8569533817705186"
      ]
     },
     "execution_count": 72,
     "metadata": {},
     "output_type": "execute_result"
    }
   ],
   "source": [
    "np.sqrt(1/0.29)"
   ]
  }
 ],
 "metadata": {
  "kernelspec": {
   "display_name": "Python 3",
   "language": "python",
   "name": "python3"
  },
  "language_info": {
   "codemirror_mode": {
    "name": "ipython",
    "version": 3
   },
   "file_extension": ".py",
   "mimetype": "text/x-python",
   "name": "python",
   "nbconvert_exporter": "python",
   "pygments_lexer": "ipython3",
   "version": "3.6.7"
  }
 },
 "nbformat": 4,
 "nbformat_minor": 2
}
