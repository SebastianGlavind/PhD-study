{
 "cells": [
  {
   "cell_type": "markdown",
   "metadata": {},
   "source": [
    "# TUTORIAL ON THE TOOLBOX `pLearningTools`\n",
    "\n",
    "by Sebastian T. Glavind, June 2020\n",
    "\n",
    "# Gibbs sampling for parameter learning from partially observed data\n",
    "\n",
    "This notebook considers how to use the toolbox `pLearningTools` to learn the parameter distributions of a discrete Bayesian network model using Gibbs sampling, when the graph structure (DAG) and discretization policy for continuous variables are defined. The graph structure and discretization policy were found in a previous tutorial: *Dynamic discretization and structure learning from partially observed data*, which will be the basis for this tutorial.\n",
    "\n",
    "\n",
    "## Prelude"
   ]
  },
  {
   "cell_type": "code",
   "execution_count": 12,
   "metadata": {},
   "outputs": [],
   "source": [
    "library(bnlearn) # Package for learning bayesian networks (BNs)\n",
    "library(gRain) # The inplementation makes used of the gRain package for inference in the Gibbs sampler\n",
    "library(doParallel) # package for parallel computing\n",
    "source(\"../MyToolboxes/pLearningTools.R\") # load toolbox from source location"
   ]
  },
  {
   "cell_type": "markdown",
   "metadata": {},
   "source": [
    "## Data and input\n",
    "\n",
    "In this tutorial, we use the publicly available [sachs](https://www.bnlearn.com/book-crc/) data set.\n",
    "\n",
    "### Raw data"
   ]
  },
  {
   "cell_type": "code",
   "execution_count": 13,
   "metadata": {},
   "outputs": [],
   "source": [
    "DATA_org = read.table(\"../Discretize&sLearn/sachs.data.txt\", header = T) # load continuous data set (data frame) from source location\n",
    "DATA = DATA_org\n",
    "nodes = names(DATA) # variable names"
   ]
  },
  {
   "cell_type": "markdown",
   "metadata": {},
   "source": [
    "### Simulate missing data"
   ]
  },
  {
   "cell_type": "code",
   "execution_count": 14,
   "metadata": {},
   "outputs": [],
   "source": [
    "set.seed(123)\n",
    "\n",
    "m_DATA = as.matrix(DATA) # convert to matrix in order to perform matrix operations\n",
    "m_n_D = length(m_DATA); # length of the unfolded array nrow*ncol\n",
    "n_missing = floor(0.1*m_n_D) # no. of missing data\n",
    "id_missing = arrayInd(sample(m_n_D, size = n_missing, replace = F), dim(m_DATA)) # indices of missing data\n",
    "DATA[id_missing] = NA # convert input at these indices to NA"
   ]
  },
  {
   "cell_type": "markdown",
   "metadata": {},
   "source": [
    "### Discrete data, discretization boundaries and BN model (from previous tutorial)"
   ]
  },
  {
   "cell_type": "code",
   "execution_count": 15,
   "metadata": {},
   "outputs": [
    {
     "data": {
      "image/png": "[encoded data removed]",
      "text/plain": [
       "plot without title"
      ]
     },
     "metadata": {},
     "output_type": "display_data"
    }
   ],
   "source": [
    "load(\"BNs_sLearn_partiallyObs.rda\")\n",
    "\n",
    "plot(RES1$BN)"
   ]
  },
  {
   "cell_type": "code",
   "execution_count": 16,
   "metadata": {},
   "outputs": [
    {
     "data": {
      "text/plain": [
       "          praf              pmek              plcg              PIP2    \n",
       " (-Inf,40.7]:264   (-Inf,17.9]:190   (-Inf,13.2]:257   (-Inf,80.2]:494  \n",
       " (40.7,65.5]:254   (17.9,24.9]:212   (13.2,20.7]:255   (80.2,146] :159  \n",
       " (65.5, Inf]:254   (24.9,56]  :325   (20.7, Inf]:255   (146, Inf] :112  \n",
       " NA's       : 81   (56, Inf]  : 49   NA's       : 86   NA's       : 88  \n",
       "                   NA's       : 77                                      \n",
       "                                                                        \n",
       "          PIP3             p44.42           pakts473           PKA     \n",
       " (-Inf,16.1]:257   (-Inf,9.61]:235   (-Inf,22.9]:259   (-Inf,134]: 25  \n",
       " (16.1,32.8]:248   (9.61,15.1]:157   (22.9,35.5]:259   (134,688] :565  \n",
       " (32.8, Inf]:250   (15.1,28.2]:264   (35.5, Inf]:254   (688, Inf]:182  \n",
       " NA's       : 98   (28.2, Inf]:112   NA's       : 81   NA's      : 81  \n",
       "                   NA's       : 85                                     \n",
       "                                                                       \n",
       "          PKC               P38               pjnk    \n",
       " (-Inf,9.01]:257   (-Inf,19.9]:158   (-Inf,14.9]:259  \n",
       " (9.01,18.2]:257   (19.9,24.5]:104   (14.9,34.3]:249  \n",
       " (18.2, Inf]:257   (24.5,32.6]:176   (34.3, Inf]:252  \n",
       " NA's       : 82   (32.6,41.6]:153   NA's       : 93  \n",
       "                   (41.6, Inf]:176                    \n",
       "                   NA's       : 86                    "
      ]
     },
     "metadata": {},
     "output_type": "display_data"
    }
   ],
   "source": [
    "summary(RES1$dDATA, maxsum = 20)"
   ]
  },
  {
   "cell_type": "markdown",
   "metadata": {},
   "source": [
    "## Parameter learning\n",
    "\n",
    "Having defined the graph structure and discretization, we can quantify the model parameters using Bayesian statistics with the Dirichlet equivalent uniform priors. In this regard we assume both global and local parameter independence, see e.g. Koller and Friedman (2009) for further details. Moreover, due to the missing data in this example, we will need to assume a missingness mechanism, and employ a learning algorithm that can deal with missing data. In this tutorial, we will assume that the data is missing at random and employ Gibbs sampling for parameter learning, see e.g. Koller and Friedman (2009) for further details.\n",
    "\n",
    "***\n",
    "D. Koller and N. Friedman, Probabilistic graphical models: principles and techniques. MIT Press, 2009.\n",
    "***\n",
    "\n",
    "### Gibbs sampling\n",
    "\n",
    "- BN: Graph structure (DAG) of class bn (bnlearn)\n",
    "- dData: Discrete data set with missings\n",
    "- n_iss: Imaginary sample size for Bayesian Dirichlet equivalent uniform prior, see e.g. Ueno (2010)\n",
    "- no_cores: number of cores to use\n",
    "- fitted0: initial bn.fit object, iff RES1(FITTED) (initialized as parm. from sLearning)\n",
    "- dData0: initial completed data set, iff RES1(dDATAimp) (initialized as hard EM assignments from sLearning)\n",
    "- quiet: Print progress report, Iff = FALSE (related to discretize_all_oneIt)\n",
    "- n_samp: Number of samples\n",
    "\n",
    "***\n",
    "M.  Ueno,  “Learning  networks  determined  by  the  ratio  of  prior  and  data,”  in Proceedings of 26th Conference on Uncertainty in Artificial Intelligence, 2010, pp. 1–8\n",
    "***"
   ]
  },
  {
   "cell_type": "code",
   "execution_count": 17,
   "metadata": {},
   "outputs": [],
   "source": [
    "BN = RES1$BN; # dag structure\n",
    "dData = RES1$dDATA; # data set with missings\n",
    "n_iss = 1 # current recommendation, see Ueno (2010)\n",
    "no_cores = detectCores() - 2 # no. cores to use\n",
    "fitted0 = RES1$FITTED; # initalization of fitted BN (bnlearn)\n",
    "dData0 = RES1$dDATAimp; # initalization of data set (could also be simulated using fitted0)\n",
    "quiet = T\n",
    "n_samp = 100"
   ]
  },
  {
   "cell_type": "markdown",
   "metadata": {},
   "source": [
    "#### Gibbs sampler\n",
    "\n",
    "This shows how to sample from éne chain; in a real application, we would initialize multiple chains overdispersed in the plausible range of the variables and check for mixing."
   ]
  },
  {
   "cell_type": "code",
   "execution_count": 18,
   "metadata": {},
   "outputs": [],
   "source": [
    "# This implementation should work on both Windows and Linux\n",
    "RESgib = Gibbs_multicore(BN=BN, dData=dData, n_iss=n_iss, no_cores=no_cores, fitted0=fitted0, \n",
    "                         dData0=dData0, quiet=quiet, n_samp=n_samp) # //*pLearningTools*//"
   ]
  },
  {
   "cell_type": "code",
   "execution_count": 19,
   "metadata": {},
   "outputs": [
    {
     "data": {
      "text/plain": [
       "           Length Class  Mode\n",
       "bnFIT_list 101    -none- list\n",
       "dDATA_list 101    -none- list"
      ]
     },
     "metadata": {},
     "output_type": "display_data"
    }
   ],
   "source": [
    "summary(RESgib)"
   ]
  },
  {
   "cell_type": "markdown",
   "metadata": {},
   "source": [
    "### Endnotes\n",
    "\n",
    "The samples can now be used for inference in fully specified BN models (graph and parameters), whereby we account for parameter uncertainties in the inferences\n",
    "\n",
    "The details on how to conduct inference in Bayesian networks are covered in the tutorial on inference in Bayesian networks (*Inference with general bn.fit objects*), but a small example is given below.\n",
    "\n",
    "\n",
    "#### Small example on posterior inference accounting for parameters uncertainties"
   ]
  },
  {
   "cell_type": "code",
   "execution_count": 20,
   "metadata": {},
   "outputs": [],
   "source": [
    "bnFIT_list = RESgib$bnFIT_list\n",
    "\n",
    "#  Query: P(pjnk = \"(-Inf,14.6]\")\n",
    "Ppjnk1 = c()\n",
    "for (n in 1:length(bnFIT_list)){\n",
    "    junc_i = compile(as.grain(bnFIT_list[[n]]))\n",
    "    # P(pjnk)\n",
    "    QGinf_i = querygrain(junc_i, nodes = c(\"pjnk\"), type = \"marginal\")\n",
    "    # P(pjnk = \"(-Inf,14.6]\")\n",
    "    Ppjnk1 = c(Ppjnk1, QGinf_i$pjnk[1])\n",
    "}"
   ]
  },
  {
   "cell_type": "code",
   "execution_count": 21,
   "metadata": {},
   "outputs": [
    {
     "data": {
      "image/png": "[encoded data removed]",
      "text/plain": [
       "Plot with title “Histogram of Ppjnk1”"
      ]
     },
     "metadata": {},
     "output_type": "display_data"
    }
   ],
   "source": [
    "hist(Ppjnk1)"
   ]
  },
  {
   "cell_type": "code",
   "execution_count": 23,
   "metadata": {},
   "outputs": [],
   "source": [
    "# save(RESgib, file='pLearn_Gibbs_partiallyObs_n100.rda')"
   ]
  }
 ],
 "metadata": {
  "kernelspec": {
   "display_name": "R",
   "language": "R",
   "name": "ir"
  },
  "language_info": {
   "codemirror_mode": "r",
   "file_extension": ".r",
   "mimetype": "text/x-r-source",
   "name": "R",
   "pygments_lexer": "r",
   "version": "3.6.1"
  }
 },
 "nbformat": 4,
 "nbformat_minor": 4
}
