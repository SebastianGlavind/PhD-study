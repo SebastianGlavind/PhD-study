{
 "cells": [
  {
   "cell_type": "markdown",
   "metadata": {},
   "source": [
    "# TUTORIAL ON THE TOOLBOX `pLearningTools`\n",
    "\n",
    "by Sebastian T. Glavind, June 2020\n",
    "\n",
    "# Gibbs sampling for parameter learning from partially observed data\n",
    "\n",
    "This notebook considers how to use the toolbox `pLearningTools` to learn the parameter distributions of a discrete Bayesian network model using Gibbs sampling, when the graph structure (DAG) and discretization policy for continuous variables are defined. The graph structure and discretization policy were found in a previous tutorial: *Dynamic discretization and structure learning from partially observed data*, which will be the basis for this tutorial.\n",
    "\n",
    "\n",
    "## Prelude"
   ]
  },
  {
   "cell_type": "code",
   "execution_count": 21,
   "metadata": {},
   "outputs": [],
   "source": [
    "library(bnlearn) # Package for learning bayesian networks (BNs)\n",
    "library(gRain) # The inplementation makes used of the gRain package for inference in the Gibbs sampler\n",
    "library(doParallel) # package for parallel computing\n",
    "source(\"../MyToolboxes/pLearningTools.R\") # load toolbox from source location"
   ]
  },
  {
   "cell_type": "markdown",
   "metadata": {},
   "source": [
    "## Data and input\n",
    "\n",
    "In this tutorial, we use the publicly available [sachs](https://www.bnlearn.com/book-crc/) data set.\n",
    "\n",
    "### Raw data"
   ]
  },
  {
   "cell_type": "code",
   "execution_count": 22,
   "metadata": {},
   "outputs": [],
   "source": [
    "DATA_org = read.table(\"../Discretize&sLearn/sachs.data.txt\", header = T) # load continuous data set (data frame) from source location\n",
    "DATA = DATA_org\n",
    "nodes = names(DATA) # variable names"
   ]
  },
  {
   "cell_type": "markdown",
   "metadata": {},
   "source": [
    "### Simulate missing data"
   ]
  },
  {
   "cell_type": "code",
   "execution_count": 23,
   "metadata": {},
   "outputs": [],
   "source": [
    "set.seed(123)\n",
    "\n",
    "m_DATA = as.matrix(DATA) # convert to matrix in order to perform matrix operations\n",
    "m_n_D = length(m_DATA); # length of the unfolded array nrow*ncol\n",
    "n_missing = floor(0.1*m_n_D) # no. of missing data\n",
    "id_missing = arrayInd(sample(m_n_D, size = n_missing, replace = F), dim(m_DATA)) # indices of missing data\n",
    "DATA[id_missing] = NA # convert input at these indices to NA"
   ]
  },
  {
   "cell_type": "markdown",
   "metadata": {},
   "source": [
    "### Discrete data, discretization boundaries and BN model (from previous tutorial)"
   ]
  },
  {
   "cell_type": "code",
   "execution_count": 24,
   "metadata": {},
   "outputs": [
    {
     "data": {
      "image/png": "[encoded data removed]",
      "text/plain": [
       "plot without title"
      ]
     },
     "metadata": {},
     "output_type": "display_data"
    }
   ],
   "source": [
    "load(\"BNs_sLearn_partiallyObs.rda\")\n",
    "\n",
    "plot(RES1$BN)"
   ]
  },
  {
   "cell_type": "code",
   "execution_count": 25,
   "metadata": {},
   "outputs": [
    {
     "data": {
      "text/plain": [
       "          praf              pmek              plcg              PIP2    \n",
       " (-Inf,40.7]:264   (-Inf,17.9]:190   (-Inf,13.2]:257   (-Inf,80.2]:494  \n",
       " (40.7,65.5]:254   (17.9,24.9]:212   (13.2,20.7]:255   (80.2,146] :159  \n",
       " (65.5, Inf]:254   (24.9,56]  :325   (20.7, Inf]:255   (146, Inf] :112  \n",
       " NA's       : 81   (56, Inf]  : 49   NA's       : 86   NA's       : 88  \n",
       "                   NA's       : 77                                      \n",
       "                                                                        \n",
       "          PIP3             p44.42           pakts473           PKA     \n",
       " (-Inf,16.1]:257   (-Inf,9.61]:235   (-Inf,22.9]:259   (-Inf,134]: 25  \n",
       " (16.1,32.8]:248   (9.61,15.1]:157   (22.9,35.5]:259   (134,688] :565  \n",
       " (32.8, Inf]:250   (15.1,28.2]:264   (35.5, Inf]:254   (688, Inf]:182  \n",
       " NA's       : 98   (28.2, Inf]:112   NA's       : 81   NA's      : 81  \n",
       "                   NA's       : 85                                     \n",
       "                                                                       \n",
       "          PKC               P38               pjnk    \n",
       " (-Inf,9.01]:257   (-Inf,19.9]:158   (-Inf,14.9]:259  \n",
       " (9.01,18.2]:257   (19.9,24.5]:104   (14.9,34.3]:249  \n",
       " (18.2, Inf]:257   (24.5,32.6]:176   (34.3, Inf]:252  \n",
       " NA's       : 82   (32.6,41.6]:153   NA's       : 93  \n",
       "                   (41.6, Inf]:176                    \n",
       "                   NA's       : 86                    "
      ]
     },
     "metadata": {},
     "output_type": "display_data"
    }
   ],
   "source": [
    "summary(RES1$dDATA, maxsum = 20)"
   ]
  },
  {
   "cell_type": "markdown",
   "metadata": {},
   "source": [
    "## Parameter learning\n",
    "\n",
    "Having defined the graph structure and discretization, we can quantify the model parameters using Bayesian statistics with the Dirichlet equivalent uniform priors. In this regard we assume both global and local parameter independence, see e.g. Koller and Friedman (2009) for further details. Moreover, due to the missing data in this example, we will need to assume a missingness mechanism, and employ a learning algorithm that can deal with missing data. In this tutorial, we will assume that the data is missing at random and employ Gibbs sampling for parameter learning, see e.g. Koller and Friedman (2009) for further details.\n",
    "\n",
    "***\n",
    "D. Koller and N. Friedman, Probabilistic graphical models: principles and techniques. MIT Press, 2009.\n",
    "***\n",
    "\n",
    "\n",
    "### Imaginary sample size for Dirichlet prior"
   ]
  },
  {
   "cell_type": "code",
   "execution_count": 26,
   "metadata": {},
   "outputs": [],
   "source": [
    "# # Imaginary sample size\n",
    "n_iss = 1 # current recommendation, see Ueno (2010)"
   ]
  },
  {
   "cell_type": "markdown",
   "metadata": {},
   "source": [
    "***\n",
    "M.  Ueno,  “Learning  networks  determined  by  the  ratio  of  prior  and  data,”  in Proceedings of 26th Conference on Uncertainty in Artificial Intelligence, 2010, pp. 1–8\n",
    "***\n",
    "\n",
    "### Gibbs sampling"
   ]
  },
  {
   "cell_type": "code",
   "execution_count": 27,
   "metadata": {},
   "outputs": [],
   "source": [
    "BN = RES1$BN; # dag structure\n",
    "fitted0 = RES1$FITTED; # initalization of fitted BN (bnlearn)\n",
    "junction0 = compile(as.grain(fitted0)) # fitted BN (gRain)\n",
    "dData0 = RES1$dDATAimp; # initalization of data set (could also be simulated using fitted0)\n",
    "dData = RES1$dDATA; # data set with missings\n",
    "n_inst = nrow(dData); # data instances\n",
    "\n",
    "# same for all iterations: i,j\n",
    "id_NA = which(is.na(dData), arr.ind=TRUE) # NA enteries in dData (original data set)"
   ]
  },
  {
   "cell_type": "code",
   "execution_count": 28,
   "metadata": {},
   "outputs": [],
   "source": [
    "no_cores <- detectCores() - 2 # no. cores to use\n",
    "\n",
    "dDATA_list = list(); dDATA_list[[1]] = dData0; # collect generated complete data sets\n",
    "bnFIT_list = list(); bnFIT_list[[1]] = fitted0; # collect corr. bn.fit objects"
   ]
  },
  {
   "cell_type": "code",
   "execution_count": 29,
   "metadata": {},
   "outputs": [],
   "source": [
    "set.seed(42)\n",
    "\n",
    "# This implementation should work on both Windows and Linux\n",
    "for (i in 1:100){\n",
    "#   print(paste0(\"iteration \", i))\n",
    "  \n",
    "  if (i == 1){\n",
    "    dData1 = dData0; # initial data set\n",
    "    junction1 = junction0; # initial, fitted BN (gRain)\n",
    "  }\n",
    "  \n",
    "  # initialize cluster\n",
    "  no_cores <- detectCores() # no. of cores avaliable\n",
    "  cl <- makeCluster(no_cores-2)\n",
    "  # cl = makePSOCKcluster(no_cores-2)\n",
    "  clusterExport(cl, c('id_NA', 'dData1', 'nodes', 'junction1')) # send input to slaves\n",
    "  junk1 = clusterEvalQ(cl, library(gRain)) # load package to workers\n",
    "  \n",
    "  # # Impute missing values \n",
    "  data_ij_list = parLapply(cl, 1:n_inst, function(j){\n",
    "    na_inst_j = which(id_NA[,1] %in% j) # NAs in instance j of the data set\n",
    "    n_NAj = length(na_inst_j) # no of NAs in instance j\n",
    "    xj = as.matrix(dData1[j, ]); # instance, j (matrix - usuable in gRain)\n",
    "    if (n_NAj > 0){\n",
    "      for (k in 1:n_NAj){\n",
    "        id_NAjk = id_NA[na_inst_j[k], ]\n",
    "        node_xjk = nodes[id_NAjk[2]] # node in instance j,k\n",
    "        jres1k = setEvidence(junction1, nodes = nodes[-id_NAjk[2]], states = xj[-id_NAjk[2]]) # define evidence (NB! Actually, only obs of mb is needed)\n",
    "        QG1k = querygrain(jres1k, nodes = node_xjk)[[node_xjk]] # Variable distribution given evidence: P(xj | ej)\n",
    "        state_xjk = sample(attr(QG1k, \"dimnames\")[[node_xjk]], size = 1, replace = FALSE, prob = QG1k); # sample from states of xj, given P(xj | ej)\n",
    "        xj[id_NAjk[2]] = state_xjk; # update instance vector\n",
    "      }\n",
    "    }\n",
    "    res = xj;\n",
    "    return(res)\n",
    "  })\n",
    "  stopCluster(cl) # stop cluster\n",
    "  data_ij_matrix = do.call(rbind, data_ij_list) # arrange outputs in a matrix\n",
    "  dData1[1:n_inst,] = as.data.frame(data_ij_matrix)[1:n_inst,] # update discrete date set\n",
    "  \n",
    "  # Fit parameters\n",
    "  PC1 = posterior_counts(bn_map = fitted0, ddata = dData1, n_iss = n_iss) # //*pLearningTools*//\n",
    "  pSample1 = myDirichletSampler(PC = PC1) # //*pLearningTools*//\n",
    "  bnFIT1 = custom.fit(BN, dist = pSample1) # fitted BN (bnlearn object)\n",
    "  junction1 = compile(as.grain(bnFIT1)) # fitted BN (gRain)\n",
    "  \n",
    "  # Book keeping\n",
    "  bnFIT_list[[i+1]] = bnFIT1;\n",
    "  dDATA_list[[i+1]] = dData1;\n",
    "}"
   ]
  },
  {
   "cell_type": "code",
   "execution_count": 33,
   "metadata": {},
   "outputs": [],
   "source": [
    "# save(bnFIT_list, dDATA_list, file='pLearn_Gibbs_partiallyObs_n100.rda')\n",
    "# load('pLearn_Gibbs_partiallyObs_n100.rda')"
   ]
  },
  {
   "cell_type": "markdown",
   "metadata": {},
   "source": [
    "### Endnotes\n",
    "\n",
    "The samples can now be used for inference in fully specified BN models (graph and parameters), whereby we account for parameter uncertainties in the inferences\n",
    "\n",
    "The details on how to conduct inference in Bayesian networks are covered in the tutorial on inference in Bayesian networks (*Inference with general bn.fit objects*), but a small example is given below.\n",
    "\n",
    "\n",
    "#### Small example on posterior inference accounting for parameters uncertainties"
   ]
  },
  {
   "cell_type": "code",
   "execution_count": 39,
   "metadata": {},
   "outputs": [],
   "source": [
    "#  Query: P(pjnk = \"(-Inf,14.6]\")\n",
    "Ppjnk1 = c()\n",
    "for (n in 1:length(bnFIT_list)){\n",
    "    junc_i = compile(as.grain(bnFIT_list[[n]]))\n",
    "    # P(pjnk)\n",
    "    QGinf_i = querygrain(junc_i, nodes = c(\"pjnk\"), type = \"marginal\")\n",
    "    # P(pjnk = \"(-Inf,14.6]\")\n",
    "    Ppjnk1 = c(Ppjnk1, QGinf_i$pjnk[1])\n",
    "}"
   ]
  },
  {
   "cell_type": "code",
   "execution_count": 40,
   "metadata": {},
   "outputs": [
    {
     "data": {
      "image/png": "[encoded data removed]",
      "text/plain": [
       "Plot with title “Histogram of Ppjnk1”"
      ]
     },
     "metadata": {},
     "output_type": "display_data"
    }
   ],
   "source": [
    "hist(Ppjnk1)"
   ]
  },
  {
   "cell_type": "code",
   "execution_count": 41,
   "metadata": {},
   "outputs": [],
   "source": [
    "# save(bnFIT_list, dDATA_list, file='pLearn_Gibbs_partiallyObs_n100.rda')"
   ]
  }
 ],
 "metadata": {
  "kernelspec": {
   "display_name": "R",
   "language": "R",
   "name": "ir"
  },
  "language_info": {
   "codemirror_mode": "r",
   "file_extension": ".r",
   "mimetype": "text/x-r-source",
   "name": "R",
   "pygments_lexer": "r",
   "version": "3.6.1"
  }
 },
 "nbformat": 4,
 "nbformat_minor": 4
}
