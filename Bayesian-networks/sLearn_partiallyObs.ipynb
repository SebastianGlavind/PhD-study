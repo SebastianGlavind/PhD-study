{
 "cells": [
  {
   "cell_type": "markdown",
   "metadata": {},
   "source": [
    "# TUTORIAL ON THE TOOLBOX `sLearningAndDiscretizationTools`\n",
    "\n",
    "by Sebastian T. Glavind, May 2020\n",
    "\n",
    "# Dynamic discretization and structure learning from partially observed data\n",
    "\n",
    "This notebook considers how to use the toolbox `sLearningAndDiscretizationTools` to learn the graph structure (DAG) of a Bayesian network model and the corresponding optimal discretization policy of continuous variables. The toolbox is a wrapper for the [`bnlearn`](https://www.bnlearn.com/) package, see Scutari (2010), which implements the underlying routines for structure learning.\n",
    "\n",
    "***\n",
    "M. Scutari. Learning Bayesian Networks with the bnlearn R Package. Journal of Statistical Software, 35(3), 1-22, 2010. http://www.jstatsoft.org/v35/i03/.\n",
    "***\n",
    "\n",
    "## Prelude"
   ]
  },
  {
   "cell_type": "code",
   "execution_count": 137,
   "metadata": {},
   "outputs": [],
   "source": [
    "library(bnlearn) # Package for learning bayesian networks\n",
    "source(\"../MyToolboxes/sLearningAndDiscretizationTools.R\") # load toolbox from source location"
   ]
  },
  {
   "cell_type": "markdown",
   "metadata": {},
   "source": [
    "## Data\n",
    "\n",
    "In this tutorial, we use the publicly available [sachs](https://www.bnlearn.com/book-crc/) data set.\n",
    "\n",
    "### Raw data"
   ]
  },
  {
   "cell_type": "code",
   "execution_count": 138,
   "metadata": {},
   "outputs": [],
   "source": [
    "DATA_org = read.table(\"../Discretize&sLearn/sachs.data.txt\", header = T) # load continuous data set (data frame) from source location\n",
    "DATA = DATA_org\n",
    "nodes = names(DATA) # variable names"
   ]
  },
  {
   "cell_type": "markdown",
   "metadata": {},
   "source": [
    "### Simulate missing data"
   ]
  },
  {
   "cell_type": "code",
   "execution_count": 139,
   "metadata": {},
   "outputs": [],
   "source": [
    "m_DATA = as.matrix(DATA) # convert to matrix in order to perform matrix operations\n",
    "m_n_D = length(m_DATA); # length of the unfolded array nrow*ncol\n",
    "n_missing = floor(0.1*m_n_D) # no. of missing data\n",
    "id_missing = arrayInd(sample(m_n_D, size = n_missing, replace = F), dim(m_DATA)) # indices of missing data\n",
    "DATA[id_missing] = NA # convert input at these indices to NA"
   ]
  },
  {
   "cell_type": "markdown",
   "metadata": {},
   "source": [
    "### Initialize discrete data\n",
    "\n",
    "This block initializes the discrete data as the continuous data and the discretization policy (discretization boundary points)."
   ]
  },
  {
   "cell_type": "code",
   "execution_count": 140,
   "metadata": {},
   "outputs": [],
   "source": [
    "dDATA = DATA;\n",
    "BP_list = sapply(nodes, function(x) NULL); "
   ]
  },
  {
   "cell_type": "markdown",
   "metadata": {},
   "source": [
    "### Bounds for discretization\n",
    "\n",
    "This block defines a list containing the lower and upper bound for the variables."
   ]
  },
  {
   "cell_type": "code",
   "execution_count": 141,
   "metadata": {},
   "outputs": [],
   "source": [
    "BP_list_bounds = list(); \n",
    "for (i in 1:length(nodes)){\n",
    "  BP_list_bounds[[nodes[i]]] = c(-Inf, Inf); # upper and lower bounds for variable\n",
    "} # //*FOR*// NB! All break points for Variables with pre-defined break points should be specified in this list."
   ]
  },
  {
   "cell_type": "markdown",
   "metadata": {},
   "source": [
    "### Variables for which the discretization should be ajusted dynamically (continuous variables)\n",
    "\n",
    "We choose to discretize every second variable dynamically, i.e. the prior discretization is kept for the remaining variables."
   ]
  },
  {
   "cell_type": "code",
   "execution_count": 142,
   "metadata": {},
   "outputs": [],
   "source": [
    "var_con = nodes[seq(from = 2, to = 10, by = 2)] # continuous variables"
   ]
  },
  {
   "cell_type": "markdown",
   "metadata": {},
   "source": [
    "Prior discretization for continuous variables."
   ]
  },
  {
   "cell_type": "code",
   "execution_count": 143,
   "metadata": {},
   "outputs": [],
   "source": [
    "n_breaks = 3; # boundery points in discretization \n",
    "\n",
    "# Iniitial discretization of continuous variables\n",
    "res_quan_discC = quantile_discretizer_inclNA(data = DATA[var_con], n_breaks = n_breaks, \n",
    "                                             bp_list_bounds = BP_list_bounds[var_con]) # //*sLearningAndDiscretizationTools.R*//\n",
    "dDATA[var_con] = res_quan_discC$d_data; # initial discretization\n",
    "BP_list[var_con] = res_quan_discC$bp_list; # Initilize list of boundery points\n",
    "for (var in var_con) { # remove irellevant information (attributes)\n",
    "  attributes(BP_list[[var]]) = NULL\n",
    "} # //*FOR*//"
   ]
  },
  {
   "cell_type": "markdown",
   "metadata": {},
   "source": [
    "### Variables for which the discretization is not ajusted (discrete variables)\n",
    "\n",
    "Define discrete variables as the remaining variables (not continuous)."
   ]
  },
  {
   "cell_type": "code",
   "execution_count": 144,
   "metadata": {},
   "outputs": [],
   "source": [
    "var_dis = setdiff(nodes, var_con); # discrete variables"
   ]
  },
  {
   "cell_type": "markdown",
   "metadata": {},
   "source": [
    "Prior discretization for discrete variables (this discretization is not updated in this example)."
   ]
  },
  {
   "cell_type": "code",
   "execution_count": 145,
   "metadata": {},
   "outputs": [],
   "source": [
    "# Discrete variables\n",
    "res_quan_discD = quantile_discretizer_inclNA(data = DATA[var_dis], n_breaks = n_breaks, \n",
    "                                             bp_list_bounds = BP_list_bounds[var_dis]) # //*sLearningAndDiscretizationTools.R*//\n",
    "dDATA[var_dis] = res_quan_discD$d_data; # initial discretization\n",
    "BP_list[var_dis] = res_quan_discD$bp_list; # Initilize list of boundery points\n",
    "for (var in var_dis) { # remove irellevant information (attributes)\n",
    "  attributes(BP_list[[var]]) = NULL\n",
    "} # //*FOR*//"
   ]
  },
  {
   "cell_type": "markdown",
   "metadata": {},
   "source": [
    "## Dynamic discretization and structure learning\n",
    "\n",
    "The method we use is based on Monti and Cooper (1998), thus we assume that a data set is generated in two steps: First, an interval of a variable is selected from the distribution of the discrete variable. Second, the corresponding continuous value is drawn from a distribution over the interval. We then seek an optimal discrete representation of the original continuous data set while learning the graph structure. As the graph structure changes throughout the structure learning phase, the discretization is adjusted dynamically to maximize an objective function in a manner similar to that proposed in Friedman and Goldszmidt (1996). Thus, we start by learning the optimal discretization of an initial graph structure, which in turn is used to learn a new graph structure. These two steps are repeated until the score function converges to a local optimum. A similar scheme for combined structure learning and discretization is used in Vogel (2013). In our implementation, we use functionalities from the publicly available R package bnlearn (Scutari, 2010) to learn the structure of the graph, using the Bayesian Dirichlet equivalent score metric within a hill climbing or tabu search algorithm (see below), which are score-based learning algorithms. \n",
    "\n",
    "In order to learn a DAG from incomplete data, we employ a variant of the structural EM algorithm (Friedman,1997; Friedman,1998). In the E-step, we impute the missing (discrete) data based on their maximum a-posteriori estimates using the current BN, which is termed hard-assignment EM. In the M-step, we learn a new BN based on the imputed data set, see Scutari (2010) for further details.\n",
    "\n",
    "***\n",
    "S. Monti and G. F. Cooper, “A multivariate discretization method for learningbayesian  networks  from  mixed  data,”  inFourteenth  International  Conference  onUncertainty in Artificial Intelligence, 1998, pp. 404–413.\n",
    "\n",
    "N. Friedman, and M. Goldszmidt, “Discretizing Continuous Attributes While Learning Bayesian Networks,” 13th International  conference on Machine Learning, Bari, Italy, July 3–6, 1996, pp. 157–165.\n",
    "\n",
    "K. Vogel,  “Applications of bayesian networks in natural hazard assessments,”Ph.D. dissertation, University of Potsdam, 2013., https://d-nb.info/1048476014/34, Accessed May 25, 2020.\n",
    "\n",
    "N. Friedman, “Learning belief networks in the presence of missing values and\n",
    "hidden variables,” in Fourteenth International Conference on Machine Learning,\n",
    "1997, pp. 125–133.\n",
    "\n",
    "N. Friedman, “The bayesian structural em algorithm,” in Fourteenth conference on Uncertainty\n",
    "in artificial intelligence. Morgan Kaufmann Publishers Inc., 1998, pp.\n",
    "129–138.\n",
    "\n",
    "M. Scutari. Learning Bayesian Networks with the bnlearn R Package. Journal of Statistical Software, 35(3), 1-22, 2010. http://www.jstatsoft.org/v35/i03/.\n",
    "***\n",
    "\n",
    "### Algorithm selection"
   ]
  },
  {
   "cell_type": "code",
   "execution_count": 146,
   "metadata": {},
   "outputs": [],
   "source": [
    "score_name = 'bde'; # Score (discrete) to use, see the bnlearn manual (https://www.bnlearn.com/). Options: 'bic' and 'bde' ('bds', 'mbde', 'bdj')\n",
    "L = 1; # Parameter for weighting the continuous likelihood compared to the discrete part (prior and likelihood); default L=1 (corr. original formulations)\n",
    "quiet = T; # Iff = FALSE, print progress report (related to discretize_all_oneIt)\n",
    "score_con = 'vogel'; # 'vogel' Vogel(2013) or 'monti' Monti&Cooper(1998)\n",
    "search_alg = 'hill'; # 'hill' for 'hill-climbing' and 'tabu' for tabu-search\n",
    "imp_method = \"parents\" # Imputation method: \"bayes-lw\" (final assessments), \"parents\" (fast)"
   ]
  },
  {
   "cell_type": "markdown",
   "metadata": {},
   "source": [
    "### Imaginary sample size for Dirichlet prior"
   ]
  },
  {
   "cell_type": "code",
   "execution_count": 147,
   "metadata": {},
   "outputs": [],
   "source": [
    "# # Imaginary sample size\n",
    "n_iss = 1 # current recommendation, see Ueno (2010)"
   ]
  },
  {
   "cell_type": "markdown",
   "metadata": {},
   "source": [
    "***\n",
    "M.  Ueno,  “Learning  networks  determined  by  the  ratio  of  prior  and  data,”  inIn Proceedings of 26th Conference Conference on Uncertainty in Artificial Intelligence, 2010, pp. 1–8\n",
    "***\n",
    "\n",
    "### Network initialization and constraints"
   ]
  },
  {
   "cell_type": "code",
   "execution_count": 148,
   "metadata": {},
   "outputs": [],
   "source": [
    "# Network used to initialize search algorithm \n",
    "# see the bnlearn manual (https://www.bnlearn.com/)\n",
    "# net_start = bn.fit(empty.graph(nodes), dDATA)\n",
    "net_start = NULL\n",
    "\n",
    "# Whitlist and Blacklist of connections\n",
    "wl = NULL; # wl = data.frame(from = c(\"PIP2\"), to = c(\"plcg\"))\n",
    "bl = NULL; # bl = data.frame(from = c(\"PKC\", \"P38\"), to = c(\"P38\", \"PKC\"))"
   ]
  },
  {
   "cell_type": "markdown",
   "metadata": {},
   "source": [
    "### Learn discretization and DAG\n",
    "\n",
    "- score_name_g: Global score (full network) - should be the same as score_name_l\n",
    "- score_name_l: Local score (local Markov blankets) - should be the same as score_name_g\n",
    "- L: Parameter for weighting the continuous likelihood compared to the discrete part (prior and likelihood)\n",
    "- quiet: Print progress report, Iff = FALSE (related to discretize_all_oneIt)\n",
    "- score_con: Continuous likelihood formulation, 'vogel' Vogel(2013) or 'monti' Monti&Cooper(1998)\n",
    "- search_alg: Search strategy, 'hill' for 'hill-climbing' and 'tabu' for tabu-search\n",
    "- DATA: Continuous data (data frame)\n",
    "- dDATA: Discrete data (data frame)\n",
    "- BP_list: List of boundery points for discretization policy\n",
    "- BP_list_bounds: Upper and lower bound for BP_list\n",
    "- n_iterations_loc_max: Maximum number of boundery points for the continuous variables\n",
    "- var_con: Names of continuous variables (string vector), which needs dynamic discretization\n",
    "- net_start: Initial network structure\n",
    "- WL: White listed connections in network structure - forced connections\n",
    "- BL: Black listed connections in network structure - forced, missing connections\n",
    "- n_iss: Imaginary sample size for Dirichlet prior"
   ]
  },
  {
   "cell_type": "code",
   "execution_count": 149,
   "metadata": {},
   "outputs": [
    {
     "data": {
      "text/plain": [
       "         Length Class      Mode\n",
       "BN        3     bn         list\n",
       "dDATA    11     data.frame list\n",
       "BP_list  11     -none-     list\n",
       "dDATAimp 11     data.frame list\n",
       "DATAimp  11     data.frame list\n",
       "FITTED   11     bn.fit     list"
      ]
     },
     "metadata": {},
     "output_type": "display_data"
    }
   ],
   "source": [
    "# Learn discretization and network - with default bounds on the number of discretization points\n",
    "RES1 = discretizeANDlearn_all_inclNA(score_name_g=score_name, score_name_l=score_name, L=L, quiet=quiet, \n",
    "                                     score_con=score_con, search_alg=search_alg, imp_method=imp_method, \n",
    "                                     DATA=DATA, dDATA=dDATA, BP_list=BP_list, BP_list_bounds=BP_list_bounds,            \n",
    "                                     var_con=var_con, net_start=net_start, WL = wl, BL = bl, \n",
    "                                     n_iss=n_iss) # //*sLearningAndDiscretizationTools.R*//\n",
    "summary(RES1)"
   ]
  },
  {
   "cell_type": "code",
   "execution_count": 150,
   "metadata": {},
   "outputs": [],
   "source": [
    "# Learn discretization and network - with custom bounds on the number of discretization points\n",
    "\n",
    "# Maximum number of additional BPs (BP_list_bounds + add BPs) of the continuous variables \n",
    "maxInt_list = vector(length(var_con), mode = 'list'); names(maxInt_list) = var_con; # individual restrictions (names list)\n",
    "maxInt_list$pmek = 2; # max 3 states (upper and lower bound + 2 BP)\n",
    "maxInt_list$PIP2 = 1; # max 2 states (binary)\n",
    "maxInt_list$p44.42 = 1; # max 2 states (binary)\n",
    "maxInt_list$PKA = 1; # max 2 states (binary)\n",
    "maxInt_list$P38 = 1; # max 2 states (binary)\n",
    "\n",
    "RES2 = discretizeANDlearn_all_inclNA(score_name_g=score_name, score_name_l=score_name, L=L, quiet=quiet, \n",
    "                                     score_con=score_con, search_alg=search_alg, imp_method=imp_method, \n",
    "                                     DATA=DATA, dDATA=dDATA, BP_list=BP_list, BP_list_bounds=BP_list_bounds, \n",
    "                                     n_iterations_loc_max = maxInt_list, var_con=var_con, net_start=net_start, \n",
    "                                     WL = wl, BL = bl, n_iss=n_iss) # //*sLearningAndDiscretizationTools.R*//"
   ]
  },
  {
   "cell_type": "markdown",
   "metadata": {},
   "source": [
    "### Show results"
   ]
  },
  {
   "cell_type": "markdown",
   "metadata": {},
   "source": [
    "Plot DAG"
   ]
  },
  {
   "cell_type": "code",
   "execution_count": 151,
   "metadata": {},
   "outputs": [
    {
     "name": "stdout",
     "output_type": "stream",
     "text": [
      "[1] \"with default bounds on the number of discretization points\"\n"
     ]
    },
    {
     "data": {
      "image/png": "[encoded data removed]",
      "text/plain": [
       "plot without title"
      ]
     },
     "metadata": {
      "image/png": {
       "height": 420,
       "width": 420
      },
      "text/plain": {
       "height": 420,
       "width": 420
      }
     },
     "output_type": "display_data"
    }
   ],
   "source": [
    "print('with default bounds on the number of discretization points')\n",
    "plot(RES1$BN)"
   ]
  },
  {
   "cell_type": "code",
   "execution_count": 152,
   "metadata": {},
   "outputs": [
    {
     "name": "stdout",
     "output_type": "stream",
     "text": [
      "[1] \"with custom bounds on the number of discretization points\"\n"
     ]
    },
    {
     "data": {
      "image/png": "[encoded data removed]",
      "text/plain": [
       "plot without title"
      ]
     },
     "metadata": {
      "image/png": {
       "height": 420,
       "width": 420
      },
      "text/plain": {
       "height": 420,
       "width": 420
      }
     },
     "output_type": "display_data"
    }
   ],
   "source": [
    "print('with custom bounds on the number of discretization points')\n",
    "plot(RES2$BN)"
   ]
  },
  {
   "cell_type": "markdown",
   "metadata": {},
   "source": [
    "Show discrete, hard-assignment imputed data set"
   ]
  },
  {
   "cell_type": "code",
   "execution_count": 153,
   "metadata": {},
   "outputs": [
    {
     "name": "stdout",
     "output_type": "stream",
     "text": [
      "[1] \"with default bounds on the number of discretization points\"\n"
     ]
    },
    {
     "data": {
      "text/plain": [
       "          praf              pmek              plcg              PIP2    \n",
       " (-Inf,40.3]:353   (-Inf,16.1]:145   (-Inf,13.5]:255   (-Inf,36.4]:332  \n",
       " (40.3,64.4]:250   (16.1,26]  :343   (13.5,21.3]:347   (36.4,160] :427  \n",
       " (64.4, Inf]:250   (26,38]    :200   (21.3, Inf]:251   (160, Inf] : 94  \n",
       "                   (38, Inf]  :165                                      \n",
       "                                                                        \n",
       "          PIP3             p44.42           pakts473                PKA     \n",
       " (-Inf,16.2]:287   (-Inf,6.58]:129   (-Inf,23.1]:299   (-Inf,134]     : 27  \n",
       " (16.2,33.1]:303   (6.58,13.9]:233   (23.1,35.9]:291   (134,405]      :361  \n",
       " (33.1, Inf]:263   (13.9,28.6]:381   (35.9, Inf]:263   (405,560]      :205  \n",
       "                   (28.6,47.6]: 72                     (560,1.92e+03] :247  \n",
       "                   (47.6, Inf]: 38                     (1.92e+03, Inf]: 13  \n",
       "          PKC               P38               pjnk    \n",
       " (-Inf,8.79]:267   (-Inf,19.9]:154   (-Inf,14.9]:291  \n",
       " (8.79,18]  :279   (19.9,24.5]:105   (14.9,33.7]:283  \n",
       " (18, Inf]  :307   (24.5,31]  :141   (33.7, Inf]:279  \n",
       "                   (31,53.5]  :366                    \n",
       "                   (53.5, Inf]: 87                    "
      ]
     },
     "metadata": {},
     "output_type": "display_data"
    },
    {
     "name": "stdout",
     "output_type": "stream",
     "text": [
      "[1] \"with custom bounds on the number of discretization points\"\n"
     ]
    },
    {
     "data": {
      "text/plain": [
       "          praf              pmek              plcg              PIP2    \n",
       " (-Inf,40.3]:314   (-Inf,16.1]:145   (-Inf,13.5]:255   (-Inf,59.1]:480  \n",
       " (40.3,64.4]:250   (16.1,26]  :296   (13.5,21.3]:347   (59.1, Inf]:373  \n",
       " (64.4, Inf]:289   (26, Inf]  :412   (21.3, Inf]:251                    \n",
       "          PIP3             p44.42           pakts473           PKA     \n",
       " (-Inf,16.2]:335   (-Inf,18.5]:569   (-Inf,23.1]:313   (-Inf,701]:684  \n",
       " (16.2,33.1]:263   (18.5, Inf]:284   (23.1,35.9]:258   (701, Inf]:169  \n",
       " (33.1, Inf]:255                     (35.9, Inf]:282                   \n",
       "          PKC             P38               pjnk    \n",
       " (-Inf,8.79]:300   (-Inf,31]:479   (-Inf,14.9]:286  \n",
       " (8.79,18]  :252   (31, Inf]:374   (14.9,33.7]:283  \n",
       " (18, Inf]  :301                   (33.7, Inf]:284  "
      ]
     },
     "metadata": {},
     "output_type": "display_data"
    }
   ],
   "source": [
    "print('with default bounds on the number of discretization points')\n",
    "summary(RES1$dDATAimp, maxsum = 20)\n",
    "\n",
    "print('with custom bounds on the number of discretization points')\n",
    "summary(RES2$dDATAimp, maxsum = 20)"
   ]
  },
  {
   "cell_type": "markdown",
   "metadata": {},
   "source": [
    "Compare discrete representation to continuous representation (kernel density), e.g. variable \"pmek\""
   ]
  },
  {
   "cell_type": "code",
   "execution_count": 154,
   "metadata": {},
   "outputs": [
    {
     "data": {
      "image/png": "[encoded data removed]",
      "text/plain": [
       "Plot with title \"With default bounds on the number of discretization points\""
      ]
     },
     "metadata": {
      "image/png": {
       "height": 420,
       "width": 420
      },
      "text/plain": {
       "height": 420,
       "width": 420
      }
     },
     "output_type": "display_data"
    },
    {
     "data": {
      "image/png": "[encoded data removed]",
      "text/plain": [
       "Plot with title \"With custom bounds on the number of discretization points\""
      ]
     },
     "metadata": {
      "image/png": {
       "height": 420,
       "width": 420
      },
      "text/plain": {
       "height": 420,
       "width": 420
      }
     },
     "output_type": "display_data"
    }
   ],
   "source": [
    "X = DATA_org$pmek # define (continuous) variable to plot, e.g. pmek\n",
    "bpX = RES1$BP_list$pmek; bpX[1] = min(X); bpX[length(bpX)] = max(X) # define discretization bounderies (end point should have a finite value when plotting)\n",
    "D = density(X)\n",
    "H = hist(X, bpX, ylim=c(0,max(D$y)), main='With default bounds on the number of discretization points')\n",
    "lines(D$x,D$y,lwd = 3)\n",
    "legend('topright', legend = c('Discretization', 'Empirical density'),\n",
    "       lwd = c(1,3), lty = c(NA,1), pch = c(22, NA))\n",
    "\n",
    "bpX = RES2$BP_list$pmek; bpX[1] = min(X); bpX[length(bpX)] = max(X) # define discretization bounderies (end point should have a finite value when plotting)\n",
    "D = density(X)\n",
    "H = hist(X, bpX, ylim=c(0,max(D$y)), main='With custom bounds on the number of discretization points')\n",
    "lines(D$x,D$y,lwd = 3)\n",
    "legend('topright', legend = c('Discretization', 'Empirical density'),\n",
    "       lwd = c(1,3), lty = c(NA,1), pch = c(22, NA))"
   ]
  }
 ],
 "metadata": {
  "kernelspec": {
   "display_name": "R",
   "language": "R",
   "name": "ir"
  },
  "language_info": {
   "codemirror_mode": "r",
   "file_extension": ".r",
   "mimetype": "text/x-r-source",
   "name": "R",
   "pygments_lexer": "r",
   "version": "3.6.1"
  }
 },
 "nbformat": 4,
 "nbformat_minor": 4
}
