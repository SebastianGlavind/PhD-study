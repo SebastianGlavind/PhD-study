{
 "cells": [
  {
   "cell_type": "markdown",
   "metadata": {},
   "source": [
    "# TUTORIAL ON INFERENCE IN DISCRETE BAYESIAN NETWORKS\n",
    "\n",
    "by Sebastian T. Glavind, June 2020\n",
    "\n",
    "# Inference with general bn.fit objects \n",
    "\n",
    "This notebook shows how make inferences using general bn.fit objects; these may be learned using the `bnlearn` package alone, or in combination with my toolboxes `sLearningAndDiscretizationTools` and `sLearningTools`, which are wrappers for the `bnlearn` package. For this tutorial we will use the inference functionalities of the `bnlearn` package, as well as the `gRain` package. The graph structure and discretization policy, and parameters that we will consider in this tutorial were found in the tutorials *Dynamic discretization and structure learning from fully observed data*, and *Parameter learning from fully observed data*, respectively.\n",
    "\n",
    "\n",
    "## Prelude"
   ]
  },
  {
   "cell_type": "code",
   "execution_count": 21,
   "metadata": {},
   "outputs": [],
   "source": [
    "library(bnlearn) # Package for learning bayesian networks (BNs)\n",
    "library(gRain) # package for inference in BNs\n",
    "source(\"../MyToolboxes/pLearningTools.R\") # load toolbox from source location"
   ]
  },
  {
   "cell_type": "markdown",
   "metadata": {},
   "source": [
    "## Data and input\n",
    "\n",
    "In this tutorial, we use the publicly available [sachs](https://www.bnlearn.com/book-crc/) data set.\n",
    "\n",
    "### Continuous data"
   ]
  },
  {
   "cell_type": "code",
   "execution_count": 22,
   "metadata": {},
   "outputs": [],
   "source": [
    "DATA = read.table(\"../Discretize&sLearn/sachs.data.txt\", header = T) # load continuous data set (data frame) from source location\n",
    "nodes = names(DATA) # variable names"
   ]
  },
  {
   "cell_type": "markdown",
   "metadata": {},
   "source": [
    "### Discrete data, discretization boundaries and BN model (from previous tutorial)"
   ]
  },
  {
   "cell_type": "code",
   "execution_count": 23,
   "metadata": {},
   "outputs": [
    {
     "data": {
      "image/png": "[encoded data removed]",
      "text/plain": [
       "plot without title"
      ]
     },
     "metadata": {},
     "output_type": "display_data"
    }
   ],
   "source": [
    "load(\"BNs_sLearn_fullyObs.rda\")\n",
    "\n",
    "plot(RES1$BN)"
   ]
  },
  {
   "cell_type": "code",
   "execution_count": 24,
   "metadata": {},
   "outputs": [
    {
     "data": {
      "text/plain": [
       "          praf              pmek              plcg             PIP2    \n",
       " (-Inf,40.7]:290   (-Inf,16.1]:160   (-Inf,13.3]:285   (-Inf,48] :426  \n",
       " (40.7,64.4]:279   (16.1,24.2]:261   (13.3,20.9]:284   (48,146]  :300  \n",
       " (64.4, Inf]:284   (24.2,38]  :273   (20.9, Inf]:284   (146, Inf]:127  \n",
       "                   (38,56]    :105                                     \n",
       "                   (56, Inf]  : 54                                     \n",
       "          PIP3             p44.42           pakts473                PKA     \n",
       " (-Inf,16.3]:288   (-Inf,10.4]:287   (-Inf,22.9]:287   (-Inf,154]     : 31  \n",
       " (16.3,32.8]:282   (10.4,14.1]:122   (22.9,35.5]:285   (154,394]      :318  \n",
       " (32.8, Inf]:283   (14.1,18.5]:127   (35.5, Inf]:281   (394,701]      :317  \n",
       "                   (18.5,28.2]:188                     (701,1.49e+03] :152  \n",
       "                   (28.2, Inf]:129                     (1.49e+03, Inf]: 35  \n",
       "          PKC               P38               pjnk    \n",
       " (-Inf,9.06]:285   (-Inf,22]  :223   (-Inf,14.6]:285  \n",
       " (9.06,18.3]:286   (22,32.6]  :259   (14.6,33.7]:285  \n",
       " (18.3, Inf]:282   (32.6,47.6]:233   (33.7, Inf]:283  \n",
       "                   (47.6, Inf]:138                    \n",
       "                                                      "
      ]
     },
     "metadata": {},
     "output_type": "display_data"
    }
   ],
   "source": [
    "summary(RES1$dDATA, maxsum = 20)"
   ]
  },
  {
   "cell_type": "markdown",
   "metadata": {},
   "source": [
    "### Object of the bn.fit class with MAP parameters and posterior counts (from previous tutorial)"
   ]
  },
  {
   "cell_type": "code",
   "execution_count": 25,
   "metadata": {},
   "outputs": [
    {
     "data": {
      "text/plain": [
       "         Length Class        Mode\n",
       "praf     4      bn.fit.dnode list\n",
       "pmek     4      bn.fit.dnode list\n",
       "plcg     4      bn.fit.dnode list\n",
       "PIP2     4      bn.fit.dnode list\n",
       "PIP3     4      bn.fit.dnode list\n",
       "p44.42   4      bn.fit.dnode list\n",
       "pakts473 4      bn.fit.dnode list\n",
       "PKA      4      bn.fit.dnode list\n",
       "PKC      4      bn.fit.dnode list\n",
       "P38      4      bn.fit.dnode list\n",
       "pjnk     4      bn.fit.dnode list"
      ]
     },
     "metadata": {},
     "output_type": "display_data"
    },
    {
     "data": {
      "text/plain": [
       "         Length Class Mode   \n",
       "praf     15     table numeric\n",
       "pmek      5     table numeric\n",
       "plcg      3     table numeric\n",
       "PIP2      9     table numeric\n",
       "PIP3      3     table numeric\n",
       "p44.42   15     table numeric\n",
       "pakts473 15     table numeric\n",
       "PKA       5     table numeric\n",
       "PKC       3     table numeric\n",
       "P38      12     table numeric\n",
       "pjnk     36     table numeric"
      ]
     },
     "metadata": {},
     "output_type": "display_data"
    }
   ],
   "source": [
    "load('BNs_pLearn_fullyObs.rda')\n",
    "\n",
    "summary(BNmap)\n",
    "summary(PC)"
   ]
  },
  {
   "cell_type": "markdown",
   "metadata": {},
   "source": [
    "## Inference with bn.fit objects \n",
    "\n",
    "\n",
    "### Maximum a-posteriori (MAP) inference with `bnlearn` functionalities\n",
    "\n",
    "\n",
    "Note that [`bnlearn`](https://www.bnlearn.com/) uses particle-based inference (logic sampling or likelihood weighting) to answer queries.\n",
    "\n",
    "#### Inference for conditional probabilities"
   ]
  },
  {
   "cell_type": "code",
   "execution_count": 27,
   "metadata": {},
   "outputs": [
    {
     "data": {
      "text/html": [
       "0.3414"
      ],
      "text/latex": [
       "0.3414"
      ],
      "text/markdown": [
       "0.3414"
      ],
      "text/plain": [
       "[1] 0.3414"
      ]
     },
     "metadata": {},
     "output_type": "display_data"
    }
   ],
   "source": [
    "# P(pjnk = \"(-Inf,14.6]\")\n",
    "set.seed(42)\n",
    "N = 10000\n",
    "inf1p1 = cpquery(BNmap, event = (pjnk == \"(-Inf,14.6]\"), evidence = TRUE, n = N)\n",
    "inf1p1"
   ]
  },
  {
   "cell_type": "code",
   "execution_count": 28,
   "metadata": {},
   "outputs": [
    {
     "data": {
      "text/html": [
       "0.234403391883707"
      ],
      "text/latex": [
       "0.234403391883707"
      ],
      "text/markdown": [
       "0.234403391883707"
      ],
      "text/plain": [
       "[1] 0.2344034"
      ]
     },
     "metadata": {},
     "output_type": "display_data"
    }
   ],
   "source": [
    "# P(pjnk = \"(-Inf,14.6]\" | evidence)\n",
    "set.seed(42)\n",
    "N = 10000\n",
    "inf1p2 = cpquery(BNmap, event = (pjnk == \"(-Inf,14.6]\"), evidence = (PKC == \"(-Inf,9.06]\"), n = N)\n",
    "inf1p2"
   ]
  },
  {
   "cell_type": "markdown",
   "metadata": {},
   "source": [
    "#### Inference for conditional probability distribution"
   ]
  },
  {
   "cell_type": "code",
   "execution_count": 29,
   "metadata": {},
   "outputs": [
    {
     "data": {
      "text/html": [
       "<table>\n",
       "<thead><tr><th scope=col>pjnk</th><th scope=col>P38</th></tr></thead>\n",
       "<tbody>\n",
       "\t<tr><td>(33.7, Inf]</td><td>(47.6, Inf]</td></tr>\n",
       "\t<tr><td>(14.6,33.7]</td><td>(47.6, Inf]</td></tr>\n",
       "\t<tr><td>(-Inf,14.6]</td><td>(-Inf,22]  </td></tr>\n",
       "\t<tr><td>(-Inf,14.6]</td><td>(32.6,47.6]</td></tr>\n",
       "\t<tr><td>(33.7, Inf]</td><td>(22,32.6]  </td></tr>\n",
       "\t<tr><td>(33.7, Inf]</td><td>(22,32.6]  </td></tr>\n",
       "</tbody>\n",
       "</table>\n"
      ],
      "text/latex": [
       "\\begin{tabular}{r|ll}\n",
       " pjnk & P38\\\\\n",
       "\\hline\n",
       "\t (33.7, Inf{]} & (47.6, Inf{]}\\\\\n",
       "\t (14.6,33.7{]} & (47.6, Inf{]}\\\\\n",
       "\t (-Inf,14.6{]} & (-Inf,22{]}  \\\\\n",
       "\t (-Inf,14.6{]} & (32.6,47.6{]}\\\\\n",
       "\t (33.7, Inf{]} & (22,32.6{]}  \\\\\n",
       "\t (33.7, Inf{]} & (22,32.6{]}  \\\\\n",
       "\\end{tabular}\n"
      ],
      "text/markdown": [
       "\n",
       "| pjnk | P38 |\n",
       "|---|---|\n",
       "| (33.7, Inf] | (47.6, Inf] |\n",
       "| (14.6,33.7] | (47.6, Inf] |\n",
       "| (-Inf,14.6] | (-Inf,22]   |\n",
       "| (-Inf,14.6] | (32.6,47.6] |\n",
       "| (33.7, Inf] | (22,32.6]   |\n",
       "| (33.7, Inf] | (22,32.6]   |\n",
       "\n"
      ],
      "text/plain": [
       "  pjnk        P38        \n",
       "1 (33.7, Inf] (47.6, Inf]\n",
       "2 (14.6,33.7] (47.6, Inf]\n",
       "3 (-Inf,14.6] (-Inf,22]  \n",
       "4 (-Inf,14.6] (32.6,47.6]\n",
       "5 (33.7, Inf] (22,32.6]  \n",
       "6 (33.7, Inf] (22,32.6]  "
      ]
     },
     "metadata": {},
     "output_type": "display_data"
    },
    {
     "data": {
      "text/plain": [
       "             P38\n",
       "pjnk          (-Inf,22] (22,32.6] (32.6,47.6] (47.6, Inf]\n",
       "  (-Inf,14.6]    0.0797    0.1405      0.0869      0.0343\n",
       "  (14.6,33.7]    0.0338    0.0826      0.1469      0.0700\n",
       "  (33.7, Inf]    0.1465    0.0822      0.0382      0.0584"
      ]
     },
     "metadata": {},
     "output_type": "display_data"
    }
   ],
   "source": [
    "# P(pjnk, P38)\n",
    "set.seed(42)\n",
    "N = 10000\n",
    "samp1d1 = cpdist(BNmap, nodes = c(\"pjnk\", \"P38\"), evidence = TRUE, n = N)\n",
    "head(samp1d1)\n",
    "table(samp1d1)/N"
   ]
  },
  {
   "cell_type": "code",
   "execution_count": 30,
   "metadata": {},
   "outputs": [
    {
     "data": {
      "text/html": [
       "<table>\n",
       "<thead><tr><th scope=col>pjnk</th><th scope=col>P38</th></tr></thead>\n",
       "<tbody>\n",
       "\t<tr><td>(33.7, Inf]</td><td>(22,32.6]  </td></tr>\n",
       "\t<tr><td>(33.7, Inf]</td><td>(22,32.6]  </td></tr>\n",
       "\t<tr><td>(-Inf,14.6]</td><td>(-Inf,22]  </td></tr>\n",
       "\t<tr><td>(33.7, Inf]</td><td>(-Inf,22]  </td></tr>\n",
       "\t<tr><td>(33.7, Inf]</td><td>(-Inf,22]  </td></tr>\n",
       "\t<tr><td>(33.7, Inf]</td><td>(-Inf,22]  </td></tr>\n",
       "</tbody>\n",
       "</table>\n"
      ],
      "text/latex": [
       "\\begin{tabular}{r|ll}\n",
       " pjnk & P38\\\\\n",
       "\\hline\n",
       "\t (33.7, Inf{]} & (22,32.6{]}  \\\\\n",
       "\t (33.7, Inf{]} & (22,32.6{]}  \\\\\n",
       "\t (-Inf,14.6{]} & (-Inf,22{]}  \\\\\n",
       "\t (33.7, Inf{]} & (-Inf,22{]}  \\\\\n",
       "\t (33.7, Inf{]} & (-Inf,22{]}  \\\\\n",
       "\t (33.7, Inf{]} & (-Inf,22{]}  \\\\\n",
       "\\end{tabular}\n"
      ],
      "text/markdown": [
       "\n",
       "| pjnk | P38 |\n",
       "|---|---|\n",
       "| (33.7, Inf] | (22,32.6]   |\n",
       "| (33.7, Inf] | (22,32.6]   |\n",
       "| (-Inf,14.6] | (-Inf,22]   |\n",
       "| (33.7, Inf] | (-Inf,22]   |\n",
       "| (33.7, Inf] | (-Inf,22]   |\n",
       "| (33.7, Inf] | (-Inf,22]   |\n",
       "\n"
      ],
      "text/plain": [
       "  pjnk        P38      \n",
       "1 (33.7, Inf] (22,32.6]\n",
       "2 (33.7, Inf] (22,32.6]\n",
       "3 (-Inf,14.6] (-Inf,22]\n",
       "4 (33.7, Inf] (-Inf,22]\n",
       "5 (33.7, Inf] (-Inf,22]\n",
       "6 (33.7, Inf] (-Inf,22]"
      ]
     },
     "metadata": {},
     "output_type": "display_data"
    },
    {
     "data": {
      "text/plain": [
       "             P38\n",
       "pjnk          (-Inf,22] (22,32.6] (32.6,47.6] (47.6, Inf]\n",
       "  (-Inf,14.6]    0.0380    0.0127      0.0057      0.0210\n",
       "  (14.6,33.7]    0.0222    0.0074      0.0026      0.0000\n",
       "  (33.7, Inf]    0.1400    0.0578      0.0200      0.0028"
      ]
     },
     "metadata": {},
     "output_type": "display_data"
    }
   ],
   "source": [
    "# P(pjnk, P38 | evidence)\n",
    "set.seed(42)\n",
    "N = 10000\n",
    "samp1d2 = cpdist(BNmap, nodes = c(\"pjnk\", \"P38\"), evidence = (PKC == \"(-Inf,9.06]\"), n = N)\n",
    "head(samp1d2)\n",
    "table(samp1d2)/N"
   ]
  },
  {
   "cell_type": "markdown",
   "metadata": {},
   "source": [
    "### MAP inference with `gRain` functionalities\n",
    "\n",
    "\n",
    "Note that [`gRain`](http://people.math.aau.dk/~sorenh/software/gR/) performs exact inference using the junction tree algorithm."
   ]
  },
  {
   "cell_type": "code",
   "execution_count": 31,
   "metadata": {},
   "outputs": [
    {
     "name": "stdout",
     "output_type": "stream",
     "text": [
      "Independence network: Compiled: TRUE Propagated: FALSE \n",
      " Nodes : chr [1:11] \"praf\" \"pmek\" \"plcg\" \"PIP2\" \"PIP3\" \"p44.42\" \"pakts473\" \"PKA\" ...\n",
      " Number of cliques:                 6 \n",
      " Maximal clique size:               3 \n",
      " Maximal state space in cliques:   36 \n"
     ]
    }
   ],
   "source": [
    "junction = compile(as.grain(BNmap))\n",
    "summary(junction)"
   ]
  },
  {
   "cell_type": "markdown",
   "metadata": {},
   "source": [
    "#### Marginal distributions"
   ]
  },
  {
   "cell_type": "code",
   "execution_count": 32,
   "metadata": {},
   "outputs": [
    {
     "data": {
      "text/html": [
       "<dl class=dl-horizontal>\n",
       "\t<dt>(-Inf,14.6]</dt>\n",
       "\t\t<dd>0.334113973458236</dd>\n",
       "\t<dt>(14.6,33.7]</dt>\n",
       "\t\t<dd>0.334113973458236</dd>\n",
       "\t<dt>(33.7, Inf]</dt>\n",
       "\t\t<dd>0.331772053083529</dd>\n",
       "</dl>\n"
      ],
      "text/latex": [
       "\\begin{description*}\n",
       "\\item[(-Inf,14.6\\{{]}\\}] 0.334113973458236\n",
       "\\item[(14.6,33.7\\{{]}\\}] 0.334113973458236\n",
       "\\item[(33.7, Inf\\{{]}\\}] 0.331772053083529\n",
       "\\end{description*}\n"
      ],
      "text/markdown": [
       "(-Inf,14.6]\n",
       ":   0.334113973458236(14.6,33.7]\n",
       ":   0.334113973458236(33.7, Inf]\n",
       ":   0.331772053083529\n",
       "\n"
      ],
      "text/plain": [
       "pjnk\n",
       "(-Inf,14.6] (14.6,33.7] (33.7, Inf] \n",
       "  0.3341140   0.3341140   0.3317721 "
      ]
     },
     "metadata": {},
     "output_type": "display_data"
    }
   ],
   "source": [
    "# P(pjnk)\n",
    "QGinf1m1 = querygrain(junction, nodes = c(\"pjnk\"), type = \"marginal\")\n",
    "QGinf1m1$pjnk"
   ]
  },
  {
   "cell_type": "code",
   "execution_count": 33,
   "metadata": {},
   "outputs": [
    {
     "data": {
      "text/html": [
       "<dl class=dl-horizontal>\n",
       "\t<dt>(-Inf,14.6]</dt>\n",
       "\t\t<dd>0.224688473520249</dd>\n",
       "\t<dt>(14.6,33.7]</dt>\n",
       "\t\t<dd>0.10202492211838</dd>\n",
       "\t<dt>(33.7, Inf]</dt>\n",
       "\t\t<dd>0.673286604361371</dd>\n",
       "</dl>\n"
      ],
      "text/latex": [
       "\\begin{description*}\n",
       "\\item[(-Inf,14.6\\{{]}\\}] 0.224688473520249\n",
       "\\item[(14.6,33.7\\{{]}\\}] 0.10202492211838\n",
       "\\item[(33.7, Inf\\{{]}\\}] 0.673286604361371\n",
       "\\end{description*}\n"
      ],
      "text/markdown": [
       "(-Inf,14.6]\n",
       ":   0.224688473520249(14.6,33.7]\n",
       ":   0.10202492211838(33.7, Inf]\n",
       ":   0.673286604361371\n",
       "\n"
      ],
      "text/plain": [
       "pjnk\n",
       "(-Inf,14.6] (14.6,33.7] (33.7, Inf] \n",
       "  0.2246885   0.1020249   0.6732866 "
      ]
     },
     "metadata": {},
     "output_type": "display_data"
    }
   ],
   "source": [
    "# P(pjnk | evidence)\n",
    "junc_inf1m2 = setEvidence(junction, nodes = \"PKC\", states = \"(-Inf,9.06]\")\n",
    "QGinf1m2 = querygrain(junc_inf1m2, nodes = c(\"pjnk\"), type = \"marginal\")\n",
    "QGinf1m2$pjnk"
   ]
  },
  {
   "cell_type": "markdown",
   "metadata": {},
   "source": [
    "#### Joint distributions"
   ]
  },
  {
   "cell_type": "code",
   "execution_count": 34,
   "metadata": {},
   "outputs": [
    {
     "data": {
      "text/html": [
       "<table>\n",
       "<thead><tr><th></th><th scope=col>(-Inf,14.6]</th><th scope=col>(14.6,33.7]</th><th scope=col>(33.7, Inf]</th></tr></thead>\n",
       "<tbody>\n",
       "\t<tr><th scope=row>(-Inf,22]</th><td>0.07738095</td><td>0.03522639</td><td>0.14880952</td></tr>\n",
       "\t<tr><th scope=row>(22,32.6]</th><td>0.13592896</td><td>0.08557767</td><td>0.08206479</td></tr>\n",
       "\t<tr><th scope=row>(32.6,47.6]</th><td>0.08557767</td><td>0.14529664</td><td>0.04225215</td></tr>\n",
       "\t<tr><th scope=row>(47.6, Inf]</th><td>0.03522639</td><td>0.06801327</td><td>0.05864559</td></tr>\n",
       "</tbody>\n",
       "</table>\n"
      ],
      "text/latex": [
       "\\begin{tabular}{r|lll}\n",
       "  & (-Inf,14.6{]} & (14.6,33.7{]} & (33.7, Inf{]}\\\\\n",
       "\\hline\n",
       "\t(-Inf,22{]} & 0.07738095 & 0.03522639 & 0.14880952\\\\\n",
       "\t(22,32.6{]} & 0.13592896 & 0.08557767 & 0.08206479\\\\\n",
       "\t(32.6,47.6{]} & 0.08557767 & 0.14529664 & 0.04225215\\\\\n",
       "\t(47.6, Inf{]} & 0.03522639 & 0.06801327 & 0.05864559\\\\\n",
       "\\end{tabular}\n"
      ],
      "text/markdown": [
       "\n",
       "| <!--/--> | (-Inf,14.6] | (14.6,33.7] | (33.7, Inf] |\n",
       "|---|---|---|---|\n",
       "| (-Inf,22] | 0.07738095 | 0.03522639 | 0.14880952 |\n",
       "| (22,32.6] | 0.13592896 | 0.08557767 | 0.08206479 |\n",
       "| (32.6,47.6] | 0.08557767 | 0.14529664 | 0.04225215 |\n",
       "| (47.6, Inf] | 0.03522639 | 0.06801327 | 0.05864559 |\n",
       "\n"
      ],
      "text/plain": [
       "             pjnk\n",
       "P38           (-Inf,14.6] (14.6,33.7] (33.7, Inf]\n",
       "  (-Inf,22]   0.07738095  0.03522639  0.14880952 \n",
       "  (22,32.6]   0.13592896  0.08557767  0.08206479 \n",
       "  (32.6,47.6] 0.08557767  0.14529664  0.04225215 \n",
       "  (47.6, Inf] 0.03522639  0.06801327  0.05864559 "
      ]
     },
     "metadata": {},
     "output_type": "display_data"
    }
   ],
   "source": [
    "# P(pjnk, P38)\n",
    "QGinf1j1 = querygrain(junction, nodes = c(\"pjnk\", \"P38\"), type = \"joint\")\n",
    "QGinf1j1"
   ]
  },
  {
   "cell_type": "code",
   "execution_count": 35,
   "metadata": {},
   "outputs": [
    {
     "data": {
      "text/plain": [
       "             pjnk\n",
       "P38           (-Inf,14.6] (14.6,33.7] (33.7, Inf]\n",
       "  (-Inf,22]        0.0797      0.0338      0.1465\n",
       "  (22,32.6]        0.1405      0.0826      0.0822\n",
       "  (32.6,47.6]      0.0869      0.1469      0.0382\n",
       "  (47.6, Inf]      0.0343      0.0700      0.0584"
      ]
     },
     "metadata": {},
     "output_type": "display_data"
    }
   ],
   "source": [
    "# compare with bnlearn result (approximate inference)\n",
    "t(table(samp1d1)/N)"
   ]
  },
  {
   "cell_type": "code",
   "execution_count": 36,
   "metadata": {},
   "outputs": [
    {
     "data": {
      "text/html": [
       "<table>\n",
       "<thead><tr><th></th><th scope=col>(-Inf,14.6]</th><th scope=col>(14.6,33.7]</th><th scope=col>(33.7, Inf]</th></tr></thead>\n",
       "<tbody>\n",
       "\t<tr><th scope=row>(-Inf,22]</th><td>0.10874221  </td><td>7.019081e-02</td><td>0.427667445 </td></tr>\n",
       "\t<tr><th scope=row>(22,32.6]</th><td>0.03163941  </td><td>2.463006e-02</td><td>0.175330997 </td></tr>\n",
       "\t<tr><th scope=row>(32.6,47.6]</th><td>0.01762072  </td><td>7.106698e-03</td><td>0.063181464 </td></tr>\n",
       "\t<tr><th scope=row>(47.6, Inf]</th><td>0.06668614  </td><td>9.735202e-05</td><td>0.007106698 </td></tr>\n",
       "</tbody>\n",
       "</table>\n"
      ],
      "text/latex": [
       "\\begin{tabular}{r|lll}\n",
       "  & (-Inf,14.6{]} & (14.6,33.7{]} & (33.7, Inf{]}\\\\\n",
       "\\hline\n",
       "\t(-Inf,22{]} & 0.10874221   & 7.019081e-02 & 0.427667445 \\\\\n",
       "\t(22,32.6{]} & 0.03163941   & 2.463006e-02 & 0.175330997 \\\\\n",
       "\t(32.6,47.6{]} & 0.01762072   & 7.106698e-03 & 0.063181464 \\\\\n",
       "\t(47.6, Inf{]} & 0.06668614   & 9.735202e-05 & 0.007106698 \\\\\n",
       "\\end{tabular}\n"
      ],
      "text/markdown": [
       "\n",
       "| <!--/--> | (-Inf,14.6] | (14.6,33.7] | (33.7, Inf] |\n",
       "|---|---|---|---|\n",
       "| (-Inf,22] | 0.10874221   | 7.019081e-02 | 0.427667445  |\n",
       "| (22,32.6] | 0.03163941   | 2.463006e-02 | 0.175330997  |\n",
       "| (32.6,47.6] | 0.01762072   | 7.106698e-03 | 0.063181464  |\n",
       "| (47.6, Inf] | 0.06668614   | 9.735202e-05 | 0.007106698  |\n",
       "\n"
      ],
      "text/plain": [
       "             pjnk\n",
       "P38           (-Inf,14.6] (14.6,33.7]  (33.7, Inf]\n",
       "  (-Inf,22]   0.10874221  7.019081e-02 0.427667445\n",
       "  (22,32.6]   0.03163941  2.463006e-02 0.175330997\n",
       "  (32.6,47.6] 0.01762072  7.106698e-03 0.063181464\n",
       "  (47.6, Inf] 0.06668614  9.735202e-05 0.007106698"
      ]
     },
     "metadata": {},
     "output_type": "display_data"
    }
   ],
   "source": [
    "# P(pjnk, P38 | evidence)\n",
    "junc_inf1j2 = setEvidence(junction, nodes = \"PKC\", states = \"(-Inf,9.06]\")\n",
    "QGinf1j2 = querygrain(junc_inf1j2, nodes = c(\"pjnk\", \"P38\"), type = \"joint\")\n",
    "QGinf1j2"
   ]
  },
  {
   "cell_type": "markdown",
   "metadata": {},
   "source": [
    "#### Conditional distributions "
   ]
  },
  {
   "cell_type": "code",
   "execution_count": 37,
   "metadata": {},
   "outputs": [
    {
     "data": {
      "text/html": [
       "<table>\n",
       "<thead><tr><th></th><th scope=col>(-Inf,14.6]</th><th scope=col>(14.6,33.7]</th><th scope=col>(33.7, Inf]</th></tr></thead>\n",
       "<tbody>\n",
       "\t<tr><th scope=row>(-Inf,22]</th><td>0.2960060</td><td>0.1347518</td><td>0.5692423</td></tr>\n",
       "\t<tr><th scope=row>(22,32.6]</th><td>0.4477660</td><td>0.2819029</td><td>0.2703311</td></tr>\n",
       "\t<tr><th scope=row>(32.6,47.6]</th><td>0.3133262</td><td>0.5319757</td><td>0.1546981</td></tr>\n",
       "\t<tr><th scope=row>(47.6, Inf]</th><td>0.2176010</td><td>0.4201326</td><td>0.3622664</td></tr>\n",
       "</tbody>\n",
       "</table>\n"
      ],
      "text/latex": [
       "\\begin{tabular}{r|lll}\n",
       "  & (-Inf,14.6{]} & (14.6,33.7{]} & (33.7, Inf{]}\\\\\n",
       "\\hline\n",
       "\t(-Inf,22{]} & 0.2960060 & 0.1347518 & 0.5692423\\\\\n",
       "\t(22,32.6{]} & 0.4477660 & 0.2819029 & 0.2703311\\\\\n",
       "\t(32.6,47.6{]} & 0.3133262 & 0.5319757 & 0.1546981\\\\\n",
       "\t(47.6, Inf{]} & 0.2176010 & 0.4201326 & 0.3622664\\\\\n",
       "\\end{tabular}\n"
      ],
      "text/markdown": [
       "\n",
       "| <!--/--> | (-Inf,14.6] | (14.6,33.7] | (33.7, Inf] |\n",
       "|---|---|---|---|\n",
       "| (-Inf,22] | 0.2960060 | 0.1347518 | 0.5692423 |\n",
       "| (22,32.6] | 0.4477660 | 0.2819029 | 0.2703311 |\n",
       "| (32.6,47.6] | 0.3133262 | 0.5319757 | 0.1546981 |\n",
       "| (47.6, Inf] | 0.2176010 | 0.4201326 | 0.3622664 |\n",
       "\n"
      ],
      "text/plain": [
       "             pjnk\n",
       "P38           (-Inf,14.6] (14.6,33.7] (33.7, Inf]\n",
       "  (-Inf,22]   0.2960060   0.1347518   0.5692423  \n",
       "  (22,32.6]   0.4477660   0.2819029   0.2703311  \n",
       "  (32.6,47.6] 0.3133262   0.5319757   0.1546981  \n",
       "  (47.6, Inf] 0.2176010   0.4201326   0.3622664  "
      ]
     },
     "metadata": {},
     "output_type": "display_data"
    }
   ],
   "source": [
    "# P(pjnk | P38)\n",
    "QGinf1c1 = querygrain(junction, nodes = c(\"pjnk\", \"P38\"), type = \"conditional\")\n",
    "QGinf1c1"
   ]
  },
  {
   "cell_type": "code",
   "execution_count": 38,
   "metadata": {},
   "outputs": [
    {
     "data": {
      "text/html": [
       "<table>\n",
       "<thead><tr><th></th><th scope=col>(-Inf,14.6]</th><th scope=col>(14.6,33.7]</th><th scope=col>(33.7, Inf]</th></tr></thead>\n",
       "<tbody>\n",
       "\t<tr><th scope=row>(-Inf,22]</th><td>0.1792650  </td><td>0.115711764</td><td>0.70502327 </td></tr>\n",
       "\t<tr><th scope=row>(22,32.6]</th><td>0.1366120  </td><td>0.106347205</td><td>0.75704077 </td></tr>\n",
       "\t<tr><th scope=row>(32.6,47.6]</th><td>0.2004430  </td><td>0.080841639</td><td>0.71871539 </td></tr>\n",
       "\t<tr><th scope=row>(47.6, Inf]</th><td>0.9025033  </td><td>0.001317523</td><td>0.09617918 </td></tr>\n",
       "</tbody>\n",
       "</table>\n"
      ],
      "text/latex": [
       "\\begin{tabular}{r|lll}\n",
       "  & (-Inf,14.6{]} & (14.6,33.7{]} & (33.7, Inf{]}\\\\\n",
       "\\hline\n",
       "\t(-Inf,22{]} & 0.1792650   & 0.115711764 & 0.70502327 \\\\\n",
       "\t(22,32.6{]} & 0.1366120   & 0.106347205 & 0.75704077 \\\\\n",
       "\t(32.6,47.6{]} & 0.2004430   & 0.080841639 & 0.71871539 \\\\\n",
       "\t(47.6, Inf{]} & 0.9025033   & 0.001317523 & 0.09617918 \\\\\n",
       "\\end{tabular}\n"
      ],
      "text/markdown": [
       "\n",
       "| <!--/--> | (-Inf,14.6] | (14.6,33.7] | (33.7, Inf] |\n",
       "|---|---|---|---|\n",
       "| (-Inf,22] | 0.1792650   | 0.115711764 | 0.70502327  |\n",
       "| (22,32.6] | 0.1366120   | 0.106347205 | 0.75704077  |\n",
       "| (32.6,47.6] | 0.2004430   | 0.080841639 | 0.71871539  |\n",
       "| (47.6, Inf] | 0.9025033   | 0.001317523 | 0.09617918  |\n",
       "\n"
      ],
      "text/plain": [
       "             pjnk\n",
       "P38           (-Inf,14.6] (14.6,33.7] (33.7, Inf]\n",
       "  (-Inf,22]   0.1792650   0.115711764 0.70502327 \n",
       "  (22,32.6]   0.1366120   0.106347205 0.75704077 \n",
       "  (32.6,47.6] 0.2004430   0.080841639 0.71871539 \n",
       "  (47.6, Inf] 0.9025033   0.001317523 0.09617918 "
      ]
     },
     "metadata": {},
     "output_type": "display_data"
    }
   ],
   "source": [
    "# P(pjnk | P38, evidence)\n",
    "QGinf1c2 = querygrain(junc_inf1j2, nodes = c(\"pjnk\", \"P38\"), type = \"conditional\")\n",
    "QGinf1c2"
   ]
  },
  {
   "cell_type": "markdown",
   "metadata": {},
   "source": [
    "### Posterior inference accounting for parameters uncertainties\n",
    "\n",
    "Instead of using the MAP parameters to define the BN model, we may use the parameters distributions to draw realizations of the CTPs when needed, thus including parameters uncertainties in the model specification. This of cause has the implication that multiple realizations are needed in an inference setting. Using the `gRain` package and my toolbox `pLearningTools`, this may be implemented as follows...\n",
    "\n",
    "- PC: Table object of posterior counts for parametrizing conditional probability tables (CPTs) - local Dirichlet distributions."
   ]
  },
  {
   "cell_type": "code",
   "execution_count": 39,
   "metadata": {
    "scrolled": true
   },
   "outputs": [],
   "source": [
    "set.seed(42)\n",
    "\n",
    "N = 100\n",
    "Ppjnk1 = c()\n",
    "for (n in 1:N){\n",
    "    CPTsamp_i = myDirichletSampler(PC = PC) # //*pLearningTools*//\n",
    "    BNsamp_i = custom.fit(RES1$BN, dist = CPTsamp_i)\n",
    "    junc_i = compile(as.grain(BNsamp_i))\n",
    "    # P(pjnk)\n",
    "    QGinf_i = querygrain(junc_i, nodes = c(\"pjnk\"), type = \"marginal\")\n",
    "    # P(pjnk = \"(-Inf,14.6]\")\n",
    "    Ppjnk1 = c(Ppjnk1, QGinf_i$pjnk[1])\n",
    "}"
   ]
  },
  {
   "cell_type": "code",
   "execution_count": 40,
   "metadata": {},
   "outputs": [
    {
     "data": {
      "image/png": "[encoded data removed]",
      "text/plain": [
       "Plot with title “Histogram of Ppjnk1”"
      ]
     },
     "metadata": {},
     "output_type": "display_data"
    }
   ],
   "source": [
    "hist(Ppjnk1)"
   ]
  }
 ],
 "metadata": {
  "kernelspec": {
   "display_name": "R",
   "language": "R",
   "name": "ir"
  },
  "language_info": {
   "codemirror_mode": "r",
   "file_extension": ".r",
   "mimetype": "text/x-r-source",
   "name": "R",
   "pygments_lexer": "r",
   "version": "3.6.1"
  }
 },
 "nbformat": 4,
 "nbformat_minor": 4
}
