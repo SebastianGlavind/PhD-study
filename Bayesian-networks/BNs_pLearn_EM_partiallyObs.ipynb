{
 "cells": [
  {
   "cell_type": "markdown",
   "metadata": {},
   "source": [
    "# TUTORIAL ON THE TOOLBOX `pLearningTools`\n",
    "\n",
    "by Sebastian T. Glavind, June 2020\n",
    "\n",
    "# EM for parameter learning from partially observed data\n",
    "\n",
    "This notebook considers how to use the toolbox `pLearningTools` to learn the parameter distributions of a discrete Bayesian network model using the expectation-maximization (EM) algorithm, when the graph structure (DAG) and discretization policy for continuous variables are defined. The graph structure and discretization policy were found in a previous tutorial: *Dynamic discretization and structure learning from partially observed data*, which will be the basis for this tutorial.\n",
    "\n",
    "\n",
    "## Prelude"
   ]
  },
  {
   "cell_type": "code",
   "execution_count": 27,
   "metadata": {},
   "outputs": [],
   "source": [
    "library(bnlearn) # Package for learning bayesian networks (BNs)\n",
    "library(gRain) # The inplementation makes used of the gRain package for inference in the EM algorithm\n",
    "library(doParallel) # package for parallel computing\n",
    "source(\"../MyToolboxes/pLearningTools.R\") # load toolbox from source location"
   ]
  },
  {
   "cell_type": "markdown",
   "metadata": {},
   "source": [
    "## Data and input\n",
    "\n",
    "In this tutorial, we use the publicly available [sachs](https://www.bnlearn.com/book-crc/) data set.\n",
    "\n",
    "### Raw data"
   ]
  },
  {
   "cell_type": "code",
   "execution_count": 28,
   "metadata": {},
   "outputs": [],
   "source": [
    "DATA_org = read.table(\"../Discretize&sLearn/sachs.data.txt\", header = T) # load continuous data set (data frame) from source location\n",
    "DATA = DATA_org\n",
    "nodes = names(DATA) # variable names"
   ]
  },
  {
   "cell_type": "markdown",
   "metadata": {},
   "source": [
    "### Simulate missing data"
   ]
  },
  {
   "cell_type": "code",
   "execution_count": 29,
   "metadata": {},
   "outputs": [],
   "source": [
    "set.seed(123)\n",
    "\n",
    "m_DATA = as.matrix(DATA) # convert to matrix in order to perform matrix operations\n",
    "m_n_D = length(m_DATA); # length of the unfolded array nrow*ncol\n",
    "n_missing = floor(0.1*m_n_D) # no. of missing data\n",
    "id_missing = arrayInd(sample(m_n_D, size = n_missing, replace = F), dim(m_DATA)) # indices of missing data\n",
    "DATA[id_missing] = NA # convert input at these indices to NA"
   ]
  },
  {
   "cell_type": "markdown",
   "metadata": {},
   "source": [
    "### Discrete data, discretization boundaries and BN model (from previous tutorial)"
   ]
  },
  {
   "cell_type": "code",
   "execution_count": 30,
   "metadata": {},
   "outputs": [
    {
     "data": {
      "image/png": "[encoded data removed]",
      "text/plain": [
       "plot without title"
      ]
     },
     "metadata": {},
     "output_type": "display_data"
    }
   ],
   "source": [
    "load(\"BNs_sLearn_partiallyObs.rda\")\n",
    "\n",
    "plot(RES1$BN)"
   ]
  },
  {
   "cell_type": "code",
   "execution_count": 31,
   "metadata": {},
   "outputs": [
    {
     "data": {
      "text/plain": [
       "          praf              pmek              plcg              PIP2    \n",
       " (-Inf,40.7]:264   (-Inf,17.9]:190   (-Inf,13.2]:257   (-Inf,80.2]:494  \n",
       " (40.7,65.5]:254   (17.9,24.9]:212   (13.2,20.7]:255   (80.2,146] :159  \n",
       " (65.5, Inf]:254   (24.9,56]  :325   (20.7, Inf]:255   (146, Inf] :112  \n",
       " NA's       : 81   (56, Inf]  : 49   NA's       : 86   NA's       : 88  \n",
       "                   NA's       : 77                                      \n",
       "                                                                        \n",
       "          PIP3             p44.42           pakts473           PKA     \n",
       " (-Inf,16.1]:257   (-Inf,9.61]:235   (-Inf,22.9]:259   (-Inf,134]: 25  \n",
       " (16.1,32.8]:248   (9.61,15.1]:157   (22.9,35.5]:259   (134,688] :565  \n",
       " (32.8, Inf]:250   (15.1,28.2]:264   (35.5, Inf]:254   (688, Inf]:182  \n",
       " NA's       : 98   (28.2, Inf]:112   NA's       : 81   NA's      : 81  \n",
       "                   NA's       : 85                                     \n",
       "                                                                       \n",
       "          PKC               P38               pjnk    \n",
       " (-Inf,9.01]:257   (-Inf,19.9]:158   (-Inf,14.9]:259  \n",
       " (9.01,18.2]:257   (19.9,24.5]:104   (14.9,34.3]:249  \n",
       " (18.2, Inf]:257   (24.5,32.6]:176   (34.3, Inf]:252  \n",
       " NA's       : 82   (32.6,41.6]:153   NA's       : 93  \n",
       "                   (41.6, Inf]:176                    \n",
       "                   NA's       : 86                    "
      ]
     },
     "metadata": {},
     "output_type": "display_data"
    }
   ],
   "source": [
    "summary(RES1$dDATA, maxsum = 20)"
   ]
  },
  {
   "cell_type": "markdown",
   "metadata": {},
   "source": [
    "## Parameter learning\n",
    "\n",
    "Having defined the graph structure and discretization, we can quantify the model parameters using Bayesian statistics with the Dirichlet equivalent uniform priors. In this regard we assume both global and local parameter independence, see e.g. Koller and Friedman (2009) for further details. Moreover, due to the missing data in this example, we will need to assume a missingness mechanism, and employ a learning algorithm that can deal with missing data. In this tutorial, we will assume that the data is missing at random and employ the expectation-maximization (EM) learning algorithm, see e.g. Koller and Friedman (2009) for further details.\n",
    "\n",
    "***\n",
    "D. Koller and N. Friedman, Probabilistic graphical models: principles and techniques. MIT Press, 2009.\n",
    "***\n",
    "\n",
    "### EM for maximum a-posteriori (MAP) parameter inference using `pLearningTools`\n",
    "\n",
    "- BN: Graph structure (DAG) of class bn (bnlearn)\n",
    "- dDATA: Discrete data set with missings\n",
    "- n_iss: Imaginary sample size for Bayesian Dirichlet equivalent uniform prior, see e.g. Ueno (2010)\n",
    "- no_cores: number of cores to use\n",
    "- FITTED: bn.fit object, iff NULL (parm. initialized at random), iff RES1(FITTED) (initialized as parm. from sLearning)\n",
    "- quiet: Print progress report, Iff = FALSE (related to discretize_all_oneIt)\n",
    "- tol: Error tolerance for parameter convergence (all parameters)\n",
    "- max_ite: Maximum number of EM iterations\n",
    "\n",
    "***\n",
    "M.  Ueno,  “Learning  networks  determined  by  the  ratio  of  prior  and  data,”  in Proceedings of 26th Conference on Uncertainty in Artificial Intelligence, 2010, pp. 1–8\n",
    "***"
   ]
  },
  {
   "cell_type": "code",
   "execution_count": 32,
   "metadata": {},
   "outputs": [],
   "source": [
    "scale_iss = 1 # current recommendation, see Ueno (2010)\n",
    "quiet = T\n",
    "no_cores <- detectCores() - 2\n",
    "FITTED0=RES1$FITTED \n",
    "max_ite = length(nodes)*3\n",
    "tol = 1e-7"
   ]
  },
  {
   "cell_type": "markdown",
   "metadata": {},
   "source": [
    "#### EM algorithm"
   ]
  },
  {
   "cell_type": "code",
   "execution_count": 33,
   "metadata": {},
   "outputs": [],
   "source": [
    "# This implementation should work on both Windows and Linux\n",
    "RESem = EM_multicore(BN=RES1$BN, dDATA=RES1$dDATA, n_iss=scale_iss, no_cores=no_cores, FITTED=FITTED0, quiet=quiet,\n",
    "                     tol=tol, max_ite=max_ite) # //*pLearningTools*//"
   ]
  },
  {
   "cell_type": "markdown",
   "metadata": {},
   "source": [
    "#### Results"
   ]
  },
  {
   "cell_type": "code",
   "execution_count": 34,
   "metadata": {
    "scrolled": false
   },
   "outputs": [
    {
     "name": "stdout",
     "output_type": "stream",
     "text": [
      "[1] \"Converged:  TRUE\"\n"
     ]
    },
    {
     "data": {
      "text/plain": [
       "\n",
       "  Bayesian network parameters\n",
       "\n",
       "  Parameters of node praf (multinomial distribution)\n",
       "\n",
       "Conditional probability table:\n",
       " praf\n",
       "(-Inf,40.7] (40.7,65.5] (65.5, Inf] \n",
       "  0.3380747   0.3302778   0.3316475 \n",
       "\n",
       "  Parameters of node pmek (multinomial distribution)\n",
       "\n",
       "Conditional probability table:\n",
       " \n",
       "             praf\n",
       "pmek           (-Inf,40.7]  (40.7,65.5]  (65.5, Inf]\n",
       "  (-Inf,17.9] 0.5650788542 0.1455482689 0.0169250782\n",
       "  (17.9,24.9] 0.2892868632 0.4085917826 0.1251335425\n",
       "  (24.9,56]   0.1452823478 0.4410827531 0.6736894957\n",
       "  (56, Inf]   0.0003519348 0.0047771954 0.1842518836\n",
       "\n",
       "  Parameters of node plcg (multinomial distribution)\n",
       "\n",
       "Conditional probability table:\n",
       " plcg\n",
       "(-Inf,13.2] (13.2,20.7] (20.7, Inf] \n",
       "  0.3350694   0.3324653   0.3324653 \n",
       "\n",
       "  Parameters of node PIP2 (multinomial distribution)\n",
       "\n",
       "Conditional probability table:\n",
       " PIP2\n",
       "(-Inf,80.2]  (80.2,146]  (146, Inf] \n",
       "  0.6451490   0.2077177   0.1471332 \n",
       "\n",
       "  Parameters of node PIP3 (multinomial distribution)\n",
       "\n",
       "Conditional probability table:\n",
       " \n",
       "             PIP2\n",
       "PIP3          (-Inf,80.2] (80.2,146] (146, Inf]\n",
       "  (-Inf,16.1]  0.44757763 0.19034228 0.07200962\n",
       "  (16.1,32.8]  0.29607175 0.53717150 0.18237174\n",
       "  (32.8, Inf]  0.25635062 0.27248622 0.74561864\n",
       "\n",
       "  Parameters of node p44.42 (multinomial distribution)\n",
       "\n",
       "Conditional probability table:\n",
       " \n",
       "             pakts473\n",
       "p44.42         (-Inf,22.9]  (22.9,35.5]  (35.5, Inf]\n",
       "  (-Inf,9.61] 0.6970023100 0.1718597519 0.0277181871\n",
       "  (9.61,15.1] 0.2597088149 0.2691588305 0.0794442542\n",
       "  (15.1,28.2] 0.0429433902 0.5545854146 0.4425568336\n",
       "  (28.2, Inf] 0.0003454849 0.0043960031 0.4502807250\n",
       "\n",
       "  Parameters of node pakts473 (multinomial distribution)\n",
       "\n",
       "Conditional probability table:\n",
       " pakts473\n",
       "(-Inf,22.9] (22.9,35.5] (35.5, Inf] \n",
       "  0.3370856   0.3370431   0.3258713 \n",
       "\n",
       "  Parameters of node PKA (multinomial distribution)\n",
       "\n",
       "Conditional probability table:\n",
       " \n",
       ", , pakts473 = (-Inf,22.9]\n",
       "\n",
       "            p44.42\n",
       "PKA           (-Inf,9.61]  (9.61,15.1]  (15.1,28.2]  (28.2, Inf]\n",
       "  (-Inf,134] 0.1108270147 0.0004337690 0.0028818103 0.2945333916\n",
       "  (134,688]  0.7917781342 0.9435764239 0.9932503710 0.3224189320\n",
       "  (688, Inf] 0.0973948511 0.0559898071 0.0038678187 0.3830476764\n",
       "\n",
       ", , pakts473 = (22.9,35.5]\n",
       "\n",
       "            p44.42\n",
       "PKA           (-Inf,9.61]  (9.61,15.1]  (15.1,28.2]  (28.2, Inf]\n",
       "  (-Inf,134] 0.0269412392 0.0004223018 0.0001917248 0.0221843352\n",
       "  (134,688]  0.4856037699 0.9376113435 0.9318401532 0.9532498744\n",
       "  (688, Inf] 0.4874549908 0.0619663547 0.0679681220 0.0245657904\n",
       "\n",
       ", , pakts473 = (35.5, Inf]\n",
       "\n",
       "            p44.42\n",
       "PKA           (-Inf,9.61]  (9.61,15.1]  (15.1,28.2]  (28.2, Inf]\n",
       "  (-Inf,134] 0.3147929275 0.0521811113 0.0002538144 0.0002386204\n",
       "  (134,688]  0.1667971134 0.2547961939 0.7164113274 0.3499622526\n",
       "  (688, Inf] 0.5184099591 0.6930226947 0.2833348582 0.6497991270\n",
       "\n",
       "\n",
       "  Parameters of node PKC (multinomial distribution)\n",
       "\n",
       "Conditional probability table:\n",
       " PKC\n",
       "(-Inf,9.01] (9.01,18.2] (18.2, Inf] \n",
       "  0.3329801   0.3355137   0.3315061 \n",
       "\n",
       "  Parameters of node P38 (multinomial distribution)\n",
       "\n",
       "Conditional probability table:\n",
       " \n",
       "             PKC\n",
       "P38           (-Inf,9.01] (9.01,18.2] (18.2, Inf]\n",
       "  (-Inf,19.9] 0.514221121 0.091909726 0.004620994\n",
       "  (19.9,24.5] 0.190085865 0.208610562 0.004681794\n",
       "  (24.5,32.6] 0.127354698 0.468170472 0.090008853\n",
       "  (32.6,41.6] 0.062013089 0.188068593 0.353166671\n",
       "  (41.6, Inf] 0.106325227 0.043240646 0.547521688\n",
       "\n",
       "  Parameters of node pjnk (multinomial distribution)\n",
       "\n",
       "Conditional probability table:\n",
       " \n",
       "             PKC\n",
       "pjnk          (-Inf,9.01] (9.01,18.2] (18.2, Inf]\n",
       "  (-Inf,14.9]   0.2069471   0.5558813   0.2558524\n",
       "  (14.9,34.3]   0.1127839   0.3041541   0.5697840\n",
       "  (34.3, Inf]   0.6802690   0.1399647   0.1743636\n"
      ]
     },
     "metadata": {},
     "output_type": "display_data"
    }
   ],
   "source": [
    "print(paste(\"Converged: \", RESem$n_ite < max_ite)) # access convergence\n",
    "RESem$FITTED # EM-based bn.fit\n",
    "# RESem$PC # corr. posterior counts"
   ]
  },
  {
   "cell_type": "markdown",
   "metadata": {},
   "source": [
    "### Endnotes\n",
    "\n",
    "The fitted objects can now be used for inference in the fully specified BN model (graph and parameters), either using the FITTED-object for MAP inference, of using the PC-object to account for parameter uncertainties in the inferences. Using the PC-object of the last stage of EM is equivalent to employing a special case of variational inference, see e.g. Bishop (2006), Koller and Friedman (2009) and Gelman et al. (2013).\n",
    "\n",
    "The details on how to conduct inference in Bayesian networks are covered in the tutorial on inference in Bayesian networks (*Inference with general bn.fit objects*), but two small examples are given below.\n",
    "\n",
    "***\n",
    "C. M. Bishop, Pattern recognition and machine learning. Springer, 2006.\n",
    "\n",
    "D. Koller and N. Friedman, Probabilistic graphical models: principles and techniques.\n",
    "MIT Press, 2009.\n",
    "\n",
    "A. Gelman, J. B. Carlin, H. S. Stern, D. B. Dunson, A. Vehtari, and D. B. Rubin,\n",
    "Bayesian data analysis. CRC press, 2013.\n",
    "***\n",
    "\n",
    "#### Small example on MAP inference using the `gRain` package"
   ]
  },
  {
   "cell_type": "code",
   "execution_count": 35,
   "metadata": {},
   "outputs": [
    {
     "name": "stdout",
     "output_type": "stream",
     "text": [
      "Independence network: Compiled: TRUE Propagated: FALSE \n",
      " Nodes : chr [1:11] \"praf\" \"pmek\" \"plcg\" \"PIP2\" \"PIP3\" \"p44.42\" \"pakts473\" \"PKA\" ...\n",
      " Number of cliques:                 6 \n",
      " Maximal clique size:               3 \n",
      " Maximal state space in cliques:   36 \n"
     ]
    }
   ],
   "source": [
    "junction = compile(as.grain(RESem$FITTED)) # gRain object - junction tree\n",
    "summary(junction)"
   ]
  },
  {
   "cell_type": "code",
   "execution_count": 36,
   "metadata": {},
   "outputs": [
    {
     "data": {
      "text/html": [
       "<dl class=dl-horizontal>\n",
       "\t<dt>(-Inf,14.9]</dt>\n",
       "\t\t<dd>0.340231691359832</dd>\n",
       "\t<dt>(14.9,34.3]</dt>\n",
       "\t\t<dd>0.328489535831422</dd>\n",
       "\t<dt>(34.3, Inf]</dt>\n",
       "\t\t<dd>0.331278772808746</dd>\n",
       "</dl>\n"
      ],
      "text/latex": [
       "\\begin{description*}\n",
       "\\item[(-Inf,14.9\\{{]}\\}] 0.340231691359832\n",
       "\\item[(14.9,34.3\\{{]}\\}] 0.328489535831422\n",
       "\\item[(34.3, Inf\\{{]}\\}] 0.331278772808746\n",
       "\\end{description*}\n"
      ],
      "text/markdown": [
       "(-Inf,14.9]\n",
       ":   0.340231691359832(14.9,34.3]\n",
       ":   0.328489535831422(34.3, Inf]\n",
       ":   0.331278772808746\n",
       "\n"
      ],
      "text/plain": [
       "pjnk\n",
       "(-Inf,14.9] (14.9,34.3] (34.3, Inf] \n",
       "  0.3402317   0.3284895   0.3312788 "
      ]
     },
     "metadata": {},
     "output_type": "display_data"
    }
   ],
   "source": [
    "# Query: P(pjnk)\n",
    "QGinf1m1 = querygrain(junction, nodes = c(\"pjnk\"), type = \"marginal\")\n",
    "QGinf1m1$pjnk"
   ]
  },
  {
   "cell_type": "markdown",
   "metadata": {},
   "source": [
    "#### Small example on posterior inference accounting for parameters uncertainties"
   ]
  },
  {
   "cell_type": "code",
   "execution_count": 37,
   "metadata": {},
   "outputs": [],
   "source": [
    "#  Query: P(pjnk = \"(-Inf,14.6]\")\n",
    "N = 100\n",
    "Ppjnk1 = c()\n",
    "for (n in 1:N){\n",
    "    CPTsamp_i = myDirichletSampler(PC = RESem$PC) # //*pLearningTools*//\n",
    "    BNsamp_i = custom.fit(RES1$BN, dist = CPTsamp_i)\n",
    "    junc_i = compile(as.grain(BNsamp_i))\n",
    "    # P(pjnk)\n",
    "    QGinf_i = querygrain(junc_i, nodes = c(\"pjnk\"), type = \"marginal\")\n",
    "    # P(pjnk = \"(-Inf,14.6]\")\n",
    "    Ppjnk1 = c(Ppjnk1, QGinf_i$pjnk[1])\n",
    "}"
   ]
  },
  {
   "cell_type": "code",
   "execution_count": 38,
   "metadata": {},
   "outputs": [
    {
     "data": {
      "image/png": "[encoded data removed]",
      "text/plain": [
       "Plot with title “Histogram of Ppjnk1”"
      ]
     },
     "metadata": {},
     "output_type": "display_data"
    }
   ],
   "source": [
    "hist(Ppjnk1)"
   ]
  },
  {
   "cell_type": "code",
   "execution_count": 39,
   "metadata": {},
   "outputs": [],
   "source": [
    "# save(RESem,file='BNs_pLearn_EM_partiallyObs.rda')"
   ]
  }
 ],
 "metadata": {
  "kernelspec": {
   "display_name": "R",
   "language": "R",
   "name": "ir"
  },
  "language_info": {
   "codemirror_mode": "r",
   "file_extension": ".r",
   "mimetype": "text/x-r-source",
   "name": "R",
   "pygments_lexer": "r",
   "version": "3.6.1"
  }
 },
 "nbformat": 4,
 "nbformat_minor": 4
}
