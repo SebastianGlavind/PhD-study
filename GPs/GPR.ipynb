{
 "cells": [
  {
   "cell_type": "markdown",
   "metadata": {},
   "source": [
    "# A TUTORIAL ON GAUSSIAN PROCESS REGRESSION\n",
    "\n",
    "by Sebastian T. Glavind, May, 2020\n"
   ]
  },
  {
   "cell_type": "code",
   "execution_count": 66,
   "metadata": {},
   "outputs": [],
   "source": [
    "import numpy as np\n",
    "import math\n",
    "import GPy\n",
    "import scipy.stats as ss\n",
    "import scipy.special as ssp\n",
    "import seaborn as sns\n",
    "import pandas as pd\n",
    "import pickle\n",
    "from matplotlib import pyplot as plt\n",
    "%matplotlib inline"
   ]
  },
  {
   "cell_type": "markdown",
   "metadata": {},
   "source": [
    "# Single-output Gaussian Process Regression\n",
    "\n",
    "See Rasmussen and Williams (2006) for a reference on Gaussian processes.\n",
    "\n",
    "## The model\n",
    "\n",
    "In this section, we consider the following definition for a regression of some response variable $y$ based on covariate(s) $\\mathbf{x}$:\n",
    "\n",
    "$$y = f(\\mathbf{x}) + \\epsilon,$$\n",
    "\n",
    "where we assume that the observed $y$'s differ from the functional values $f(\\mathbf{x})$ by additive noise $\\epsilon$. In the following sections, we show how the functional relationship $f$ may be established by use of Gaussian process regression. First, we introduce Gaussian processes in a single output setting (this section); and second, we proceed to cover the multi-output setting (next section).\n",
    "\n",
    "We start by assuming that $f$ is a non-linear, non-parametric function with a GP prior:\n",
    "\n",
    "$$f(\\mathbf{x}) \\sim \\mathcal{GP}(m(\\mathbf{x}), k(\\mathbf{x}, \\mathbf{x}')),$$\n",
    "\n",
    "where $m(\\mathbf{x}) = \\mathbb{E}[f(\\mathbf{x})]$ is the expected value function, and $k(\\mathbf{x},\\mathbf{x}') = \\text{cov}[f(\\mathbf{x}), f(\\mathbf{x}')]$ is the positive definite covariance or kernel function.\n",
    "\n",
    "Given a data set $\\mathcal{D} = \\{ \\mathbf{X}, \\mathbf{y} \\} = \\{ \\mathbf{x}[n], y[n] \\}_{n=1}^N$ of (potentially) vector-valued inputs and scalar outputs, we construct the GP prior by evaluating the mean and covariance function at the data points, which leads to a multivariate Gaussian distribution over the corresponding function values:\n",
    "\n",
    "$$f(\\mathbf{X}) \\sim \\mathcal{N}(m(\\mathbf{X}),k(\\mathbf{X},\\mathbf{X})), $$\n",
    "\n",
    "where $f(\\mathbf{X})=\\{ f(\\mathbf{x}[n]) \\}_{n=1}^N$. Under proper normalization of the data, the expected value of the process can be assumed to be zero without lose of generality, and the covariance function should then capture basic aspects of the process, such as stationarity and smoothness.\n",
    "\n",
    "If we further assume the noise process to be Gaussian white noise, the output observations $\\mathbf{y}$ and the functional evaluation $f(\\mathbf{x}_{\\star})$ at a new test point $\\mathbf{x}_{\\star}$ are jointly Gaussian, and by application of the standard rules for conditioning of Gaussian distributed random variables, we arrive at a closed-form expression for the predictive distribution of $f(\\mathbf{x}_{\\star})$:\n",
    "\n",
    "$$ p(f(\\mathbf{x}_{\\star})|\\mathcal{D},\\mathbf{x}_{\\star}, \\Theta) = \\mathcal{N}(f_{\\star}(\\mathbf{x}_{\\star}), k_{\\star}(\\mathbf{x}_{\\star}, \\mathbf{x}_{\\star}) ), $$\n",
    "\n",
    "where $\\Theta$ denotes the set of model parameters, and $f_{\\star}$ and $k_{\\star}$ are defined as\n",
    "\n",
    "$$  f_{\\star}(\\mathbf{x}_{\\star}) = \\mathbf{k}_{\\mathbf{x}_{\\star}}^T (k(\\mathbf{X}, \\mathbf{X}) + \\sigma^2\\mathbf{I} )^{-1} \\mathbf{y}, $$\n",
    "\n",
    "$$ k_{\\star}(\\mathbf{x}_{\\star}, \\mathbf{x}_{\\star}) = k(\\mathbf{x}_{\\star},\\mathbf{x}_{\\star}) - \\mathbf{k}_{\\mathbf{x}_{\\star}}^T (k(\\mathbf{X}, \\mathbf{X}) + \\sigma^2\\mathbf{I} )^{-1} \\mathbf{k}_{\\mathbf{x}_{\\star}} $$\n",
    "\n",
    "with $\\mathbf{k}_{\\mathbf{x}_{\\star}}$ as a shorthand notation for $k(\\mathbf{X},\\mathbf{x}_{\\star})$, and $\\mathbf{I}$ is the identity matrix.\n",
    "\n",
    "***\n",
    "\n",
    "C. E. Rasmussen, C. K. Williams, Gaussian processes for machine learning, MIT press, 2006.\n",
    "\n",
    "***"
   ]
  },
  {
   "cell_type": "markdown",
   "metadata": {},
   "source": [
    "## Sample data\n",
    "\n",
    "The example in this tutorial is inspired by Katherine Bailey's excellent, introductory blog post on GP regression: https://katbailey.github.io/post/gaussian-processes-for-dummies/ ."
   ]
  },
  {
   "cell_type": "code",
   "execution_count": 67,
   "metadata": {},
   "outputs": [
    {
     "data": {
      "image/png": "[encoded data removed]",
      "text/plain": [
       "<Figure size 432x288 with 1 Axes>"
      ]
     },
     "metadata": {
      "needs_background": "light"
     },
     "output_type": "display_data"
    }
   ],
   "source": [
    "# Noise free/Noisy training data\n",
    "np.random.seed(42)\n",
    "nX_tr = 20 # no. of training points\n",
    "std_y = 1e-1 # if noise free set to 1e-4 for numerical stability; corr. var = 1e-16 addition along diagonal\n",
    "Xtrain = np.random.uniform(low=-4, high=1, size=(nX_tr,1)).reshape(-1,1) # input\n",
    "ytrain = np.sin(Xtrain) + std_y*np.random.normal(size=(nX_tr,1)) # output (sin function)\n",
    "\n",
    "# Test data\n",
    "nX_te = 50 # no. of test points\n",
    "Xtest = np.linspace(-5, 5, nX_te).reshape(-1,1) # input\n",
    "ytest = np.sin(Xtest) + std_y*np.random.normal(size=(nX_te,1)) # output (sin function)\n",
    "\n",
    "# plot\n",
    "plt.plot(Xtrain, ytrain, 'bs', ms=6);\n",
    "plt.plot(Xtest, ytest, 'gs', ms=3);\n",
    "plt.xlabel('x');\n",
    "plt.ylabel('y');\n",
    "plt.title('Training set');"
   ]
  },
  {
   "cell_type": "markdown",
   "metadata": {},
   "source": [
    "## Kernel function\n",
    "\n",
    "We will study the squared exponential kernel, which for one-dimensional input reads\n",
    "\n",
    "$$ k(x,x') =  \\sigma_f^2 \\exp\\left( - \\frac{(x-x')^2}{2 l^2} \\right) $$"
   ]
  },
  {
   "cell_type": "code",
   "execution_count": 68,
   "metadata": {},
   "outputs": [],
   "source": [
    "# Kernel function: Squared exponential (SE)\n",
    "# Param is length scale squared\n",
    "def se_kern(x, y, sig_f, l_f):\n",
    "    sqdist = np.sum(x**2,1).reshape(-1,1) + np.sum(y**2,1) - 2*np.dot(x, y.T) # reshape(-1,1): from one-dim. to two-dim. array.\n",
    "    K = sig_f**2 * np.exp( -0.5 * sqdist / (l_f**2) )\n",
    "    return(K)\n",
    "\n",
    "# # test implementation - OK\n",
    "# def se_kern2(x, y, sig_f, l_f):\n",
    "#     n1 = x.shape[0]\n",
    "#     n2 = y.shape[0]\n",
    "#     K = np.zeros((n1,n2))\n",
    "#     for i in range(n1):\n",
    "#         for j in range(n2):\n",
    "#             K[i,j] = sig_f**2 * np.exp( -0.5 * (x[i]-y[j])**2 / (l_f**2) )\n",
    "#     return(K)\n",
    "                    \n",
    "# kk1=se_kern(Xtrain, ytrain, 1., 2.)\n",
    "# kk2=se_kern2(Xtrain, ytrain, 1., 2.)\n",
    "# (np.round(kk1,12)==np.round(kk2,12)).all()"
   ]
  },
  {
   "cell_type": "code",
   "execution_count": 69,
   "metadata": {},
   "outputs": [],
   "source": [
    "amplitude = 1; length_scale=1\n",
    "K = se_kern(Xtrain, Xtrain, amplitude, length_scale)\n",
    "K_s = se_kern(Xtrain, Xtest, amplitude, length_scale)\n",
    "K_ss = se_kern(Xtest, Xtest, amplitude, length_scale)"
   ]
  },
  {
   "cell_type": "markdown",
   "metadata": {},
   "source": [
    "## Samples from the prior\n",
    "\n",
    "We can sample from prior at test points:\n",
    "\n",
    "$$ f(\\mathbf{X}_{\\star}) \\sim m(\\mathbf{X}_{\\star}) + \\mathbf{L}\\mathcal{N}(\\boldsymbol0, \\mathbf{I}), $$\n",
    "\n",
    "where $k(\\mathbf{X}_{\\star},\\mathbf{X}_{\\star}) = \\mathbf{L}^T\\mathbf{L}$, i.e. $\\mathbf{L}$ may be found by the Cholesky decomposition, and $m(\\mathbf{X}_{\\star})=0$ may be assumed without loss of generality."
   ]
  },
  {
   "cell_type": "code",
   "execution_count": 70,
   "metadata": {},
   "outputs": [
    {
     "data": {
      "image/png": "[encoded data removed]",
      "text/plain": [
       "<Figure size 432x288 with 1 Axes>"
      ]
     },
     "metadata": {
      "needs_background": "light"
     },
     "output_type": "display_data"
    }
   ],
   "source": [
    "# Get cholesky decomposition (square root) of the\n",
    "# covariance matrix\n",
    "eps=1e-8\n",
    "L_pri = np.linalg.cholesky(K_ss + eps*np.eye(nX_te)) # add a litte jitter for numerical stability\n",
    "\n",
    "# Sample 3 sets of standard normals for our test points,\n",
    "# multiply them by the square root of the covariance matrix\n",
    "n_samp_pri = 3\n",
    "f_pri = np.dot(L_pri, np.random.normal(size=(nX_te,n_samp_pri)))\n",
    "\n",
    "# Now let's plot the 3 sampled functions.\n",
    "plt.plot(Xtest, f_pri)\n",
    "plt.plot(Xtrain, ytrain, 'bs', ms=6);\n",
    "plt.plot(Xtest, ytest, 'gs', ms=3);\n",
    "plt.xlabel('x');\n",
    "plt.ylabel('y');\n",
    "plt.axis([-5, 5, -3, 3])\n",
    "plt.title('Samples from the GP prior along with the training points');\n",
    "# plt.show()"
   ]
  },
  {
   "cell_type": "markdown",
   "metadata": {},
   "source": [
    "## Samples from the posterior\n",
    "\n",
    "If we condition on the training data, we can also sample from the posterior, as explained in the introduction. We further show the 95\\% Bayesian credible interval of the posterior model."
   ]
  },
  {
   "cell_type": "code",
   "execution_count": 71,
   "metadata": {},
   "outputs": [
    {
     "name": "stdout",
     "output_type": "stream",
     "text": [
      "Log marginal likelihood:  [[4.94933208]]\n"
     ]
    },
    {
     "data": {
      "image/png": "[encoded data removed]",
      "text/plain": [
       "<Figure size 432x288 with 1 Axes>"
      ]
     },
     "metadata": {
      "needs_background": "light"
     },
     "output_type": "display_data"
    }
   ],
   "source": [
    "# Apply the kernel function to our training points\n",
    "L = np.linalg.cholesky(K + np.eye(nX_tr)*std_y**2)\n",
    "\n",
    "# predictive mean\n",
    "alp_m = np.linalg.solve(L.T,np.linalg.solve(L, ytrain))\n",
    "mu_pos = np.dot(K_s.T, alp_m)\n",
    "\n",
    "# predictive variance\n",
    "vv_m = np.linalg.solve(L,K_s)\n",
    "cov_pos = K_ss - vv_m.T.dot(vv_m)\n",
    "std_pos = (np.diag(cov_pos)**(0.5)).reshape(-1,1) # may need abs as variance is zero at training points (no error), which may be encoded as -0 (no allowed)\n",
    "\n",
    "# Draw samples from the posterior at our test points.\n",
    "n_samp_pos = 3\n",
    "L_pos = np.linalg.cholesky(cov_pos + eps*np.eye(nX_te))\n",
    "f_pos = mu_pos + np.dot(L_pos, np.random.normal(size=(nX_te,n_samp_pos)))\n",
    "\n",
    "plt.plot(Xtrain, ytrain, 'bs', ms=6)\n",
    "plt.plot(Xtest, ytest, 'gs', ms=3);\n",
    "plt.plot(Xtest, f_pos);\n",
    "plt.fill_between(x=Xtest[:,0], y1=mu_pos[:,0]-2*std_pos[:,0], y2=mu_pos[:,0]+2*std_pos[:,0], alpha=0.1, color='blue');\n",
    "plt.plot(Xtest, mu_pos, 'r--', lw=2)\n",
    "plt.axis([-5, 5, -3, 3]);\n",
    "plt.title('Samples from the GP posterior along with the training ');\n",
    "# plt.show()\n",
    "\n",
    "print('Log marginal likelihood: ', - 0.5 * ytrain.T.dot( alp_m ) - np.sum( np.log( np.diag(L) ) ) \n",
    "      - 0.5 * nX_tr * np.log(2*np.pi) )"
   ]
  },
  {
   "cell_type": "markdown",
   "metadata": {},
   "source": [
    "## Parameter learning: Maximum likelihood estimation using gradient decent\n",
    "\n",
    "See Rasmussen and Williams (2006) for a reference on MLE for Gaussian processes, and e.g. Bishop(2006; Sec. 3.1.3) or Theodoridis(2020; Sec. 5.1 - 5.4) for a reference on gradient decent.\n",
    "\n",
    "We will consider how to find a maxium (marginal) likelihood estimate (MLE) of the parameters using gradient decent (GD) - actually we will perform gradient accent as we are maximizing the log likelihood instead of minimizing its negation, as it is common in the optimization literature.\n",
    "\n",
    "The log $\\underline{\\text{marginal}}$  likelihood of the data is\n",
    "\n",
    "$$ \\log p(\\mathbf{y}|\\mathbf{X}) = \\log \\mathcal{N}(\\boldsymbol0, \\mathbf{K}_y) = - \\frac{1}{2} \\mathbf{y}^T \\mathbf{K}_y^{-1} \\mathbf{y} - \\frac{1}{2} \\log | \\mathbf{K}_y | - \\frac{N}{2} \\log 2 \\pi =  - \\frac{1}{2} \\mathbf{y}^T \\boldsymbol\\alpha - \\sum_i \\log \\mathbf{L}_{ii} - \\frac{N}{2} \\log 2 \\pi$$ \n",
    "\n",
    "where $\\mathbf{K}_y = k(\\mathbf{X},\\mathbf{X})$, $\\boldsymbol\\alpha = \\mathbf{K}^{-1} \\mathbf{y} = ( (\\mathbf{L}^{-1})^T (\\mathbf{L}^{-1}) ) \\mathbf{y}$, and $\\mathbf{K} = \\mathbf{L}\\mathbf{L}^T$ is the Cholesky decomposition. The likelihood is called marginal, as the process $f$ is marginalized out of the expression, i.e. $p(\\mathbf{y}|\\mathbf{X}) = \\int p(\\mathbf{y},\\mathbf{f}|\\mathbf{X}) d\\mathbf{f}$.\n",
    "\n",
    "We will considers two implementations: (i) without re-parametrization, and (ii) with re-parametrization to ensure non-negativity of the kenel parameters through a log-transform. For case (ii) the deviations gets a little bit more complicated, as the derivatives should be calculated wrt e.g. $\\theta_1 = \\exp(\\sigma^2)$, which requires one more pass through the chain rule of differentiation. In case (i) we ignore the non-negativety constraint, as $(-\\sigma)^2 = (\\sigma)^2$ etc. Thus, parameter space symmetry is explored; as we will see this makes the algorithm less efficient.\n",
    "\n",
    "***\n",
    "C. E. Rasmussen, C. K. Williams, Gaussian processes for machine learning, MIT press, 2006.\n",
    "\n",
    "Bishop, Christopher M. Pattern recognition and machine learning. springer, 2006.\n",
    "\n",
    "Theodoridis, Sergios. Machine learning: a Bayesian and optimization perspective. Academic Press, 2020.\n",
    "***"
   ]
  },
  {
   "cell_type": "code",
   "execution_count": 72,
   "metadata": {},
   "outputs": [],
   "source": [
    "def logMargLike(y, alpha, L, N):\n",
    "    LML = - 0.5 * y.T.dot( alpha ) - np.sum( np.log( np.diag(L) ) ) - 0.5 * N * np.log(2*np.pi)\n",
    "    return(LML)"
   ]
  },
  {
   "cell_type": "markdown",
   "metadata": {},
   "source": [
    "The derivative wrt. a kernel parameter can generally be expressessed as\n",
    "\n",
    "$$ \\frac{\\partial}{\\partial \\theta_i} \\log p(\\mathbf{y}|\\mathbf{X}) = \\frac{1}{2} \\mathbf{y}^T \\mathbf{K}_y^{-1} \\frac{\\partial K_y}{\\partial \\theta_i} \\mathbf{K}_y^{-1} \\mathbf{y} - \\frac{1}{2} \\text{tr} \\left( \\mathbf{K}_y^{-1} \\frac{\\partial K_y}{\\partial \\theta_i} \\right) = \\frac{1}{2} \\text{tr} \\left( \\left( \\boldsymbol\\alpha\\boldsymbol\\alpha^T - \\mathbf{K}_y^{-1} \\right) \\frac{\\partial K_y}{\\partial \\theta_i} \\right), $$\n",
    "\n",
    "which we note to be independent of kernel choice! The kernel that we will explore in this tutorial is the squared exponential kernel, which gives us the following general form for the output kernel (i.e. including the output noise variance):\n",
    "\n",
    "$$ k_y(\\mathbf{x},\\mathbf{x}') =  \\sigma_f^2 \\exp\\left( - \\frac{1}{2} (\\mathbf{x}-\\mathbf{x}')^T \\mathbf{M} (\\mathbf{x}-\\mathbf{x}') \\right) + \\sigma_y^2 \\delta_{x,x'}, $$\n",
    "\n",
    "where $\\delta_{x,x'}$ is a delta function that includes $\\sigma_y^2$ is the expression only when $\\mathbf{x}=\\mathbf{x}'$. In the simples formulation, which we will consider here, the matrix $\\mathbf{M}=l^{-2}\\mathbf{I}$ is isotropic and one-dimensional, as $\\mathbf{x}$ is one-dimensional, and thus the expression simplifies to\n",
    "\n",
    "$$ k_y(x,x') =  \\sigma_f^2 \\exp\\left( - \\frac{(x-x')^2}{2 l^2} \\right) + \\sigma_y^2 \\delta_{x,x'}, $$\n",
    "\n",
    "where the first part corr. the square exponential kernel and the second part corr. the output noise variance of the output observations $\\mathbf{y}$. "
   ]
  },
  {
   "cell_type": "code",
   "execution_count": 73,
   "metadata": {},
   "outputs": [],
   "source": [
    "# Note that se_kern() is defined above\n",
    "def Ky_kern(x, y, sig_y, sig_f, l_f):\n",
    "    K = se_kern(x, y, sig_f, l_f)\n",
    "    Ky = K + np.eye(len(x))*sig_y**2\n",
    "    return(Ky)"
   ]
  },
  {
   "cell_type": "markdown",
   "metadata": {},
   "source": [
    "### Implementation without parameter transform\n",
    "\n",
    "In this implementation we consider the parameter vector: $\\boldsymbol\\theta = \\{\\sigma, \\sigma_f, l\\} $, thus without parameters transformations to ensure that the parameters are non-negative. For the above expression, the gradients ${\\partial K_y}/{\\partial \\theta_i}$ may now be defined:\n",
    "\n",
    "$$ \\frac{\\partial K_y}{\\partial \\sigma_y} = 2 \\sigma_y \\delta_{x,x'} $$\n",
    "\n",
    "$$ \\frac{\\partial K_y}{\\partial \\sigma_f} = 2 \\sigma_f \\exp\\left( - \\frac{(x-x')^2}{2l^2} \\right) $$\n",
    "\n",
    "$$ \\frac{\\partial K_y}{\\partial l} = \\sigma_f^2 \\exp\\left( - \\frac{(x-x')^2}{2 l^2} \\right) \\left( \\frac{(x-x')^2}{l^3} \\right), $$\n",
    "\n",
    "where the last expression $\\frac{\\partial K_y}{\\partial l}$ is derived using the chain rule by redefining $K=\\sigma_f^2 \\exp(g(l))$, thus \n",
    "\n",
    "$$ \\frac{\\partial K_y}{\\partial l} = \\frac{\\partial K_y}{\\partial g} \\frac{\\partial g}{\\partial l} = \\sigma_f^2 \\exp\\left( - \\frac{(x-x')^2}{2 l^2} \\right) \\frac{\\partial g}{\\partial l}, $$\n",
    "\n",
    "and given that\n",
    "\n",
    "$$ \\frac{\\partial g}{\\partial l} = \\frac{\\partial}{\\partial l} \\left( - \\frac{(x-x')^2}{2} l^{-2} \\right) = \\left( (x-x')^2 l^{-3} \\right), $$\n",
    "\n",
    "we arrive at the expresion for $\\frac{\\partial K_y}{\\partial l}$ stated above*. \n",
    "\n",
    "***\n",
    "\n",
    "*The issue of defining expresions for the gradients of the SE kernel is also discussed in this stackexchange post:\n",
    "\n",
    "https://math.stackexchange.com/questions/1030534/gradients-of-marginal-likelihood-of-gaussian-process-with-squared-exponential-co .\n",
    "\n",
    "***\n",
    "\n",
    "First, we define a function to calculate the gradient for a general parameter:\n",
    "\n",
    "$$ \\frac{\\partial}{\\partial \\theta_i} \\log p(\\mathbf{y}|\\mathbf{X}) = \\frac{1}{2} \\text{tr} \\left( \\left( \\boldsymbol\\alpha\\boldsymbol\\alpha^T - \\mathbf{K}_y^{-1} \\right) \\frac{\\partial K_y}{\\partial \\theta_i} \\right), $$"
   ]
  },
  {
   "cell_type": "code",
   "execution_count": 74,
   "metadata": {},
   "outputs": [],
   "source": [
    "def calculate_gradient(alpha, invKy, dKy):\n",
    "    d_logML = 0.5 * np.trace( (alpha.dot(alpha.T) - invKy).dot( dKy ) )\n",
    "    return(d_logML)"
   ]
  },
  {
   "cell_type": "markdown",
   "metadata": {},
   "source": [
    "Next, we define functions to compute the derivative matrices:\n",
    "\n",
    "$$ \\frac{\\partial K_y}{\\partial \\sigma_y} = 2 \\sigma_y \\delta_{x,x'} $$"
   ]
  },
  {
   "cell_type": "code",
   "execution_count": 75,
   "metadata": {},
   "outputs": [],
   "source": [
    "def derivative_sig_y(nX, sig_y):\n",
    "    dKy = 2*sig_y*np.eye(nX)\n",
    "    return(dKy)\n",
    "\n",
    "# test implementation - OK\n",
    "# def derivative_sig_y_numeric(x,y,sig_y,sig_f,l_f):\n",
    "#     e = 1e-4\n",
    "#     sig_y_lo = sig_y - e\n",
    "#     sig_y_hi = sig_y + e\n",
    "#     dKy = ( Ky_kern(x, y, sig_y_hi, sig_f, l_f) - Ky_kern(x, y, sig_y_lo, sig_f, l_f) ) / (2*e)\n",
    "#     return(dKy)\n",
    "\n",
    "# mm1=(derivative_sig_y(nX_tr, 0.1)); print(np.diag(mm1))\n",
    "# mm2=(derivative_sig_y_numeric(Xtrain,ytrain,0.1,1,2)); print(np.diag(mm2))\n",
    "# (np.round(mm1,3)==np.round(mm2,3)).all()"
   ]
  },
  {
   "cell_type": "markdown",
   "metadata": {},
   "source": [
    "$$ \\frac{\\partial K_y}{\\partial \\sigma_f} = 2 \\sigma_f \\exp\\left( - \\frac{(x-x')^2}{2l^2} \\right) $$"
   ]
  },
  {
   "cell_type": "code",
   "execution_count": 76,
   "metadata": {},
   "outputs": [],
   "source": [
    "def derivative_sig_f(x, sig_f, l_f):\n",
    "    sqdist = np.sum(x**2,1).reshape(-1,1) + np.sum(x**2,1) - 2*np.dot(x, x.T) # reshape(-1,1): from one-dim. to two-dim. array.\n",
    "    dKy = 2 * sig_f * np.exp( - sqdist / (2*l_f**2) )\n",
    "    return(dKy)\n",
    "\n",
    "# # test implementation ~ OK\n",
    "# def derivative_sig_f2(x, sig_f, l_f):\n",
    "#     n = x.shape[0]\n",
    "#     dKy = np.zeros((n,n))\n",
    "#     for i in range(n):\n",
    "#         for j in range(n):\n",
    "#             dKy[i,j] = 2 * sig_f * np.exp( -0.5 * (x[i]-x[j])**2 / (l_f**2) )\n",
    "#     return(dKy)\n",
    "\n",
    "# def derivative_sig_f_numeric(x,y,sig_y,sig_f,l_f):\n",
    "#     e = 1e-8\n",
    "#     sig_f_lo = sig_f - e\n",
    "#     sig_f_hi = sig_f + e\n",
    "#     dKy = ( Ky_kern(x, y, sig_y, sig_f_hi, l_f) - Ky_kern(x, y, sig_y, sig_f_lo, l_f) ) / (2*e)\n",
    "#     return(dKy)\n",
    "\n",
    "# kk1=derivative_sig_f(Xtrain, 1, 2); print(np.diag(kk1))\n",
    "# kk2=derivative_sig_f_numeric(Xtrain,ytrain, 0.1, 1, 2); print(np.diag(kk2))\n",
    "# kk3=derivative_sig_f2(Xtrain, 1, 2); print(np.diag(kk3))\n",
    "# (np.round(kk1,3)==np.round(kk2,3)).all()"
   ]
  },
  {
   "cell_type": "markdown",
   "metadata": {},
   "source": [
    "$$ \\frac{\\partial K_y}{\\partial l} = \\sigma_f^2 \\exp\\left( - \\frac{(x-x')^2}{2 l^2} \\right) \\left( \\frac{(x-x')^2}{l^3} \\right), $$"
   ]
  },
  {
   "cell_type": "code",
   "execution_count": 77,
   "metadata": {},
   "outputs": [],
   "source": [
    "def derivative_l_f(x, sig_f, l_f):\n",
    "    sqdist = np.sum(x**2,1).reshape(-1,1) + np.sum(x**2,1) - 2*np.dot(x, x.T) # reshape(-1,1): from one-dim. to two-dim. array.\n",
    "    dKy = sig_f**2 * np.exp(- sqdist / (2*l_f**2) ) * ( sqdist / (l_f**3) )\n",
    "    return(dKy)\n",
    "\n",
    "# # test implementation ~ OK\n",
    "# def derivative_l_f2(x, sig_f, l_f):\n",
    "#     n = x.shape[0]\n",
    "#     dKy = np.zeros((n,n))\n",
    "#     for i in range(n):\n",
    "#         for j in range(n):\n",
    "#             dKy[i,j] = sig_f**2 * np.exp( -0.5 * (x[i]-x[j])**2 / (l_f**2) ) * ((x[i]-x[j])**2 / (l_f**3))\n",
    "#     return(dKy)\n",
    "\n",
    "# def derivative_l_f_numeric(x,y,sig_y,sig_f,l_f):\n",
    "#     e = 1e-8\n",
    "#     l_f_lo = l_f - e\n",
    "#     l_f_hi = l_f + e\n",
    "#     dKy = ( Ky_kern(x, y, sig_y, sig_f, l_f_hi) - Ky_kern(x, y, sig_y, sig_f, l_f_lo) ) / (2*e)\n",
    "#     return(dKy)\n",
    "\n",
    "# kk1=derivative_l_f(Xtrain, 1, 2); print(np.diag(kk1))\n",
    "# kk2=derivative_l_f_numeric(Xtrain,ytrain, 0.1, 1, 2); print(np.diag(kk2))\n",
    "# kk3=derivative_l_f2(Xtrain, 1, 2); print(np.diag(kk3))\n",
    "# (np.round(kk1,3)==np.round(kk3,3)).all()"
   ]
  },
  {
   "cell_type": "markdown",
   "metadata": {},
   "source": [
    "#### Initialize the algorithm\n",
    "\n",
    "Now we are ready to test our implementation, but we first have to initialize the algorithm ..."
   ]
  },
  {
   "cell_type": "code",
   "execution_count": 78,
   "metadata": {},
   "outputs": [],
   "source": [
    "# initial values for parameters\n",
    "# sig_y, sig_f, l_f = 0.1, 1, 2\n",
    "sig_y, sig_f, l_f = 0.05, 2.0, 3.0\n",
    "# Apply the kernel function to our training points\n",
    "Ky0 = Ky_kern(Xtrain, Xtrain, sig_y, sig_f, l_f)\n",
    "Ly0 = np.linalg.cholesky(Ky0)\n",
    "\n",
    "# inverse of covariance\n",
    "invLy0 = np.linalg.inv(Ly0)\n",
    "invKy0 = invLy0.T.dot(invLy0) # invK = invL^T invL\n",
    "\n",
    "# alpha\n",
    "alp0 = invKy0.dot(ytrain)\n",
    "\n",
    "# log marginal likelihood\n",
    "logM0 = logMargLike(ytrain, alp0, Ly0, nX_tr)"
   ]
  },
  {
   "cell_type": "markdown",
   "metadata": {},
   "source": [
    "#### Run the optimization\n",
    "\n",
    "This shows how to run the optimization from óne initialization point; in a real application, we would initialize multiple times overdispered in the plausable range of the variables and pick the best solution, i.e in terms of likelihood score."
   ]
  },
  {
   "cell_type": "code",
   "execution_count": 79,
   "metadata": {},
   "outputs": [
    {
     "name": "stdout",
     "output_type": "stream",
     "text": [
      "[[2.77013411]]\n",
      "[[-0.9608564]]\n",
      "[[3.20527886]]\n",
      "[[1.59746382]]\n",
      "[[3.53671006]]\n",
      "[[2.88814746]]\n",
      "[[3.78508996]]\n",
      "[[3.58241088]]\n",
      "[[3.96872289]]\n",
      "[[3.97012256]]\n",
      "[[4.10310872]]\n",
      "[[4.19054918]]\n",
      "[[4.20091273]]\n",
      "[[4.31579337]]\n",
      "[[4.27219401]]\n",
      "[[4.38530175]]\n",
      "[[4.32471267]]\n",
      "[[4.421622]]\n",
      "[[4.36409953]]\n",
      "[[4.43818405]]\n",
      "[[4.39373476]]\n",
      "[[4.44340299]]\n",
      "[[4.41480219]]\n",
      "[[4.44286338]]\n",
      "[[4.42762137]]\n",
      "[[4.44016996]]\n",
      "[[4.43335194]]\n",
      "[[4.43706262]]\n",
      "[[4.43400861]]\n",
      "[[4.43377302]]\n",
      "[[4.43162351]]\n",
      "[[4.42988878]]\n",
      "[[4.42763276]]\n",
      "[[4.42527445]]\n",
      "[[4.4228012]]\n",
      "[[4.42026544]]\n",
      "[[4.41783724]]\n",
      "[[4.41556455]]\n",
      "[[4.41350051]]\n",
      "[[4.41163065]]\n",
      "[[4.40993906]]\n",
      "[[4.4084086]]\n",
      "[[4.4070239]]\n",
      "[[4.40577107]]\n",
      "[[4.40463755]]\n",
      "[[4.40361197]]\n",
      "[[4.40268404]]\n",
      "[[4.40184446]]\n",
      "[[4.40108481]]\n",
      "[[4.40039748]]\n",
      "[[4.39977557]]\n",
      "[[4.39921287]]\n",
      "[[4.39870374]]\n",
      "[[4.39824306]]\n",
      "[[4.39782623]]\n",
      "[[4.39744907]]\n",
      "[[4.39710781]]\n",
      "[[4.39679903]]\n",
      "[[4.39651963]]\n",
      "[[4.39626683]]\n",
      "[[4.39603808]]\n",
      "[[4.39583109]]\n",
      "[[4.39564381]]\n",
      "[[4.39547434]]\n",
      "[[4.395321]]\n",
      "[[4.39518225]]\n",
      "[[4.3950567]]\n",
      "[[4.3949431]]\n",
      "[[4.3948403]]\n",
      "[[4.39474729]]\n",
      "[[4.39466312]]\n",
      "[[4.39458696]]\n",
      "[[4.39451804]]\n",
      "[[4.39445568]]\n",
      "[[4.39439925]]\n",
      "[[4.39434819]]\n",
      "[[4.39430198]]\n",
      "[[4.39426017]]\n",
      "[[4.39422233]]\n",
      "[[4.39418809]]\n",
      "[[4.3941571]]\n",
      "[[4.39412906]]\n",
      "[[4.39410369]]\n",
      "[[4.39408072]]\n",
      "[[4.39405994]]\n",
      "[[4.39404113]]\n",
      "[[4.39402411]]\n",
      "[[4.3940087]]\n",
      "[[4.39399476]]\n",
      "[[4.39398214]]\n",
      "[[4.39397072]]\n",
      "[[4.39396038]]\n",
      "[[4.39395102]]\n",
      "[[4.39394255]]\n",
      "[[4.39393488]]\n",
      "[[4.39392794]]\n",
      "[[4.39392166]]\n",
      "[[4.39391597]]\n",
      "[[4.39391081]]\n",
      "[[4.39390615]]\n",
      "[[4.39390192]]\n",
      "Maximum at  [0.10234626 2.04212893 3.04212893] based on 100 iterations\n",
      "Log marginal likelihood: [[4.39390192]]\n"
     ]
    }
   ],
   "source": [
    "gamma0 = 0.1  # Step size multiplier\n",
    "precision = 1e-6  # Desired precision of result\n",
    "max_epochs = 1000  # Maximum number of runs through the training set\n",
    "\n",
    "for i in range(max_epochs):\n",
    "    gamma = gamma0 * np.exp(-0.1*i) # temporing\n",
    "    \n",
    "    if 0<i:\n",
    "        invKy0 = invKy1\n",
    "        alp0 = alp1\n",
    "        logM0 = logM1\n",
    "    \n",
    "    # UPDATA PARAMETERS #####################################\n",
    "    \n",
    "    # gradient wrt noise standard deviation\n",
    "    dKsy = derivative_sig_y(nX_tr, std_y)\n",
    "    dMsy = calculate_gradient(alp0, invKy0, dKsy)\n",
    "\n",
    "    # gradient wrt signal standard deviation\n",
    "    dKsf = derivative_sig_f(Xtrain, sig_f, l_f)\n",
    "    dMsf = calculate_gradient(alp0, invKy0, dKsf)\n",
    "\n",
    "    # gradient wrt signal standard deviation\n",
    "    dKlf = derivative_l_f(Xtrain, sig_f, l_f)\n",
    "    dMlf = calculate_gradient(alp0, invKy0, dKlf)\n",
    "    \n",
    "    # normalize\n",
    "    dMv = np.array([dMsy, dMsf, dMlf])\n",
    "    dMv = dMv/np.sqrt(dMv.dot(dMv)) # normalize to unit length (stabalizes the algorithm wrt numerical overfolw)\n",
    "    \n",
    "    # Change parameters\n",
    "    sig_y += gamma * dMv[0] + eps\n",
    "    sig_f += gamma * dMv[1] + eps\n",
    "    l_f += gamma * dMv[1] + eps\n",
    "    \n",
    "    # DEFINE NEW QUANTITIES AND CALCULATE LOG MARG LIKE##########\n",
    "    \n",
    "    # Kernel and decomposition\n",
    "    Ky1 = Ky_kern(Xtrain, Xtrain, sig_y, sig_f, l_f)\n",
    "    Ly1 = np.linalg.cholesky(Ky1)\n",
    "\n",
    "    # inverse of covariance\n",
    "    invLy1 = np.linalg.inv(Ly1)\n",
    "    invKy1 = invLy1.T.dot(invLy1) # invK = invL^T invL\n",
    "\n",
    "    # alpha\n",
    "    alp1 = invKy1.dot(ytrain)\n",
    "\n",
    "    # log marginal likelihood\n",
    "    logM1 = logMargLike(ytrain, alp1, Ly1, nX_tr)\n",
    "    print(logM1)\n",
    "    \n",
    "    if abs( logM1 - logM0 ) <= abs( logM0 ) * precision:\n",
    "        break\n",
    "\n",
    "print(\"Maximum at \", np.array([ sig_y, sig_f, l_f ]), \"based on\", i, \"iterations\")\n",
    "print(\"Log marginal likelihood:\", logM1)"
   ]
  },
  {
   "cell_type": "markdown",
   "metadata": {},
   "source": [
    "#### Plot the resulting model\n",
    "\n",
    "Sample from the posterior and 95\\% Bayesian credible interval of the posterior model."
   ]
  },
  {
   "cell_type": "code",
   "execution_count": 80,
   "metadata": {},
   "outputs": [
    {
     "data": {
      "image/png": "[encoded data removed]",
      "text/plain": [
       "<Figure size 432x288 with 1 Axes>"
      ]
     },
     "metadata": {
      "needs_background": "light"
     },
     "output_type": "display_data"
    }
   ],
   "source": [
    "K_s = se_kern(Xtrain, Xtest, sig_f, l_f)\n",
    "K_ss = se_kern(Xtest, Xtest, sig_f, l_f)\n",
    "\n",
    "# Apply the kernel function to our training points\n",
    "Ky = Ky_kern(Xtrain, Xtrain, sig_y, sig_f, l_f)\n",
    "Ly = np.linalg.cholesky(Ky)\n",
    "\n",
    "# inverse of covariance\n",
    "invLy = np.linalg.inv(Ly)\n",
    "invKy = invLy.T.dot(invLy) # invK = invL^T invL\n",
    "\n",
    "# alpha\n",
    "alp_y = invKy.dot(ytrain)\n",
    "\n",
    "# predictive mean\n",
    "mu_pos = np.dot(K_s.T, alp_y)\n",
    "\n",
    "# predictive variance\n",
    "vv_m = np.linalg.solve(Ly,K_s)\n",
    "cov_pos = K_ss - vv_m.T.dot(vv_m)\n",
    "std_pos = (np.diag(cov_pos)**(0.5)).reshape(-1,1) # may need abs as variance is zero at training points (no error), which may be encoded as -0 (no allowed)\n",
    "\n",
    "# Draw samples from the posterior at our test points.\n",
    "n_samp_pos = 3\n",
    "L_pos = np.linalg.cholesky(cov_pos + eps*np.eye(nX_te))\n",
    "f_pos = mu_pos + np.dot(L_pos, np.random.normal(size=(nX_te,n_samp_pos)))\n",
    "\n",
    "plt.plot(Xtrain, ytrain, 'bs', ms=6)\n",
    "plt.plot(Xtest, ytest, 'gs', ms=3);\n",
    "plt.plot(Xtest, f_pos);\n",
    "plt.fill_between(x=Xtest[:,0], y1=mu_pos[:,0]-2*std_pos[:,0], y2=mu_pos[:,0]+2*std_pos[:,0], alpha=0.1, color='blue');\n",
    "plt.plot(Xtest, mu_pos, 'r--', lw=2)\n",
    "plt.axis([-5, 5, -3, 3]);\n",
    "plt.title('Samples from the GP posterior along with the training ');\n",
    "# plt.show()"
   ]
  },
  {
   "cell_type": "markdown",
   "metadata": {},
   "source": [
    "### Implementation with parameter transform\n",
    "\n",
    "In this implementation we define the parameter vector: $\\boldsymbol\\theta = \\{\\log \\sigma^2, \\log \\sigma_f^2, \\log l^2\\} $, thus we transform the parameters to ensure that the parameters are non-negative. For the above expression, the gradients ${\\partial K_y}/{\\partial \\theta_i}$ may now be defined:\n",
    "\n",
    "$$ \\frac{\\partial K_y}{\\partial \\theta_1} = \\exp(\\theta_1) \\delta_{x,x'} $$\n",
    "\n",
    "$$ \\frac{\\partial K_y}{\\partial \\theta_2} = \\exp(\\theta_2) \\exp\\left( - \\frac{(x-x')^2}{2 \\exp(\\theta_3)} \\right) $$\n",
    "\n",
    "$$ \\frac{\\partial K_y}{\\theta_3} = \\exp(\\theta_2) \\exp\\left( - \\frac{(x-x')^2}{2 \\exp(\\theta_3)} \\right) \\left( \\frac{(x-x')^2}{2 \\exp(\\theta_3)} \\right), $$\n",
    "\n",
    "as $K_y$ i the re-parameterized form reads:\n",
    "\n",
    "$$ K_y(x,x') =  \\exp(\\theta_2) \\exp\\left( - \\frac{(x-x')^2}{2 \\exp(\\theta_3)} \\right) + \\exp(\\theta_1) \\delta_{x,x'}, $$"
   ]
  },
  {
   "cell_type": "code",
   "execution_count": 81,
   "metadata": {},
   "outputs": [],
   "source": [
    "# theta = log sigma_y\n",
    "def derivative_sig_y_theta1(nX, sig_y):\n",
    "    dKy = (sig_y**2)*np.eye(nX)\n",
    "    return(dKy)\n",
    "\n",
    "# theta = log sigma_f\n",
    "def derivative_sig_f_theta2(x, sig_f, l_f):\n",
    "    sqdist = np.sum(x**2,1).reshape(-1,1) + np.sum(x**2,1) - 2*np.dot(x, x.T) # reshape(-1,1): from one-dim. to two-dim. array.\n",
    "    dKy = (sig_f**2) * np.exp(- sqdist / ( 2 * l_f**2 ) )\n",
    "    return(dKy)\n",
    "\n",
    "# theta = log l_f\n",
    "def derivative_l_f_theta3(x, sig_f, l_f):\n",
    "    sqdist = np.sum(x**2,1).reshape(-1,1) + np.sum(x**2,1) - 2*np.dot(x, x.T) # reshape(-1,1): from one-dim. to two-dim. array.\n",
    "    dKy = (sig_f**2) * np.exp(- sqdist / (2*l_f**2) ) * ( sqdist / (2 * l_f**2) )\n",
    "    return(dKy)"
   ]
  },
  {
   "cell_type": "markdown",
   "metadata": {},
   "source": [
    "#### Initialize the algorithm\n",
    "\n",
    "Now we are ready to test our implementation, but we first have to initialize the algorithm ..."
   ]
  },
  {
   "cell_type": "code",
   "execution_count": 82,
   "metadata": {},
   "outputs": [],
   "source": [
    "# initial values for parameters\n",
    "sig_y = 0.05; theta1 = np.log(sig_y**2)\n",
    "sig_f = 2; theta2 = np.log(sig_f**2)\n",
    "l_f = 3; theta3 = np.log(l_f**2)\n",
    "\n",
    "# Apply the kernel function to our training points\n",
    "Ky0 = Ky_kern(Xtrain, Xtrain, sig_y, sig_f, l_f)\n",
    "Ly0 = np.linalg.cholesky(Ky0)\n",
    "\n",
    "# inverse of covariance\n",
    "invLy0 = np.linalg.inv(Ly0)\n",
    "invKy0 = invLy0.T.dot(invLy0) # invK = invL^T invL\n",
    "\n",
    "# alpha\n",
    "alp0 = invKy0.dot(ytrain)\n",
    "\n",
    "# log marginal likelihood\n",
    "# logM0 = logMargLike(ytrain, alp0, Ly0, nX_tr)\n",
    "logM0 = -1e16"
   ]
  },
  {
   "cell_type": "markdown",
   "metadata": {},
   "source": [
    "#### Run the optimization\n",
    "\n",
    "This again shows how to run the optimization from óne initialization point; in a real application, we would initialize multiple times overdispered in the plausable range of the variables and pick the best solution, i.e in terms of likelihood score."
   ]
  },
  {
   "cell_type": "code",
   "execution_count": 83,
   "metadata": {},
   "outputs": [
    {
     "name": "stdout",
     "output_type": "stream",
     "text": [
      "[[5.84187491]]\n",
      "[[6.77280165]]\n",
      "[[6.92041437]]\n",
      "[[6.98295995]]\n",
      "[[7.00740403]]\n",
      "[[7.01722184]]\n",
      "[[7.02119383]]\n",
      "[[7.02280548]]\n",
      "[[7.02346019]]\n",
      "[[7.02372629]]\n",
      "[[7.02383447]]\n",
      "[[7.02387844]]\n",
      "[[7.02389632]]\n",
      "[[7.02390359]]\n",
      "[[7.02390655]]\n",
      "[[7.02390775]]\n",
      "[[7.02390824]]\n",
      "[[7.02390844]]\n",
      "[[7.02390852]]\n",
      "[[7.02390855]]\n",
      "Maximum at  [0.09036608 1.81758084 2.20874715] based on 19 iterations\n"
     ]
    }
   ],
   "source": [
    "gamma0 = 1  # Step size multiplier\n",
    "precision = 1e-8  # Desired precision of result\n",
    "max_epochs = 1000  # Maximum number of runs through the training set\n",
    "\n",
    "for i in range(max_epochs):\n",
    "    gamma = gamma0 * np.exp(-0.9*i) # temporing\n",
    "    \n",
    "    if 0<i:\n",
    "        invKy0 = invKy1\n",
    "        alp0 = alp1\n",
    "        logM0 = logM1\n",
    "    \n",
    "    # UPDATA PARAMETERS #####################################\n",
    "    \n",
    "    # gradient wrt theta1 (noise standard deviation)\n",
    "    dKsy = derivative_sig_y_theta1(nX_tr, std_y)\n",
    "    dMsy = calculate_gradient(alp0, invKy0, dKsy)\n",
    "\n",
    "    # gradient wrt theta2 (signal standard deviation)\n",
    "    dKsf = derivative_sig_f_theta2(Xtrain, sig_f, l_f)\n",
    "    dMsf = calculate_gradient(alp0, invKy0, dKsf)\n",
    "\n",
    "    # gradient wrt theta3 (signal length scale)\n",
    "    dKlf = derivative_l_f_theta3(Xtrain, sig_f, l_f)\n",
    "    dMlf = calculate_gradient(alp0, invKy0, dKlf)\n",
    "    \n",
    "    # Change parameters\n",
    "    dMtheta = np.array([dMsy, dMsf, dMlf])\n",
    "    dMtheta = dMtheta/np.sqrt(dMtheta.dot(dMtheta)) # normalize to unit length (stabalizes the algorithm wrt numerical overfolw)\n",
    "    \n",
    "    theta1 += gamma * dMtheta[0]\n",
    "    theta2 += gamma * dMtheta[1]\n",
    "    theta3 += gamma * dMtheta[2]\n",
    "    \n",
    "    sig_y = np.sqrt( np.exp(theta1) ) + eps\n",
    "    sig_f = np.sqrt( np.exp(theta2) ) + eps\n",
    "    l_f = np.sqrt( np.exp(theta3) ) + eps\n",
    "    \n",
    "    # DEFINE NEW QUANTITIES AND CALCULATE LOG MARG LIKE##########\n",
    "    \n",
    "    # Kernel and decomposition\n",
    "    Ky1 = Ky_kern(Xtrain, Xtrain, sig_y, sig_f, l_f)\n",
    "    Ly1 = np.linalg.cholesky(Ky1)\n",
    "\n",
    "    # inverse of covariance\n",
    "    invLy1 = np.linalg.inv(Ly1)\n",
    "    invKy1 = invLy1.T.dot(invLy1) # invK = invL^T invL\n",
    "\n",
    "    # alpha\n",
    "    alp1 = invKy1.dot(ytrain)\n",
    "\n",
    "    # log marginal likelihood\n",
    "    logM1 = logMargLike(ytrain, alp1, Ly1, nX_tr) # without extre regularization (not needed for small dimensiaonal problems, Rasmussen&Williams(2006))\n",
    "    print(logM1)\n",
    "    if abs( logM1 - logM0 ) <= abs( logM0 ) * precision:\n",
    "        break\n",
    "\n",
    "print(\"Maximum at \", np.array([ sig_y, sig_f, l_f ]), \"based on\", i, \"iterations\")"
   ]
  },
  {
   "cell_type": "markdown",
   "metadata": {},
   "source": [
    "#### Plot the resulting model\n",
    "\n",
    "Sample from the posterior and 95\\% Bayesian credible interval of the posterior model."
   ]
  },
  {
   "cell_type": "code",
   "execution_count": 84,
   "metadata": {},
   "outputs": [
    {
     "data": {
      "image/png": "[encoded data removed]",
      "text/plain": [
       "<Figure size 432x288 with 1 Axes>"
      ]
     },
     "metadata": {
      "needs_background": "light"
     },
     "output_type": "display_data"
    }
   ],
   "source": [
    "K_s = se_kern(Xtrain, Xtest, sig_f, l_f)\n",
    "K_ss = se_kern(Xtest, Xtest, sig_f, l_f)\n",
    "\n",
    "# Apply the kernel function to our training points\n",
    "Ky = Ky_kern(Xtrain, Xtrain, sig_y, sig_f, l_f)\n",
    "Ly = np.linalg.cholesky(Ky)\n",
    "\n",
    "# inverse of covariance\n",
    "invLy = np.linalg.inv(Ly)\n",
    "invKy = invLy.T.dot(invLy) # invK = invL^T invL\n",
    "\n",
    "# alpha\n",
    "alp_y = invKy.dot(ytrain)\n",
    "\n",
    "# predictive mean\n",
    "mu_pos = np.dot(K_s.T, alp_y)\n",
    "\n",
    "# predictive variance\n",
    "vv_m = np.linalg.solve(Ly,K_s)\n",
    "cov_pos = K_ss - vv_m.T.dot(vv_m)\n",
    "std_pos = (np.diag(cov_pos)**(0.5)).reshape(-1,1) # may need abs as variance is zero at training points (no error), which may be encoded as -0 (no allowed)\n",
    "\n",
    "# Draw samples from the posterior at our test points.\n",
    "n_samp_pos = 3\n",
    "L_pos = np.linalg.cholesky(cov_pos + eps*np.eye(nX_te))\n",
    "f_pos = mu_pos + np.dot(L_pos, np.random.normal(size=(nX_te,n_samp_pos)))\n",
    "\n",
    "plt.plot(Xtrain, ytrain, 'bs', ms=6)\n",
    "plt.plot(Xtest, ytest, 'gs', ms=3);\n",
    "plt.plot(Xtest, f_pos);\n",
    "plt.fill_between(x=Xtest[:,0], y1=mu_pos[:,0]-2*std_pos[:,0], y2=mu_pos[:,0]+2*std_pos[:,0], alpha=0.1, color='blue');\n",
    "plt.plot(Xtest, mu_pos, 'r--', lw=2)\n",
    "plt.axis([-5, 5, -3, 3]);\n",
    "plt.title('Samples from the GP posterior along with the training');\n",
    "# plt.show()"
   ]
  },
  {
   "cell_type": "markdown",
   "metadata": {},
   "source": [
    "## Parameter learning: Metropolis and Metropolis-Hastings algorithm\n",
    "\n",
    "See e.g. Gelman et al (2013; ch.11-12) for a reference on the Metropolis and Metropolis-Hastings algorithm.\n",
    "\n",
    "In this section, we implement the Metripolis and Metropolis-Hastings algorithm, i.e. one implementation considers a symmetric sampling distribution in log-space, and the other use an asymmetric jumping kernel, which is implemented as a Gaussian copula. To consider the one or the other you simply have to uncomment the implementation you want to study, and comment out the other one. \n",
    "\n",
    "### The generative story\n",
    "\n",
    "The generative model reads;\n",
    "\n",
    "$$ p(\\theta |\\mathcal{D}) \\propto p(\\mathbf{y}|\\mathbf{X},\\boldsymbol\\theta) p(\\boldsymbol\\theta), $$\n",
    "\n",
    "where $$ {\\theta_i} =  \\text{Inv-Gamma}(a,b), $$\n",
    "\n",
    "and $\\{\\theta_i\\}_{i=1}^3 = \\{ \\sigma^2, \\sigma_f^2, l^2 \\}$. The hyper-parameters $a$ and $b$ are pre-set in this implementation, but could also be learnt.\n",
    "\n",
    "### The unnormalized parameter posterior\n",
    "\n",
    "Recall that the parameter posterior is defined through Bayes' rule as \n",
    "\n",
    "$$p(\\boldsymbol\\theta|\\mathcal{D}) = \\frac{ p(\\mathbf{y},\\boldsymbol\\theta|\\mathbf{x}) }{ p(\\mathbf{y})}, $$\n",
    "\n",
    "but we will work with the unormalized version, i.e.\n",
    "\n",
    "$$p(\\boldsymbol\\theta|\\mathcal{D}) \\propto p(\\mathbf{y},\\boldsymbol\\theta|\\mathbf{x}), $$\n",
    "\n",
    "to avoid calculating the always troubeling normalizing constant $p(\\mathbf{y})$.\n",
    "\n",
    "***\n",
    "Gelman, Andrew, et al. Bayesian data analysis. CRC press, 2013.\n",
    "***"
   ]
  },
  {
   "cell_type": "code",
   "execution_count": 85,
   "metadata": {},
   "outputs": [],
   "source": [
    "# This function calculates the unnormalized posterior for theta, i.e. p(theta|D) ~ p(y,theta|x)\n",
    "def log_pos_metropolis(x,y,theta,pam1,pam2,pam3):\n",
    "    N = x.shape[0]\n",
    "    sig_y = np.sqrt(theta[0])\n",
    "    sig_f = np.sqrt(theta[1])\n",
    "    l_f = np.sqrt(theta[2])\n",
    "    \n",
    "    # Apply the kernel function to our training points\n",
    "    Ky = Ky_kern(x, x, sig_y, sig_f, l_f)\n",
    "    Ly = np.linalg.cholesky(Ky)\n",
    "\n",
    "    # inverse of covariance\n",
    "    invLy = np.linalg.inv(Ly)\n",
    "    invKy = invLy.T.dot(invLy) # invK = invL^T invL\n",
    "\n",
    "    # alpha\n",
    "    alp = invKy.dot(y)\n",
    "\n",
    "    # log marginal posterior\n",
    "    logPos = (logMargLike(y, alp, Ly, N) \n",
    "              + ss.invgamma(a = pam1[0], scale = pam1[1]).logpdf(theta[0]) \n",
    "              + ss.invgamma(a = pam2[0], scale = pam2[1]).logpdf(theta[1]) \n",
    "              + ss.invgamma(a = pam3[0], scale = pam3[1]).logpdf(theta[2])\n",
    "             ) \n",
    "    return(logPos)\n",
    "\n",
    "# log_pos_metropolis(Xtrain, ytrain, np.array([std_y**2, 1**2, 0.1**2]), np.array([3,1]), np.array([3,1]), np.array([3,1]))"
   ]
  },
  {
   "cell_type": "code",
   "execution_count": 86,
   "metadata": {},
   "outputs": [
    {
     "data": {
      "image/png": "[encoded data removed]",
      "text/plain": [
       "<Figure size 360x216 with 2 Axes>"
      ]
     },
     "metadata": {
      "needs_background": "light"
     },
     "output_type": "display_data"
    }
   ],
   "source": [
    "# Make sure we are using the scikit implementation correctly\n",
    "# https://en.wikipedia.org/wiki/Inverse-gamma_distribution\n",
    "def my_invgamma_pdf(x,a,b):\n",
    "    gpdf = np.zeros(len(x))\n",
    "    ind = (x>0)\n",
    "    gpdf[ind] = ( (b**a)/math.gamma(a) ) * (1/x[ind])**(a+1) * np.exp( -b/x[ind] )\n",
    "    return(gpdf)\n",
    "\n",
    "xx=np.arange(-0.5,5,0.01)\n",
    "yy1=ss.invgamma.pdf(xx, a=2, scale=2)\n",
    "yy2=my_invgamma_pdf(xx, 2, 2)\n",
    "\n",
    "plt.figure(figsize=(5, 3))\n",
    "plt.subplot(1, 2, 1)\n",
    "plt.plot(xx,yy1)\n",
    "plt.xlabel('x')\n",
    "plt.ylabel('pdf')\n",
    "plt.title('Scikit function')\n",
    "plt.subplot(1, 2, 2)\n",
    "plt.plot(xx,yy2)\n",
    "plt.title('My implementation')\n",
    "plt.xlabel('x')\n",
    "plt.tight_layout()"
   ]
  },
  {
   "cell_type": "markdown",
   "metadata": {},
   "source": [
    "### Metropolis algorithm\n",
    "\n",
    "Note that we sample $\\log \\boldsymbol\\theta$ using a Gaussian jumping distribution in this implementation.\n",
    "\n",
    "#### Sampling from the posterior\n",
    "\n",
    "This shows how to sample from éne chain; in a real application, we would initialize multiple chains overdispered in the plausable range of the variables and check for mixing."
   ]
  },
  {
   "cell_type": "code",
   "execution_count": 87,
   "metadata": {},
   "outputs": [],
   "source": [
    "# # sigma is assigned an informative prior to keep samples at a realonable level\n",
    "# pam1 = np.array([2,1/8]); pam2 = np.array([2,2]); pam3 = np.array([2,2]) # choose by CV\n",
    "# # pam1 = np.array([2,2]); pam2 = np.array([2,2]); pam3 = np.array([2,2])\n",
    "\n",
    "# np.random.seed(100)\n",
    "# n_samp_met = 10**3\n",
    "# eps_met = 1e-8"
   ]
  },
  {
   "cell_type": "code",
   "execution_count": 88,
   "metadata": {},
   "outputs": [],
   "source": [
    "# # METROPOLIS ALGORITHM\n",
    "\n",
    "# samp_met = np.zeros([n_samp_met, 3])\n",
    "# samp_met[0,:] = np.log(np.array([0.01, 1., 2.])**2)\n",
    "# lp_cur_met = log_pos_metropolis(Xtrain, ytrain, np.exp(samp_met[0,:]), pam1, pam2, pam3)\n",
    "\n",
    "# proposal_stds = np.abs(samp_met[0,:])*0.05\n",
    "\n",
    "# counter=0\n",
    "# for t in range(1,n_samp_met,1):\n",
    "#     x_pro_met = ss.multivariate_normal( mean = samp_met[t-1,:], cov = (np.diag(proposal_stds) + eps_met) ).rvs(1)\n",
    "#     lp_pro_met = log_pos_metropolis(Xtrain, ytrain, np.exp(x_pro_met), pam1, pam2, pam3)\n",
    "    \n",
    "#     ratio_pro_met = np.min( [(lp_pro_met - lp_cur_met ), 0] )\n",
    "#     if np.log(np.random.uniform()) < ratio_pro_met: \n",
    "#         counter += 1\n",
    "#         samp_met[t,:] = x_pro_met\n",
    "#         lp_cur_met = lp_pro_met\n",
    "#     else:\n",
    "#         samp_met[t,:] = samp_met[t-1,:]\n",
    "\n",
    "# samp_met = np.exp(samp_met) # transform back to the scale of sig_y, sig_f, and l_f\n",
    "# print('Acceptance ratio: ', counter/n_samp_met) "
   ]
  },
  {
   "cell_type": "markdown",
   "metadata": {},
   "source": [
    "### Metropolis-Hastings algorithm\n",
    "\n",
    "Note that we sample from a set of log-normal distributions via a Gaussian copula implementation (see below).\n",
    "\n",
    "#### Proposal distribution for Metropolis-Hastings algorithm: Gaussian copula representation of log-normal\n",
    "\n",
    "This is a little overkill for this example, but it builds the foundadtion for the construction of more complicated jumping distributions, e.g. including covariance information. "
   ]
  },
  {
   "cell_type": "code",
   "execution_count": 89,
   "metadata": {},
   "outputs": [],
   "source": [
    "def logNorm2Norm_parameters(lm ,ls):\n",
    "    phi = np.sqrt( ls**2 + lm**2 )\n",
    "    nm = 2 * np.log(lm) - np.log(phi)  # mean of log(Y) \n",
    "    ns = np.sqrt( 2*np.log(phi) - 2*np.log(lm) ) # std dev of log(Y)\n",
    "    return(nm,ns)\n",
    "    \n",
    "# This implementation corresponds to a Gaussian copula, see e.g.\n",
    "# https://se.mathworks.com/help/stats/copulas-generate-correlated-samples.html\n",
    "# https://www.sciencedirect.com/science/article/abs/pii/0266892086900330?via%3Dihub\n",
    "def proposal_distribution(mu_v,sigma_v):\n",
    "    m = len(mu_v)\n",
    "    MVN = ss.multivariate_normal( mean = np.zeros(m), cov = np.eye(m) )\n",
    "    Z = MVN.rvs(1) # define a correlation if needed\n",
    "    logprobZ = MVN.logpdf(Z) # probability of realization \n",
    "    U = ss.norm.cdf(Z)\n",
    "    X = np.zeros(U.shape)\n",
    "    for i in range(m):\n",
    "        nm, ns = logNorm2Norm_parameters(mu_v[i] ,sigma_v[i])\n",
    "        X[i] = ss.lognorm(s=ns, scale=np.exp(nm)).ppf(U[i]) # define transformation 1\n",
    "    return(X,logprobZ)\n",
    "\n",
    "def inv_proposal_distribution(mu_v,sigma_v,x):\n",
    "    m = len(mu_v)\n",
    "    U = np.zeros(x.shape)\n",
    "    for i in range(m):\n",
    "        nm, ns = logNorm2Norm_parameters(mu_v[i] ,sigma_v[i])\n",
    "        U[i] = ss.lognorm(s=ns, scale=np.exp(nm)).cdf(x[i]) # define transformation 1\n",
    "    Z = ss.norm.ppf(U)\n",
    "    logprob = ss.multivariate_normal( mean = np.zeros(m), cov = np.eye(m) ).logpdf(Z)\n",
    "    return(logprob)\n",
    "\n",
    "# xx, llpp = proposal_distribution(np.array([0.1,0.1,0.1]), np.array([1,1,1])); print(xx, llpp)\n",
    "# llpp2 = inv_proposal_distribution(np.array([0.1,0.1,0.1]), np.array([1,1,1]),xx); print(llpp2)\n",
    "# uu = np.random.uniform(size=1000000) \n",
    "# nnm,nns = logNorm2Norm_parameters(10 ,10)\n",
    "# xx=ss.lognorm(s=nns, scale=np.exp(nnm)).ppf(uu)"
   ]
  },
  {
   "cell_type": "markdown",
   "metadata": {},
   "source": [
    "#### Sampling from the posterior\n",
    "\n",
    "This shows how to sample from éne chain; in a real application, we would initialize multiple chains overdispered in the plausable range of the variables and check for mixing."
   ]
  },
  {
   "cell_type": "code",
   "execution_count": 90,
   "metadata": {},
   "outputs": [],
   "source": [
    "# sigma is assigned an informative prior to keep samples at a realonable level\n",
    "pam1 = np.array([2,1/8]); pam2 = np.array([2,2]); pam3 = np.array([2,2]) # choose by CV\n",
    "# pam1 = np.array([2,2]); pam2 = np.array([2,2]); pam3 = np.array([2,2])\n",
    "\n",
    "np.random.seed(100)\n",
    "n_samp_met = 10**3\n",
    "eps_met = 1e-8"
   ]
  },
  {
   "cell_type": "code",
   "execution_count": 91,
   "metadata": {},
   "outputs": [
    {
     "name": "stdout",
     "output_type": "stream",
     "text": [
      "Acceptance ratio:  0.435\n"
     ]
    }
   ],
   "source": [
    "# METROPOLIS-HASTINGS ALGORITHM\n",
    "samp_met = np.zeros([n_samp_met, 3])\n",
    "samp_met[0,:] = np.array([0.1, 1., 2.])**2 + eps\n",
    "lp_cur_met = log_pos_metropolis(Xtrain, ytrain, samp_met[0,:], pam1, pam2, pam3)\n",
    "\n",
    "proposal_stds = samp_met[0,:]*0.15 + eps\n",
    "\n",
    "counter=0\n",
    "for t in range(1,n_samp_met,1):\n",
    "    x_pro_met, logprob_pro_met = proposal_distribution( samp_met[t-1,:] , proposal_stds )\n",
    "    lp_pro_met = log_pos_metropolis(Xtrain, ytrain, x_pro_met, pam1, pam2, pam3)\n",
    "    \n",
    "    logprob_cur_met = inv_proposal_distribution( x_pro_met, proposal_stds , samp_met[t-1,:] )\n",
    "    \n",
    "    ratio_pro_met = np.min( [(lp_pro_met - lp_cur_met + logprob_cur_met - logprob_pro_met), 0] ) # log-space formulation\n",
    "    if np.log(np.random.uniform()) < ratio_pro_met: \n",
    "        counter += 1\n",
    "        samp_met[t,:] = x_pro_met\n",
    "        lp_cur_met = lp_pro_met\n",
    "    else:\n",
    "        samp_met[t,:] = samp_met[t-1,:]\n",
    "\n",
    "print('Acceptance ratio: ', counter/n_samp_met) "
   ]
  },
  {
   "cell_type": "markdown",
   "metadata": {},
   "source": [
    "### Analyse samples\n",
    "\n",
    "We regard the first half of the samples as burn-in, and plot the burn-in samples (red) along with the posterior samples (blue)."
   ]
  },
  {
   "cell_type": "code",
   "execution_count": 92,
   "metadata": {},
   "outputs": [
    {
     "data": {
      "image/png": "[encoded data removed]",
      "text/plain": [
       "<Figure size 432x288 with 1 Axes>"
      ]
     },
     "metadata": {
      "needs_background": "light"
     },
     "output_type": "display_data"
    },
    {
     "data": {
      "image/png": "[encoded data removed]",
      "text/plain": [
       "<Figure size 432x288 with 1 Axes>"
      ]
     },
     "metadata": {
      "needs_background": "light"
     },
     "output_type": "display_data"
    },
    {
     "data": {
      "image/png": "[encoded data removed]",
      "text/plain": [
       "<Figure size 432x288 with 1 Axes>"
      ]
     },
     "metadata": {
      "needs_background": "light"
     },
     "output_type": "display_data"
    }
   ],
   "source": [
    "samp_met0 = samp_met[0:round(n_samp_met/2),:] # burn-in\n",
    "samp_met1 = samp_met[round(n_samp_met/2):n_samp_met,:] # without burn-in\n",
    "\n",
    "plt.figure()\n",
    "plt.hist(np.sqrt( samp_met0[:,0]), color='red' );\n",
    "plt.hist(np.sqrt( samp_met1[:,0]) , color='blue' );\n",
    "plt.title('Noise standard deviation')\n",
    "\n",
    "plt.figure()\n",
    "plt.hist(np.sqrt( samp_met0[:,1]), color='red' );\n",
    "plt.hist(np.sqrt( samp_met1[:,1]) , color='blue' );\n",
    "plt.title('Kernel standard deviation (signal)')\n",
    "\n",
    "plt.figure()\n",
    "plt.hist(np.sqrt( samp_met0[:,2]), color='red' );\n",
    "plt.hist(np.sqrt( samp_met1[:,2]) , color='blue' );\n",
    "plt.title('Kernel length scale (signal)');"
   ]
  },
  {
   "cell_type": "markdown",
   "metadata": {},
   "source": [
    "### Posterior predictive distribution: Point estimate\n",
    "\n",
    "Here we pick óne parameter setting for the parameters.\n",
    "\n",
    "#### Plot the resulting model\n",
    "\n",
    "Sample from the posterior and 95\\% Bayesian credible interval of the posterior model."
   ]
  },
  {
   "cell_type": "code",
   "execution_count": 93,
   "metadata": {},
   "outputs": [
    {
     "name": "stdout",
     "output_type": "stream",
     "text": [
      "[0.12403367 0.51203448 0.83233201]\n",
      "Log marginal likelihood:  [[3.85841644]]\n"
     ]
    },
    {
     "data": {
      "image/png": "[encoded data removed]",
      "text/plain": [
       "<Figure size 432x288 with 1 Axes>"
      ]
     },
     "metadata": {
      "needs_background": "light"
     },
     "output_type": "display_data"
    }
   ],
   "source": [
    "par_est = np.sqrt(ss.mode(samp_met1)[0][0]); print(par_est)\n",
    "# par_est = np.median(samp_met1, axis=0); print(par_est)\n",
    "# par_est = np.sqrt(np.mean(samp_met1,axis=0)); print(par_est)\n",
    "\n",
    "amplitude = par_est[1]; length_scale=par_est[2]\n",
    "K = se_kern(Xtrain, Xtrain, amplitude, length_scale)\n",
    "K_s = se_kern(Xtrain, Xtest, amplitude, length_scale)\n",
    "K_ss = se_kern(Xtest, Xtest, amplitude, length_scale)\n",
    "\n",
    "# Apply the kernel function to our training points\n",
    "L = np.linalg.cholesky(K + np.eye(nX_tr)*par_est[0]**2)\n",
    "\n",
    "# predictive mean\n",
    "alp_m = np.linalg.solve(L.T,np.linalg.solve(L, ytrain))\n",
    "mu_pos = np.dot(K_s.T, alp_m)\n",
    "\n",
    "# predictive variance\n",
    "vv_m = np.linalg.solve(L,K_s)\n",
    "cov_pos = K_ss - vv_m.T.dot(vv_m)\n",
    "std_pos = (np.diag(cov_pos)**(0.5)).reshape(-1,1) # may need abs as variance is zero at training points (no error), which may be encoded as -0 (no allowed)\n",
    "\n",
    "# Draw samples from the posterior at our test points.\n",
    "n_samp_pos = 3\n",
    "L_pos = np.linalg.cholesky(cov_pos + eps*np.eye(nX_te))\n",
    "f_pos = mu_pos + np.dot(L_pos, np.random.normal(size=(nX_te,n_samp_pos)))\n",
    "\n",
    "plt.plot(Xtrain, ytrain, 'bs', ms=6)\n",
    "plt.plot(Xtest, ytest, 'gs', ms=3);\n",
    "plt.plot(Xtest, f_pos);\n",
    "plt.fill_between(x=Xtest[:,0], y1=mu_pos[:,0]-2*std_pos[:,0], y2=mu_pos[:,0]+2*std_pos[:,0], alpha=0.1, color='blue');\n",
    "plt.plot(Xtest, mu_pos, 'r--', lw=2)\n",
    "plt.axis([-5, 5, -3, 3]);\n",
    "plt.title('Samples from the GP posterior along with the training ');\n",
    "# plt.show()\n",
    "\n",
    "print('Log marginal likelihood: ', - 0.5 * ytrain.T.dot( alp_m ) - np.sum( np.log( np.diag(L) ) ) - 0.5 * nX_tr * np.log(2*np.pi) )"
   ]
  },
  {
   "cell_type": "markdown",
   "metadata": {},
   "source": [
    "### Posterior predictive distribution: Full Baysian inference\n",
    "\n",
    "Here we average over the posterior samples.\n",
    "\n",
    "#### Evaluate mean function and covariance for all posterior samples"
   ]
  },
  {
   "cell_type": "code",
   "execution_count": 94,
   "metadata": {},
   "outputs": [],
   "source": [
    "n_samp = samp_met1.shape[0]\n",
    "m_points = Xtest.shape[0]\n",
    "\n",
    "mu_pos_samples = np.zeros(( n_samp, m_points )) \n",
    "std_pos_samples = np.zeros(( n_samp, m_points )) \n",
    "\n",
    "for i in range(n_samp):\n",
    "    par_vec_i = np.sqrt(samp_met1[i,:])\n",
    "    \n",
    "    amplitude = par_vec_i[1]; length_scale=par_vec_i[2]\n",
    "    K = se_kern(Xtrain, Xtrain, amplitude, length_scale)\n",
    "    K_s = se_kern(Xtrain, Xtest, amplitude, length_scale)\n",
    "    K_ss = se_kern(Xtest, Xtest, amplitude, length_scale)\n",
    "    \n",
    "    # Apply the kernel function to our training points\n",
    "    L = np.linalg.cholesky(K + np.eye(nX_tr)*par_vec_i[0]**2)\n",
    "\n",
    "    # predictive mean\n",
    "    alp_m = np.linalg.solve(L.T,np.linalg.solve(L, ytrain))\n",
    "    mu_pos = np.dot(K_s.T, alp_m)\n",
    "\n",
    "    # predictive variance\n",
    "    vv_m = np.linalg.solve(L,K_s)\n",
    "    cov_pos = K_ss - vv_m.T.dot(vv_m)\n",
    "    std_pos = (np.diag(cov_pos)**(0.5)).reshape(-1,1)\n",
    "    \n",
    "    mu_pos_samples[i,:] = mu_pos.T\n",
    "    std_pos_samples[i,:] = std_pos.T"
   ]
  },
  {
   "cell_type": "markdown",
   "metadata": {},
   "source": [
    "#### Define sample statistics for the latent function (f) and the output (y)"
   ]
  },
  {
   "cell_type": "code",
   "execution_count": 95,
   "metadata": {},
   "outputs": [],
   "source": [
    "# Define sample statistics for the latent function (f) and the output (y)\n",
    "f_stats = np.zeros((m_points,3))\n",
    "y_stats = np.zeros((m_points,3))\n",
    "noise_y = np.random.normal(np.zeros(n_samp))\n",
    "for i in range(m_points):\n",
    "    f_samp_i = mu_pos_samples[:,i]\n",
    "    f_samp_i_m = np.mean(f_samp_i)\n",
    "    f_samp_i_q = np.quantile(f_samp_i, [0.025, 0.975])\n",
    "    f_stats[i,:] = np.concatenate(([f_samp_i_m],f_samp_i_q), axis=0)\n",
    "    \n",
    "    y_samp_i = mu_pos_samples[:,i] + noise_y * std_pos_samples[:,i]\n",
    "    y_samp_i_m = np.mean(y_samp_i)\n",
    "    y_samp_i_q = np.quantile(y_samp_i, [0.025, 0.975])\n",
    "    y_stats[i,:] = np.concatenate(([y_samp_i_m],y_samp_i_q), axis=0)"
   ]
  },
  {
   "cell_type": "markdown",
   "metadata": {},
   "source": [
    "#### Plot the resulting model\n",
    "\n",
    "95\\% Bayesian credible interval of the posterior model."
   ]
  },
  {
   "cell_type": "code",
   "execution_count": 96,
   "metadata": {},
   "outputs": [
    {
     "data": {
      "image/png": "[encoded data removed]",
      "text/plain": [
       "<Figure size 432x288 with 1 Axes>"
      ]
     },
     "metadata": {
      "needs_background": "light"
     },
     "output_type": "display_data"
    }
   ],
   "source": [
    "# Plot training and test data\n",
    "plt.plot(Xtrain, ytrain, 'bs', ms=6)\n",
    "plt.plot(Xtest, ytest, 'gs', ms=3);\n",
    "# Predictive mean\n",
    "plt.plot(Xtest, f_stats[:,0], 'r--', lw=2)\n",
    "# Shade in credible region\n",
    "plt.fill_between(Xtest[:,0], y_stats[:,1], y_stats[:,2], alpha=0.1, color='blue')\n",
    "plt.fill_between(Xtest[:,0], f_stats[:,1], f_stats[:,2], alpha=0.5)\n",
    "plt.axis([-5, 5, -3, 3]);\n",
    "plt.title('Samples from the GP posterior along with the training ');"
   ]
  },
  {
   "cell_type": "markdown",
   "metadata": {},
   "source": [
    "## Parameter learning: Hamiltonian Monte Carlo algorithm\n",
    "\n",
    "See e.g. Gelman et al. (2013; Sec.12.4 and App.C.4 (R implementation)) for a reference on the Hamiltonian Monte Carlo algorithm.\n",
    "\n",
    "### The generative story\n",
    "\n",
    "In this section, we will use a log-normal proposal distribution (non-symmetric) and the following generative model in the MCMC of Metropolis-Hastings;\n",
    "\n",
    "$$ p(\\theta |\\mathcal{D}) \\propto p(\\mathbf{y}|\\mathbf{X},\\boldsymbol\\theta) p(\\boldsymbol\\theta), $$\n",
    "\n",
    "where $$ {\\theta_i}^2 =  \\text{Inv-Gamma}(a,b), $$\n",
    "\n",
    "and $\\{\\theta_i\\}_{i=1}^3 = \\{ \\sigma, \\sigma_f, l \\}$, with the hyper-parameters $a$ and $b$ pre-set in this implementation. Thus, we will parameterize the model as we did when performing MLE above (without parameters transformations), in order to reuse some of the functions already implemented. We could also for this case consider a parameter transformation, and define the probabilistic model in the transformed space using the Jacobien, see Gelman et al.(2013).\n",
    "\n",
    "### The unnormalized parameter posterior\n",
    "\n",
    "Recall that the parameter posterior is defined through Bayes' rule as \n",
    "\n",
    "$$p(\\boldsymbol\\theta|\\mathcal{D}) = \\frac{ p(\\mathbf{y},\\boldsymbol\\theta|\\mathbf{x}) }{ p(\\mathbf{y})}, $$\n",
    "\n",
    "but we will work with the unormalized version, i.e.\n",
    "\n",
    "$$p(\\boldsymbol\\theta|\\mathcal{D}) \\propto p(\\mathbf{y},\\boldsymbol\\theta|\\mathbf{x}), $$\n",
    "\n",
    "to avoid calculating the always troubeling normalizing constant $\\mathbf{y}$.\n",
    "\n",
    "***\n",
    "Gelman, Andrew, et al. Bayesian data analysis. CRC press, 2013.\n",
    "***"
   ]
  },
  {
   "cell_type": "code",
   "execution_count": 97,
   "metadata": {},
   "outputs": [],
   "source": [
    "# This function calculates the unnormalized posterior for theta, i.e. p(theta|D) = p(y,theta|x)/p(y)\n",
    "def log_pos_hmc(x,y,theta,pam1,pam2,pam3):\n",
    "    \n",
    "    if (np.any(np.isnan(theta))):\n",
    "        logPos = -1e-16\n",
    "    elif (np.any(theta <= 0)):\n",
    "        logPos = -1e-16\n",
    "    else:\n",
    "        N = x.shape[0]\n",
    "        sig_y = theta[0]\n",
    "        sig_f = theta[1]\n",
    "        l_f = theta[2]\n",
    "\n",
    "        # Apply the kernel function to our training points\n",
    "        Ky = Ky_kern(x, x, sig_y, sig_f, l_f)\n",
    "        Ly = np.linalg.cholesky(Ky)\n",
    "\n",
    "        # inverse of covariance\n",
    "        invLy = np.linalg.inv(Ly)\n",
    "        invKy = invLy.T.dot(invLy) # invK = invL^T invL\n",
    "\n",
    "        # alpha\n",
    "        alp = invKy.dot(y)\n",
    "\n",
    "        # log marginal posterior\n",
    "        logPos = (logMargLike(y, alp, Ly, N) \n",
    "                  + ss.invgamma(a = pam1[0], scale = pam1[1]).logpdf(theta[0]**2) \n",
    "                  + ss.invgamma(a = pam2[0], scale = pam2[1]).logpdf(theta[1]**2) \n",
    "                  + ss.invgamma(a = pam3[0], scale = pam3[1]).logpdf(theta[2]**2)\n",
    "                 ) \n",
    "    return(logPos)\n",
    "\n",
    "# log_pos_hmc(Xtrain, ytrain, np.array([std_y, 1, 2]), np.array([2,2]), np.array([2,2]), np.array([2,2]))\n",
    "# log_pos_hmc(Xtrain, ytrain, np.array([std_y, np.nan, 2]), np.array([2,2]), np.array([2,2]), np.array([2,2]))\n",
    "# log_pos_hmc(Xtrain, ytrain, np.array([std_y, -1, 2]), np.array([2,2]), np.array([2,2]), np.array([2,2]))"
   ]
  },
  {
   "cell_type": "markdown",
   "metadata": {},
   "source": [
    "### Gradients of the posterior model\n",
    "\n",
    "As note we can re-use the gradients already derived for the likelihood part, so we simply have to define the gradients for the inverse gamma terms, and combine the likelihood and prior terms. \n",
    "\n",
    "#### Greadients of inverse gamma"
   ]
  },
  {
   "cell_type": "code",
   "execution_count": 98,
   "metadata": {},
   "outputs": [],
   "source": [
    "def my_invgamma_gradient_x(x,a,b):\n",
    "    grad = -2*(a+1) / x + 2 * b * x**(-3)  \n",
    "    return(grad)\n",
    "\n",
    "# Test implementation\n",
    "# def my_invgamma_gradient_numerical(x,a,b):\n",
    "#     e = 1e-4\n",
    "#     x_lo = x**2 - e\n",
    "#     x_hi = x**2 + e\n",
    "#     grad = ( np.log(my_invgamma_pdf(x_hi, a, b) ) - np.log( my_invgamma_pdf(x_lo, a, b) ) ) / (2*e)\n",
    "#     return(grad)\n",
    "#\n",
    "# # Test\n",
    "# xtt = np.array([0.5])\n",
    "# print( my_invgamma_gradient_x2(xtt,2,2) )\n",
    "# print( my_invgamma_gradient_numerical(xtt,2,2) )"
   ]
  },
  {
   "cell_type": "markdown",
   "metadata": {},
   "source": [
    "#### Gradients of parameter posterior"
   ]
  },
  {
   "cell_type": "code",
   "execution_count": 99,
   "metadata": {},
   "outputs": [
    {
     "name": "stdout",
     "output_type": "stream",
     "text": [
      "[ 3.91239156e+03  9.04441012e-02 -4.83252533e+00]\n",
      "[ 3.91239984e+03  9.04443554e-02 -4.83252563e+00]\n"
     ]
    }
   ],
   "source": [
    "def hmc_gradients(x,y,theta,pam1,pam2,pam3):\n",
    "    nX = x.shape[0]\n",
    "    \n",
    "    Ky = Ky_kern(x, x, theta[0], theta[1], theta[2]) + np.eye(nX)*1e-8\n",
    "    Ly = np.linalg.cholesky(Ky)\n",
    "    invLy = np.linalg.inv(Ly)\n",
    "    invKy = invLy.T.dot(invLy) # invK = invL^T invL\n",
    "    alp = invKy.dot(y)\n",
    "    \n",
    "    # gradient wrt noise standard deviation\n",
    "    dKsy = derivative_sig_y(nX, theta[0]) \n",
    "    dMsy = calculate_gradient(alp, invKy, dKsy) + my_invgamma_gradient_x(theta[0],pam1[0],pam1[1])\n",
    "    \n",
    "    # gradient wrt signal standard deviation\n",
    "    dKsf = derivative_sig_f(x, theta[1], theta[2]) \n",
    "    dMsf = calculate_gradient(alp, invKy, dKsf) + my_invgamma_gradient_x(theta[1],pam2[0],pam2[1])\n",
    "    \n",
    "    # gradient wrt signal standard deviation\n",
    "    dKlf = derivative_l_f(x, theta[1], theta[2]) \n",
    "    dMlf = calculate_gradient(alp, invKy, dKlf) + my_invgamma_gradient_x(theta[2],pam3[0],pam3[1])\n",
    "    \n",
    "    dMtheta = np.array([dMsy, dMsf, dMlf])\n",
    "    return(dMtheta)\n",
    "\n",
    "# Test implementation - OK\n",
    "def hmc_gradients_numeric(x,y,theta,pam1,pam2,pam3):\n",
    "    d = len(theta)\n",
    "    e = 1e-4\n",
    "    grad = np.zeros(d)\n",
    "    for i in range(d):\n",
    "        th_lo = theta.copy(); \n",
    "        th_hi = theta.copy(); \n",
    "        th_lo[i] -= e; \n",
    "        th_hi[i] += e; \n",
    "        \n",
    "        grad[i] = ( log_pos_hmc(x,y,th_hi,pam1,pam2,pam3) - log_pos_hmc(x,y,th_lo,pam1,pam2,pam3) ) / (2*e)\n",
    "    return(grad)\n",
    "\n",
    "print(hmc_gradients(Xtrain, ytrain, np.array([0.1, 1., 2.]), np.array([2,2]), np.array([2,2]), np.array([2,2])))\n",
    "print(hmc_gradients_numeric(Xtrain, ytrain, np.array([0.1, 1., 2.]), np.array([2,2]), np.array([2,2]), np.array([2,2])))"
   ]
  },
  {
   "cell_type": "markdown",
   "metadata": {},
   "source": [
    "### Sampling from the posterior\n",
    "\n",
    "This shows how to sample from éne chain; in a real application, we would initialize multiple chains overdispered in the plausable range of the variables and check for mixing.\n",
    "\n",
    "#### Function implementing óne HMC iteration"
   ]
  },
  {
   "cell_type": "code",
   "execution_count": 100,
   "metadata": {},
   "outputs": [],
   "source": [
    "# One HMC iteration\n",
    "def hmc_iteration(x,y,theta,pam1,pam2,pam3,epsilon,nLeap,M):\n",
    "    M_inv = 1/M\n",
    "    d = len(theta)\n",
    "    \n",
    "    # initialize\n",
    "    phi = np.random.normal(loc=np.zeros(d), scale=np.sqrt(M))\n",
    "    theta0 = theta.copy()\n",
    "    \n",
    "    # log posterior\n",
    "    log_pos0 = log_pos_hmc(x,y,theta,pam1,pam2,pam3) - 0.5*np.sum(M_inv*phi**2)\n",
    "    \n",
    "    # leapfrog steps\n",
    "    phi += 0.5*epsilon*hmc_gradients(x,y,theta,pam1,pam2,pam3)\n",
    "    for l in range(nLeap):\n",
    "        theta += epsilon*M_inv*phi\n",
    "        if (l==(nLeap-1)):\n",
    "            phi += 0.5*epsilon*hmc_gradients(x,y,theta,pam1,pam2,pam3)\n",
    "        else:\n",
    "            phi += 1.0*epsilon*hmc_gradients(x,y,theta,pam1,pam2,pam3)\n",
    "    \n",
    "    # Metropolis step\n",
    "    log_pos1 = log_pos_hmc(x,y,theta,pam1,pam2,pam3) - 0.5*np.sum(M_inv*phi**2)\n",
    "    ratio = np.min( [(log_pos1 - log_pos0 ), 0] )\n",
    "    if np.log(np.random.uniform()) < ratio: \n",
    "        theta1 = theta\n",
    "        counter = 1\n",
    "    else:\n",
    "        theta1 = theta0\n",
    "        counter = 0\n",
    "    \n",
    "    return(theta1, counter)\n",
    "\n",
    "# hmc_iteration(Xtrain,ytrain,np.array([0.1, 1., 2.]),np.array([2,2]),np.array([2,2]),np.array([2,2]),0.001, 3, np.ones(3))"
   ]
  },
  {
   "cell_type": "markdown",
   "metadata": {},
   "source": [
    "#### Sampling from the posterior - one chain wrapper for the function above"
   ]
  },
  {
   "cell_type": "code",
   "execution_count": null,
   "metadata": {},
   "outputs": [],
   "source": [
    "np.random.seed(100)\n",
    "n_samp_hmc = 10**3\n",
    "epsilon0 = 0.1\n",
    "nLeap0 = 10\n",
    "eps = 1e-8\n",
    "\n",
    "samp_hmc = np.zeros([n_samp_hmc, 3])\n",
    "samp_hmc[0,:] = np.array([0.1, 1., 2.]) + eps\n",
    "mass_vec = 1/(2*samp_hmc[0,:]**2) + eps\n",
    "\n",
    "counter = 0\n",
    "for t in range(1,n_samp_hmc,1):\n",
    "    th_t, count_t = hmc_iteration(Xtrain, ytrain, \n",
    "                                  samp_hmc[t-1,:], \n",
    "                                  np.array([2,1/8]), np.array([2,2]), np.array([2,2]), \n",
    "                                  epsilon0, nLeap0 , mass_vec)\n",
    "    samp_hmc[t,:] = th_t.copy()\n",
    "    counter += count_t\n",
    "    \n",
    "print('Acceptance rate: ', counter/n_samp_hmc) # Gelman (2013) recommend ~60-70% for HMC "
   ]
  },
  {
   "cell_type": "markdown",
   "metadata": {},
   "source": [
    "### Analyse samples\n",
    "\n",
    "We regard the first half of the samples as burn-in, and plot the posterior samples (blue)."
   ]
  },
  {
   "cell_type": "code",
   "execution_count": null,
   "metadata": {},
   "outputs": [],
   "source": [
    "samp_hmc0 = samp_hmc[0:round(n_samp_hmc/2),:] # burn-in\n",
    "samp_hmc1 = samp_hmc[round(n_samp_hmc/2):n_samp_hmc,:] # without burn-in\n",
    "\n",
    "plt.figure()\n",
    "# plt.hist(samp_hmc0[:,0], color='red' );\n",
    "plt.hist(samp_hmc1[:,0] , color='blue' );\n",
    "plt.title('Noise standard deviation')\n",
    "\n",
    "plt.figure()\n",
    "# plt.hist(samp_hmc0[:,1], color='red' );\n",
    "plt.hist(samp_hmc1[:,1] , color='blue' );\n",
    "plt.title('Kernel standard deviation (signal)')\n",
    "\n",
    "plt.figure()\n",
    "# plt.hist(samp_hmc0[:,2], color='red' );\n",
    "plt.hist(samp_hmc1[:,2] , color='blue' );\n",
    "plt.title('Kernel length scale (signal)');"
   ]
  },
  {
   "cell_type": "markdown",
   "metadata": {},
   "source": [
    "### Posterior predictive distribution: Point estimate\n",
    "\n",
    "Here we pick óne parameter setting for the parameters.\n",
    "\n",
    "#### Plot the resulting model\n",
    "\n",
    "Sample from the posterior and 95\\% Bayesian credible interval of the posterior model."
   ]
  },
  {
   "cell_type": "code",
   "execution_count": null,
   "metadata": {},
   "outputs": [],
   "source": [
    "par_est = (ss.mode(samp_hmc1)[0][0]); print(par_est)\n",
    "\n",
    "amplitude = par_est[1]; length_scale=par_est[2]\n",
    "K = se_kern(Xtrain, Xtrain, amplitude, length_scale)\n",
    "K_s = se_kern(Xtrain, Xtest, amplitude, length_scale)\n",
    "K_ss = se_kern(Xtest, Xtest, amplitude, length_scale)\n",
    "\n",
    "# Apply the kernel function to our training points\n",
    "L = np.linalg.cholesky(K + np.eye(nX_tr)*par_est[0]**2)\n",
    "\n",
    "# predictive mean\n",
    "alp_m = np.linalg.solve(L.T,np.linalg.solve(L, ytrain))\n",
    "mu_pos = np.dot(K_s.T, alp_m)\n",
    "\n",
    "# predictive variance\n",
    "vv_m = np.linalg.solve(L,K_s)\n",
    "cov_pos = K_ss - vv_m.T.dot(vv_m)\n",
    "std_pos = (np.diag(cov_pos)**(0.5)).reshape(-1,1) # may need abs as variance is zero at training points (no error), which may be encoded as -0 (no allowed)\n",
    "\n",
    "# Draw samples from the posterior at our test points.\n",
    "n_samp_pos = 3\n",
    "L_pos = np.linalg.cholesky(cov_pos + eps*np.eye(nX_te))\n",
    "f_pos = mu_pos + np.dot(L_pos, np.random.normal(size=(nX_te,n_samp_pos)))\n",
    "\n",
    "plt.plot(Xtrain, ytrain, 'bs', ms=6)\n",
    "plt.plot(Xtest, ytest, 'gs', ms=3);\n",
    "plt.plot(Xtest, f_pos);\n",
    "plt.fill_between(x=Xtest[:,0], y1=mu_pos[:,0]-2*std_pos[:,0], y2=mu_pos[:,0]+2*std_pos[:,0], alpha=0.1, color='blue');\n",
    "plt.plot(Xtest, mu_pos, 'r--', lw=2)\n",
    "plt.axis([-5, 5, -3, 3]);\n",
    "plt.title('Samples from the GP posterior along with the training ');\n",
    "# plt.show()\n",
    "\n",
    "print('Log marginal likelihood: ', - 0.5 * ytrain.T.dot( alp_m ) - np.sum( np.log( np.diag(L) ) ) - 0.5 * nX_tr * np.log(2*np.pi) )"
   ]
  },
  {
   "cell_type": "markdown",
   "metadata": {},
   "source": [
    "### Posterior predictive distribution: Full Baysian inference\n",
    "\n",
    "Here we average over the posterior samples.\n",
    "\n",
    "#### Evaluate mean function and covariance for all posterior samples"
   ]
  },
  {
   "cell_type": "code",
   "execution_count": null,
   "metadata": {},
   "outputs": [],
   "source": [
    "n_samp = samp_hmc1.shape[0]\n",
    "m_points = Xtest.shape[0]\n",
    "\n",
    "mu_pos_samples = np.zeros(( n_samp, m_points )) \n",
    "std_pos_samples = np.zeros(( n_samp, m_points )) \n",
    "\n",
    "for i in range(n_samp):\n",
    "    par_vec_i = samp_hmc1[i,:]\n",
    "    \n",
    "    amplitude = par_vec_i[1]; length_scale=par_vec_i[2]\n",
    "    K = se_kern(Xtrain, Xtrain, amplitude, length_scale)\n",
    "    K_s = se_kern(Xtrain, Xtest, amplitude, length_scale)\n",
    "    K_ss = se_kern(Xtest, Xtest, amplitude, length_scale)\n",
    "    \n",
    "    # Apply the kernel function to our training points\n",
    "    L = np.linalg.cholesky(K + np.eye(nX_tr)*par_vec_i[0]**2)\n",
    "\n",
    "    # predictive mean\n",
    "    alp_m = np.linalg.solve(L.T,np.linalg.solve(L, ytrain))\n",
    "    mu_pos = np.dot(K_s.T, alp_m)\n",
    "\n",
    "    # predictive variance\n",
    "    vv_m = np.linalg.solve(L,K_s)\n",
    "    cov_pos = K_ss - vv_m.T.dot(vv_m)\n",
    "    std_pos = (np.diag(cov_pos)**(0.5)).reshape(-1,1)\n",
    "    \n",
    "    mu_pos_samples[i,:] = mu_pos.T\n",
    "    std_pos_samples[i,:] = std_pos.T"
   ]
  },
  {
   "cell_type": "markdown",
   "metadata": {},
   "source": [
    "#### Define sample statistics for the latent function (f) and the output (y)"
   ]
  },
  {
   "cell_type": "code",
   "execution_count": null,
   "metadata": {},
   "outputs": [],
   "source": [
    "f_stats = np.zeros((m_points,3))\n",
    "y_stats = np.zeros((m_points,3))\n",
    "noise_y = np.random.normal(np.zeros(n_samp))\n",
    "for i in range(m_points):\n",
    "    f_samp_i = mu_pos_samples[:,i]\n",
    "    f_samp_i_m = np.mean(f_samp_i)\n",
    "#     f_samp_i_m = np.quantile(f_samp_i, 0.5)\n",
    "    f_samp_i_q = np.quantile(f_samp_i, [0.025, 0.975])\n",
    "    f_stats[i,:] = np.concatenate(([f_samp_i_m],f_samp_i_q), axis=0)\n",
    "    \n",
    "    y_samp_i = mu_pos_samples[:,i] + noise_y * std_pos_samples[:,i]\n",
    "    y_samp_i_m = np.mean(y_samp_i)\n",
    "#     y_samp_i_m = np.quantile(y_samp_i, 0.5)\n",
    "    y_samp_i_q = np.quantile(y_samp_i, [0.025, 0.975])\n",
    "    y_stats[i,:] = np.concatenate(([y_samp_i_m],y_samp_i_q), axis=0)"
   ]
  },
  {
   "cell_type": "markdown",
   "metadata": {},
   "source": [
    "#### Plot the resulting model\n",
    "\n",
    "95\\% Bayesian credible interval of the posterior model."
   ]
  },
  {
   "cell_type": "code",
   "execution_count": null,
   "metadata": {},
   "outputs": [],
   "source": [
    "# Plot training and test data\n",
    "plt.plot(Xtrain, ytrain, 'bs', ms=6)\n",
    "plt.plot(Xtest, ytest, 'gs', ms=3);\n",
    "# Predictive mean\n",
    "plt.plot(Xtest, f_stats[:,0], 'r--', lw=2)\n",
    "# Shade in credible region\n",
    "plt.fill_between(Xtest[:,0], y_stats[:,1], y_stats[:,2], alpha=0.1, color='blue')\n",
    "plt.fill_between(Xtest[:,0], f_stats[:,1], f_stats[:,2], alpha=0.5)\n",
    "plt.axis([-5, 5, -3, 3]);\n",
    "plt.title('Samples from the GP posterior along with the training ');"
   ]
  },
  {
   "cell_type": "markdown",
   "metadata": {},
   "source": [
    "## Parameter learning: GPy with MLE\n",
    "\n",
    "Now that we have considered how it works, we are allowed to cheat with the GPy library... \n",
    "\n",
    "### GPy model"
   ]
  },
  {
   "cell_type": "code",
   "execution_count": null,
   "metadata": {},
   "outputs": [],
   "source": [
    "# Make a GP regression model\n",
    "model = GPy.models.GPRegression(Xtrain,ytrain); # define model\n",
    "model.optimize_restarts(num_restarts = 10); # optimize\n",
    "display(model); # display resulting model"
   ]
  },
  {
   "cell_type": "markdown",
   "metadata": {},
   "source": [
    "### Plot the resulting model\n",
    "\n",
    "Sample from the posterior and 95\\% Bayesian credible interval of the posterior model."
   ]
  },
  {
   "cell_type": "code",
   "execution_count": null,
   "metadata": {},
   "outputs": [],
   "source": [
    "sig_y, sig_f, l_f = np.sqrt(model.Gaussian_noise.variance[0]), np.sqrt(model.rbf.variance[0]), model.rbf.lengthscale[0]\n",
    "print( np.array([sig_y, sig_f, l_f]) )\n",
    "K_s = se_kern(Xtrain, Xtest, sig_f, l_f)\n",
    "K_ss = se_kern(Xtest, Xtest, sig_f, l_f)\n",
    "\n",
    "# Apply the kernel function to our training points\n",
    "Ky = Ky_kern(Xtrain, Xtrain, sig_y, sig_f, l_f)\n",
    "Ly = np.linalg.cholesky(Ky)\n",
    "\n",
    "# inverse of covariance\n",
    "invLy = np.linalg.inv(Ly)\n",
    "invKy = invLy.T.dot(invLy) # invK = invL^T invL\n",
    "\n",
    "# alpha\n",
    "alp_y = invKy.dot(ytrain)\n",
    "\n",
    "# predictive mean\n",
    "mu_pos = np.dot(K_s.T, alp_y)\n",
    "\n",
    "# predictive variance\n",
    "vv_m = np.linalg.solve(Ly,K_s)\n",
    "cov_pos = K_ss - vv_m.T.dot(vv_m)\n",
    "std_pos = (np.diag(cov_pos)**(0.5)).reshape(-1,1) # may need abs as variance is zero at training points (no error), which may be encoded as -0 (no allowed)\n",
    "\n",
    "# Draw samples from the posterior at our test points.\n",
    "n_samp_pos = 3\n",
    "L_pos = np.linalg.cholesky(cov_pos + eps*np.eye(nX_te))\n",
    "f_pos = mu_pos + np.dot(L_pos, np.random.normal(size=(nX_te,n_samp_pos)))\n",
    "\n",
    "plt.plot(Xtrain, ytrain, 'bs', ms=6)\n",
    "plt.plot(Xtest, ytest, 'gs', ms=3);\n",
    "plt.plot(Xtest, f_pos);\n",
    "plt.fill_between(x=Xtest[:,0], y1=mu_pos[:,0]-2*std_pos[:,0], y2=mu_pos[:,0]+2*std_pos[:,0], alpha=0.1, color='blue');\n",
    "plt.plot(Xtest, mu_pos, 'r--', lw=2)\n",
    "plt.axis([-5, 5, -3, 3]);\n",
    "plt.title('Samples from the GP posterior along with the training ');\n",
    "# plt.show()\n",
    "\n",
    "print('Log marginal likelihood: ', - 0.5 * ytrain.T.dot( alp_y ) - np.sum( np.log( np.diag(Ly) ) ) - 0.5 * nX_tr * np.log(2*np.pi) )"
   ]
  },
  {
   "cell_type": "markdown",
   "metadata": {},
   "source": [
    "## Parameter learning: GPy with HMC inference\n",
    "\n",
    "### The generative story\n",
    "\n",
    "In this section, we will use a log-normal proposal distribution (non-symmetric) and the following generative model in the MCMC of Metropolis-Hastings;\n",
    "\n",
    "$$ p(\\theta |\\mathcal{D}) \\propto p(\\mathbf{y}|\\mathbf{X},\\boldsymbol\\theta) p(\\boldsymbol\\theta), $$\n",
    "\n",
    "where $$ {\\theta_i} =  \\text{Inv-Gamma}(2,2), $$\n",
    "\n",
    "and $\\{\\theta_i\\}_{i=1}^3 = \\{ \\sigma^2, \\sigma_f, l^2 \\}$.\n",
    "\n",
    "### GPy model"
   ]
  },
  {
   "cell_type": "code",
   "execution_count": null,
   "metadata": {},
   "outputs": [],
   "source": [
    "# Make a GP regression model\n",
    "model = GPy.models.GPRegression(Xtrain,ytrain)\n",
    "# Give some general prior distributions for model parameters\n",
    "model.kern.lengthscale.set_prior(GPy.priors.Gamma(2,1/2))\n",
    "model.kern.variance.set_prior(GPy.priors.Gamma(2,1/2))\n",
    "model.likelihood.variance.set_prior(GPy.priors.Gamma(2,1/2))\n",
    "print(model)"
   ]
  },
  {
   "cell_type": "markdown",
   "metadata": {},
   "source": [
    "### Sampling from the posterior distribution of model parameters\n",
    "\n",
    "This shows how to sample from éne chain; in a real application, we would initialize multiple chains overdispered in the plausable range of the variables and check for mixing."
   ]
  },
  {
   "cell_type": "code",
   "execution_count": null,
   "metadata": {},
   "outputs": [],
   "source": [
    "hmc = GPy.inference.mcmc.HMC(model,stepsize=1e-1)\n",
    "hmc_samp = hmc.sample(num_samples=1000)"
   ]
  },
  {
   "cell_type": "markdown",
   "metadata": {},
   "source": [
    "### Analyse samples\n",
    "\n",
    "We regard the first half of the samples as burn-in, and plot the posterior samples (blue)."
   ]
  },
  {
   "cell_type": "code",
   "execution_count": null,
   "metadata": {},
   "outputs": [],
   "source": [
    "samples = hmc_samp[500:] # cut out the burn-in period\n",
    "my_ind = [2,0,1] # my indexing\n",
    "samples = samples[:,my_ind] # redefine samples with my indexing\n",
    "\n",
    "plt.figure()\n",
    "plt.hist(np.sqrt( samples[:,0] ));\n",
    "plt.title('Gaussian noise standard deviation');\n",
    "\n",
    "plt.figure()\n",
    "plt.hist(np.sqrt( samples[:,1] ));\n",
    "plt.title('RBF standard deviation');\n",
    "\n",
    "plt.figure()\n",
    "plt.hist( samples[:,2] );\n",
    "plt.title('RBF lengthscale');"
   ]
  },
  {
   "cell_type": "code",
   "execution_count": null,
   "metadata": {},
   "outputs": [],
   "source": [
    "plt.plot(samples);\n",
    "plt.title('Trace plots');"
   ]
  },
  {
   "cell_type": "markdown",
   "metadata": {},
   "source": [
    "### Posterior predictive distribution: Point estimate\n",
    "\n",
    "Here we pick óne parameter setting for the parameters.\n",
    "\n",
    "#### Plot the resulting model\n",
    "\n",
    "Sample from the posterior and 95\\% Bayesian credible interval of the posterior model."
   ]
  },
  {
   "cell_type": "code",
   "execution_count": null,
   "metadata": {},
   "outputs": [],
   "source": [
    "# define parameters vector, as use above\n",
    "par_est = (ss.mode(samples)[0][0]); \n",
    "par_est[0:2] = np.sqrt(par_est[0:2]); print(par_est)\n",
    "\n",
    "amplitude = par_est[1]; length_scale=par_est[2]\n",
    "K = se_kern(Xtrain, Xtrain, amplitude, length_scale)\n",
    "K_s = se_kern(Xtrain, Xtest, amplitude, length_scale)\n",
    "K_ss = se_kern(Xtest, Xtest, amplitude, length_scale)\n",
    "\n",
    "# Apply the kernel function to our training points\n",
    "L = np.linalg.cholesky(K + np.eye(nX_tr)*par_est[0]**2)\n",
    "\n",
    "# predictive mean\n",
    "alp_m = np.linalg.solve(L.T,np.linalg.solve(L, ytrain))\n",
    "mu_pos = np.dot(K_s.T, alp_m)\n",
    "\n",
    "# predictive variance\n",
    "vv_m = np.linalg.solve(L,K_s)\n",
    "cov_pos = K_ss - vv_m.T.dot(vv_m)\n",
    "std_pos = (np.diag(cov_pos)**(0.5)).reshape(-1,1) # may need abs as variance is zero at training points (no error), which may be encoded as -0 (no allowed)\n",
    "\n",
    "# Draw samples from the posterior at our test points.\n",
    "n_samp_pos = 3\n",
    "L_pos = np.linalg.cholesky(cov_pos + eps*np.eye(nX_te))\n",
    "f_pos = mu_pos + np.dot(L_pos, np.random.normal(size=(nX_te,n_samp_pos)))\n",
    "\n",
    "plt.plot(Xtrain, ytrain, 'bs', ms=6)\n",
    "plt.plot(Xtest, ytest, 'gs', ms=3);\n",
    "plt.plot(Xtest, f_pos);\n",
    "plt.fill_between(x=Xtest[:,0], y1=mu_pos[:,0]-2*std_pos[:,0], y2=mu_pos[:,0]+2*std_pos[:,0], alpha=0.1, color='blue');\n",
    "plt.plot(Xtest, mu_pos, 'r--', lw=2)\n",
    "plt.axis([-5, 5, -3, 3]);\n",
    "plt.title('Samples from the GP posterior along with the training ');\n",
    "# plt.show()\n",
    "\n",
    "print('Log marginal likelihood: ', - 0.5 * ytrain.T.dot( alp_m ) - np.sum( np.log( np.diag(L) ) ) - 0.5 * nX_tr * np.log(2*np.pi) )"
   ]
  },
  {
   "cell_type": "markdown",
   "metadata": {},
   "source": [
    "### Posterior predictive distribution: Full Baysian inference\n",
    "\n",
    "Here we average over the posterior samples.\n",
    "\n",
    "#### Evaluate mean function and covariance for all posterior samples"
   ]
  },
  {
   "cell_type": "code",
   "execution_count": null,
   "metadata": {},
   "outputs": [],
   "source": [
    "samples[:,0:2] = np.sqrt( samples[:,0:2] )\n",
    "n_samp = samples.shape[0]\n",
    "m_points = Xtest.shape[0]\n",
    "\n",
    "mu_pos_samples = np.zeros(( n_samp, m_points )) \n",
    "std_pos_samples = np.zeros(( n_samp, m_points )) \n",
    "\n",
    "for i in range(n_samp):\n",
    "    par_vec_i = samples[i,:]\n",
    "    \n",
    "    amplitude = par_vec_i[1]; length_scale=par_vec_i[2]\n",
    "    K = se_kern(Xtrain, Xtrain, amplitude, length_scale)\n",
    "    K_s = se_kern(Xtrain, Xtest, amplitude, length_scale)\n",
    "    K_ss = se_kern(Xtest, Xtest, amplitude, length_scale)\n",
    "    \n",
    "    # Apply the kernel function to our training points\n",
    "    L = np.linalg.cholesky(K + np.eye(nX_tr)*par_vec_i[0]**2)\n",
    "\n",
    "    # predictive mean\n",
    "    alp_m = np.linalg.solve(L.T,np.linalg.solve(L, ytrain))\n",
    "    mu_pos = np.dot(K_s.T, alp_m)\n",
    "\n",
    "    # predictive variance\n",
    "    vv_m = np.linalg.solve(L,K_s)\n",
    "    cov_pos = K_ss - vv_m.T.dot(vv_m)\n",
    "    std_pos = (np.diag(cov_pos)**(0.5)).reshape(-1,1)\n",
    "    \n",
    "    mu_pos_samples[i,:] = mu_pos.T\n",
    "    std_pos_samples[i,:] = std_pos.T"
   ]
  },
  {
   "cell_type": "markdown",
   "metadata": {},
   "source": [
    "#### Define sample statistics for the latent function (f) and the output (y)"
   ]
  },
  {
   "cell_type": "code",
   "execution_count": null,
   "metadata": {},
   "outputs": [],
   "source": [
    "f_stats = np.zeros((m_points,3))\n",
    "y_stats = np.zeros((m_points,3))\n",
    "noise_y = np.random.normal(np.zeros(n_samp))\n",
    "for i in range(m_points):\n",
    "    f_samp_i = mu_pos_samples[:,i]\n",
    "    f_samp_i_m = np.mean(f_samp_i)\n",
    "#     f_samp_i_m = np.quantile(f_samp_i, 0.5)\n",
    "    f_samp_i_q = np.quantile(f_samp_i, [0.025, 0.975])\n",
    "    f_stats[i,:] = np.concatenate(([f_samp_i_m],f_samp_i_q), axis=0)\n",
    "    \n",
    "    y_samp_i = mu_pos_samples[:,i] + noise_y * std_pos_samples[:,i]\n",
    "    y_samp_i_m = np.mean(y_samp_i)\n",
    "#     y_samp_i_m = np.quantile(y_samp_i, 0.5)\n",
    "    y_samp_i_q = np.quantile(y_samp_i, [0.025, 0.975])\n",
    "    y_stats[i,:] = np.concatenate(([y_samp_i_m],y_samp_i_q), axis=0)"
   ]
  },
  {
   "cell_type": "markdown",
   "metadata": {},
   "source": [
    "#### Plot the resulting model\n",
    "\n",
    "95\\% Bayesian credible interval of the posterior model."
   ]
  },
  {
   "cell_type": "code",
   "execution_count": null,
   "metadata": {},
   "outputs": [],
   "source": [
    "# Plot training and test data\n",
    "plt.plot(Xtrain, ytrain, 'bs', ms=6)\n",
    "plt.plot(Xtest, ytest, 'gs', ms=3);\n",
    "# Predictive mean\n",
    "plt.plot(Xtest, f_stats[:,0], 'r--', lw=2)\n",
    "# Shade in credible region\n",
    "plt.fill_between(Xtest[:,0], y_stats[:,1], y_stats[:,2], alpha=0.1, color='blue')\n",
    "plt.fill_between(Xtest[:,0], f_stats[:,1], f_stats[:,2], alpha=0.5)\n",
    "plt.axis([-5, 5, -3, 3]);\n",
    "plt.title('Samples from the GP posterior along with the training ');"
   ]
  },
  {
   "cell_type": "markdown",
   "metadata": {},
   "source": [
    "# Multi-output Gaussian Process Regression\n",
    "\n",
    "See Alvarez et al. (2012) for a reference on multi-output Gaussian processes.\n",
    "\n",
    "## The model\n",
    "\n",
    "In this section, the framework presented in the foregoing section is extended to cover multi-output processes, thus the available data set for this case is $\\mathcal{D}=\\{ \\mathbf{X}, \\mathbf{Y} \\} = \\{ \\mathbf{x}[n], \\mathbf{y}[n] \\}_{n=1}^N$, where both the inputs and outputs are vector-valued. Furthermore, in the further treatment, it is assumed that all inputs are applied in the regression for all outputs.\n",
    "\n",
    "In multi-output learning the output space is a vector space, thus leading to a vector-valued estimator $\\mathbf{f}$, which is assumed to follow a GP:\n",
    "\n",
    "$$ \\mathbf{f} \\sim \\mathcal{GP}(\\mathbf{m}, \\mathbf{K}), $$\n",
    "\n",
    "where $\\mathbf{m}=\\{m_d(\\mathbf{x})\\}_{d=1}^D$, i.e. the expected value functions of the outputs, and $\\mathbf{K} = ( \\mathbf{K}(\\mathbf{x}, \\mathbf{x}') )_{d,d'}$ is a matrix-valued function, such that the entries  correspond to the covariances between the outputs $f_d(\\mathbf{x})$ and $f_{d'}(\\mathbf{x}')$. Under proper normalization of the data, the expected value functions can be assumed to be the zero vector without loss of generality, and the covariance function should then capture basic aspects of the process, such as stationarity and smoothness.\n",
    "\n",
    "The prior distribution over $\\mathbf{f}$ takes the form:\n",
    "\n",
    "$$ \\mathbf{f}(\\mathbf{X}) \\sim \\mathsf{N}(\\mathbf{m}(\\mathbf{X}), \\mathbf{K}(\\mathbf{X}, \\mathbf{X})), $$\n",
    "\n",
    "where $\\mathbf{m}(\\mathbf{X})$ is a vector that concatenates the expected value vectors of the outputs, and $\\mathbf{K}(\\mathbf{X}, \\mathbf{X})$ is a block partitioned matrix defined as\n",
    "\n",
    "$$ \\mathbf{K}(\\mathbf{X}, \\mathbf{X}) =\n",
    "\\left[ \\begin{array}{ccc} \n",
    "(\\mathbf{K}(\\mathbf{X},\\mathbf{X}))_{1,1} & \\cdots & (\\mathbf{K}(\\mathbf{X},\\mathbf{X}))_{1,D} \\\\\n",
    "(\\mathbf{K}(\\mathbf{X},\\mathbf{X}))_{2,1} & \\cdots & (\\mathbf{K}(\\mathbf{X},\\mathbf{X}))_{2,D} \\\\\n",
    "\\vdots & \\ddots & \\vdots \\\\\n",
    "(\\mathbf{K}(\\mathbf{X},\\mathbf{X}))_{D,1} & \\cdots & (\\mathbf{K}(\\mathbf{X},\\mathbf{X}))_{D,D} \\\\\n",
    "\\end{array} \\right]. $$\n",
    "\n",
    "If again a Gaussian likelihood model is assumed, i.e. \n",
    "\n",
    "$$ \\mathbf{y} \\sim \\mathcal{N}(\\mathbf{f}(\\mathbf{x}), \\Sigma) $$ \n",
    "\n",
    "with $\\Sigma$ representing a diagonal matrix of elements $\\{ \\sigma_d \\}_{d=1}^D$, the predictive distribution for a new data point $\\mathbf{x}_*$ has a closed form solution:\n",
    "\n",
    "$$ p(\\mathbf{f}(\\mathbf{x}_*) | \\mathcal{D}, \\mathbf{x}_*, \\boldsymbol\\Theta) = \\mathsf{N}(\\mathbf{f}_*(\\mathbf{x}_*), \\mathbf{K}_*(\\mathbf{x}_*, \\mathbf{x}_*) ) $$\n",
    "\n",
    "where $\\boldsymbol\\Theta$ denotes the set of model parameters, and $\\mathbf{f}(\\mathbf{x}_*)$ and $\\mathbf{K}_*(\\mathbf{x}_*, \\mathbf{x}_*)$ are defined as:\n",
    "\n",
    "$$ \\mathbf{f}_*(\\mathbf{x}_*) = \\mathbf{K}_{\\mathbf{x}_*}^T (\\mathbf{K}(\\mathbf{X},\\mathbf{X})+\\pmb{\\Sigma})^{-1}\\hat{\\mathbf{y}}_c $$\n",
    "\n",
    "$$ \\mathbf{K}_*(\\mathbf{x}_*, \\mathbf{x}_*) = \\mathbf{K}(\\mathbf{x}_*, \\mathbf{x}_*) -  \\mathbf{K}_{\\mathbf{x}_*}^T (\\mathbf{K}(\\mathbf{X},\\mathbf{X})+\\pmb{\\Sigma})^{-1} \\mathbf{K}_{\\mathbf{x}_*}, $$\n",
    "\n",
    "with $\\mathbf{y}_c$ being a vector of length $N \\times D$ that concatenates the observed output vectors, $\\pmb{\\Sigma} = \\Sigma \\otimes \\mathbf{I}_N$ is the Kronecker product between the noise covariance matrix and an identity matrix of size $N$, and $\\mathbf{K}_{\\mathbf{x}_*} = (\\mathbf{K}(\\mathbf{X}, \\mathbf{x}_*))_{d,d'}$. In this toturial, we will consider a seperable matrix-valued kernel defined via the intrinsic coregionalization model (ICM):\n",
    "\n",
    "$$ (\\mathbf{K}(\\mathbf{x}, \\mathbf{x}'))_{d,d'} = k_\\mathbf{x}(\\mathbf{x}, \\mathbf{x}') k_\\mathbf{y}(d,d'), $$\n",
    "\n",
    "where $k_\\mathbf{x}$ and $k_\\mathbf{y}$ encodes the covariances between the inputs and outputs, respectively. \n",
    "\n",
    "***\n",
    "\n",
    "Alvarez, M. A., Rosasco, L., Lawrence, N. D. (2012). Kernels for vector-valued functions:  A review.Founda-tions and Trends in Machine Learning, 4(3):195–266.\n",
    "\n",
    "***"
   ]
  },
  {
   "cell_type": "markdown",
   "metadata": {},
   "source": [
    "## Sample data"
   ]
  },
  {
   "cell_type": "code",
   "execution_count": null,
   "metadata": {},
   "outputs": [],
   "source": [
    "np.random.seed(42)\n",
    "# Noise free/Noisy training data\n",
    "nX_tr = 10\n",
    "std_y = 1e-1 # if noise free set to 1e-4 for numerical stability; corr. var = 1e-16 addition along diagonal\n",
    "XX = np.random.uniform(low=-4, high=1, size=(nX_tr,1)).reshape(-1,1)\n",
    "YY = np.concatenate((np.sin(XX), np.sin(XX+np.pi/4)), axis=1) + std_y*np.random.normal(size=(nX_tr,1))\n",
    "\n",
    "# Test data\n",
    "nX_te = 50\n",
    "XX_te = np.linspace(-5, 5, nX_te).reshape(-1,1)\n",
    "YY_te = np.concatenate((np.sin(XX_te), np.sin(XX_te+np.pi/4)), axis=1) + std_y*np.random.normal(size=(nX_te,1))\n",
    "\n",
    "# plot\n",
    "plt.plot(XX, YY[:,0], 'bs', ms=6);\n",
    "plt.plot(XX, YY[:,1], 'rs', ms=6);\n",
    "plt.plot(XX_te, YY_te[:,0], 'bs', ms=3);\n",
    "plt.plot(XX_te, YY_te[:,1], 'rs', ms=3);\n",
    "plt.xlabel('x');\n",
    "plt.ylabel('y');\n",
    "plt.title('Training set');"
   ]
  },
  {
   "cell_type": "markdown",
   "metadata": {},
   "source": [
    "## Posterior model considering the processes jointly\n",
    "\n",
    "The posterior is formed as for single-output GPs by conditioning the prior over functions on the training data.\n",
    "\n",
    "### Single-output quantities "
   ]
  },
  {
   "cell_type": "code",
   "execution_count": null,
   "metadata": {},
   "outputs": [],
   "source": [
    "amplitude = 1; length_scale=1.8\n",
    "K = se_kern(XX, XX, amplitude, length_scale)\n",
    "K_s = se_kern(XX, XX_te, amplitude, length_scale)\n",
    "K_ss = se_kern(XX_te, XX_te, amplitude, length_scale)\n",
    "K_y = np.array([[0.35, 0.25], [0.25, 0.5]]) # output kernel (true)\n",
    "SIG_y = (std_y**2)*np.eye(2)"
   ]
  },
  {
   "cell_type": "markdown",
   "metadata": {},
   "source": [
    "### Multi-output quantities\n",
    "\n",
    "The two processes in this example are observed at the same same inputs, i.e. we study an isoptopic multi-output case, as opposed to a situation where the outputs are observed at different inputs, which is referred to as heterotopic. Because we are studying the isotropic case, the multi-output quantities may conveniently be formed by kroneker products of the single-output quantities, thus $k_x(x,x') k_y(d,d')$ is defined in terms of kroneker products. Note that in the heterotropic case $k_x(x,x') k_y(d,d')$ is defined in terms of tensor products, as $k_x(x,x')$ is defined for the specific combination of outputs, and not just repeated for all output combinations as for the isotropic case."
   ]
  },
  {
   "cell_type": "code",
   "execution_count": null,
   "metadata": {},
   "outputs": [],
   "source": [
    "KK = np.kron(K_y,K) # compined Gram matrix\n",
    "KK_s = np.kron(K_y,K_s)\n",
    "KK_ss = np.kron(K_y,K_ss)\n",
    "SIG_KK = np.kron( SIG_y , np.eye(nX_tr) )\n",
    "Y_c = YY.ravel('F')[:, None]"
   ]
  },
  {
   "cell_type": "markdown",
   "metadata": {},
   "source": [
    "### Posterior predictive distribution\n",
    "\n",
    "95\\% Bayesian credible interval of the posterior model."
   ]
  },
  {
   "cell_type": "code",
   "execution_count": null,
   "metadata": {},
   "outputs": [],
   "source": [
    "# Apply the kernel function to our training points\n",
    "L_KKy = np.linalg.cholesky(KK + SIG_KK)\n",
    "invL_KKy = np.linalg.inv(L_KKy)\n",
    "invKKy = invL_KKy.T.dot(invL_KKy) # invK = invL^T invL\n",
    "\n",
    "# predictive mean\n",
    "MU_c = KK_s.T.dot( invKKy ).dot( Y_c )\n",
    "COV_c = KK_ss - (KK_s.T.dot( invKKy )).dot( KK_s )\n",
    "STD_c = np.sqrt( np.diag(COV_c) )\n",
    "\n",
    "MU = MU_c.reshape((2,nX_te)).T\n",
    "STD = STD_c.reshape((2,nX_te)).T\n",
    "\n",
    "plt.figure()\n",
    "plt.plot(XX, YY[:,0], 'bs', ms=6);\n",
    "plt.plot(XX, YY[:,1], 'rs', ms=6);\n",
    "plt.plot(XX_te, YY_te[:,0], 'bs', ms=3);\n",
    "plt.plot(XX_te, YY_te[:,1], 'rs', ms=3);\n",
    "plt.fill_between(x=XX_te[:,0], y1=MU[:,0]-2*STD[:,0], y2=MU[:,0]+2*STD[:,0], alpha=0.1, color='blue');\n",
    "plt.plot(XX_te, MU[:,0], 'b--', lw=2)\n",
    "plt.fill_between(x=XX_te[:,0], y1=MU[:,1]-2*STD[:,1], y2=MU[:,1]+2*STD[:,1], alpha=0.1, color='red');\n",
    "plt.plot(XX_te, MU[:,1], 'r--', lw=2)\n",
    "plt.axis([-5, 5, -2.5, 2.5]);\n",
    "plt.xlabel('x')\n",
    "plt.ylabel('f,y')\n",
    "plt.title('GP posterior model along with training data');\n",
    "# plt.show()"
   ]
  },
  {
   "cell_type": "markdown",
   "metadata": {},
   "source": [
    "As we have considered a zero mean function for the processes, the predictions will simply approach zero, as the distance to the training exampls gets larger, see e.g. x=5, thus this model should only be use as an interpolator or for extrapolation near the training points, as is also apparent from the plot."
   ]
  },
  {
   "cell_type": "markdown",
   "metadata": {},
   "source": [
    "## Posterior model considering the processes separately\n",
    "\n",
    "95\\% Bayesian credible interval of the posterior model."
   ]
  },
  {
   "cell_type": "code",
   "execution_count": null,
   "metadata": {},
   "outputs": [],
   "source": [
    "# Apply the kernel function to our training points\n",
    "Ky = K + (sig_y**2)*np.eye(nX_tr)\n",
    "Ly = np.linalg.cholesky(Ky)\n",
    "\n",
    "# inverse of covariance\n",
    "invLy = np.linalg.inv(Ly)\n",
    "invKy = invLy.T.dot(invLy) # invK = invL^T invL\n",
    "\n",
    "# alpha\n",
    "alp_y1 = invKy.dot(YY[:,0])\n",
    "alp_y2 = invKy.dot(YY[:,1])\n",
    "\n",
    "# predictive mean\n",
    "mu_pos1 = np.dot(K_s.T, alp_y1)\n",
    "mu_pos2 = np.dot(K_s.T, alp_y2)\n",
    "\n",
    "# predictive variance\n",
    "vv_m = np.linalg.solve(Ly,K_s)\n",
    "cov_pos = K_ss - vv_m.T.dot(vv_m)\n",
    "std_pos = (np.diag(cov_pos)**(0.5)).reshape(-1,1) # may need abs as variance is zero at training points (no error), which may be \n",
    "\n",
    "plt.figure()\n",
    "plt.plot(XX, YY[:,0], 'bs', ms=6);\n",
    "plt.plot(XX, YY[:,1], 'rs', ms=6);\n",
    "plt.plot(XX_te, YY_te[:,0], 'bs', ms=3);\n",
    "plt.plot(XX_te, YY_te[:,1], 'rs', ms=3);\n",
    "plt.fill_between(x=XX_te[:,0], y1=mu_pos1-2*std_pos[:,0], y2=mu_pos1+2*std_pos[:,0], alpha=0.1, color='blue');\n",
    "plt.plot(XX_te, mu_pos1, 'b--', lw=2)\n",
    "plt.fill_between(x=XX_te[:,0], y1=mu_pos2-2*std_pos[:,0], y2=mu_pos2+2*std_pos[:,0], alpha=0.1, color='red');\n",
    "plt.plot(XX_te, mu_pos2, 'r--', lw=2)\n",
    "plt.axis([-5, 5, -2.5, 2.5]);\n",
    "plt.xlabel('x')\n",
    "plt.ylabel('f,y')\n",
    "plt.title('GP posterior model along with training data');\n",
    "# # plt.show()"
   ]
  },
  {
   "cell_type": "markdown",
   "metadata": {},
   "source": [
    "Note that the uncertainty bounds are wider when considering the two processes separately! Thus, when the two processes are considered jointly, they borrow statistical power from each other through the output kernel $k_y(d,d')$, which expresses the output correlation."
   ]
  },
  {
   "cell_type": "markdown",
   "metadata": {},
   "source": [
    "## Parameter learning: GPy with MLE\n",
    "\n",
    "Learning of multi-output GPs follow the same approches as explained for single-output GPs above, so we will simply show how this can be done using GPy to minimize repetition.\n",
    "\n",
    "### Intrinsic Coregionalization Model (ICM) \n",
    "\n",
    "#### Re-structure the data into the formate GPY expects"
   ]
  },
  {
   "cell_type": "code",
   "execution_count": null,
   "metadata": {},
   "outputs": [],
   "source": [
    "Xgpy = np.vstack([\n",
    "    np.vstack([XX[:,0], np.ones_like(XX[:,0])*0]).T,\n",
    "    np.vstack([XX[:,0], np.ones_like(XX[:,0])*1]).T\n",
    "])\n",
    "ygpy = np.hstack([\n",
    "    YY[:,0].T,\n",
    "    YY[:,1].T\n",
    "])\n",
    "ygpy = ygpy.reshape((len(ygpy),1))"
   ]
  },
  {
   "cell_type": "markdown",
   "metadata": {},
   "source": [
    "#### Define IMC kernel"
   ]
  },
  {
   "cell_type": "code",
   "execution_count": null,
   "metadata": {},
   "outputs": [],
   "source": [
    "# icm = GPy.kern.RBF(input_dim=1)**GPy.kern.Coregionalize(input_dim=1,output_dim=2, rank=2)\n",
    "icm = GPy.util.multioutput.ICM(input_dim=1,num_outputs=2,kernel=GPy.kern.RBF(1),W_rank=2)\n",
    "display(icm)"
   ]
  },
  {
   "cell_type": "markdown",
   "metadata": {},
   "source": [
    "#### Fit model"
   ]
  },
  {
   "cell_type": "code",
   "execution_count": null,
   "metadata": {},
   "outputs": [],
   "source": [
    "model = GPy.models.GPRegression(Xgpy, ygpy, icm)\n",
    "model.optimize_restarts(num_restarts = 10);"
   ]
  },
  {
   "cell_type": "code",
   "execution_count": null,
   "metadata": {},
   "outputs": [],
   "source": [
    "out_sy=np.sqrt(model.Gaussian_noise.variance[0]); print(out_sy)\n",
    "rbf_sf=np.sqrt(model.ICM.rbf.variance[0]); print(rbf_sf)\n",
    "rbf_lf=(model.ICM.rbf.lengthscale[0]); print(rbf_lf)\n",
    "coteg_B=model.ICM.B.B; print(coteg_B)"
   ]
  },
  {
   "cell_type": "markdown",
   "metadata": {},
   "source": [
    "#### Plot model fit"
   ]
  },
  {
   "cell_type": "code",
   "execution_count": null,
   "metadata": {},
   "outputs": [],
   "source": [
    "amplitude = rbf_sf; length_scale=rbf_lf\n",
    "K = se_kern(XX, XX, amplitude, length_scale)\n",
    "K_s = se_kern(XX_te, XX, amplitude, length_scale)\n",
    "K_ss = se_kern(XX_te, XX_te, amplitude, length_scale)\n",
    "K_y = coteg_B\n",
    "SIG_y = (out_sy**2)*np.eye(2)\n",
    "\n",
    "KK = np.kron(K_y,K) # compined Gram matrix\n",
    "KK_s = np.kron(K_y,K_s)\n",
    "KK_ss = np.kron(K_y,K_ss)\n",
    "SIG_KK = np.kron( SIG_y , np.eye(nX_tr) )\n",
    "Y_c = YY.ravel('F')[:, None]\n",
    "\n",
    "# Apply the kernel function to our training points\n",
    "L_KKy = np.linalg.cholesky(KK + SIG_KK)\n",
    "invL_KKy = np.linalg.inv(L_KKy)\n",
    "invKKy = invL_KKy.T.dot(invL_KKy) # invK = invL^T invL\n",
    "\n",
    "# predictive mean\n",
    "MU_c = KK_s.dot( invKKy ).dot( Y_c )\n",
    "COV_c = KK_ss - (KK_s.dot( invKKy )).dot( KK_s.T )\n",
    "STD_c = np.sqrt( np.diag(COV_c) )\n",
    "\n",
    "MU = MU_c.reshape((2,nX_te)).T\n",
    "STD = STD_c.reshape((2,nX_te)).T\n",
    "\n",
    "plt.figure()\n",
    "plt.plot(XX, YY[:,0], 'bs', ms=6);\n",
    "plt.plot(XX, YY[:,1], 'rs', ms=6);\n",
    "plt.plot(XX_te, YY_te[:,0], 'bs', ms=3);\n",
    "plt.plot(XX_te, YY_te[:,1], 'rs', ms=3);\n",
    "plt.fill_between(x=XX_te[:,0], y1=MU[:,0]-2*STD[:,0], y2=MU[:,0]+2*STD[:,0], alpha=0.1, color='blue');\n",
    "plt.plot(XX_te, MU[:,0], 'b--', lw=2)\n",
    "plt.fill_between(x=XX_te[:,0], y1=MU[:,1]-2*STD[:,1], y2=MU[:,1]+2*STD[:,1], alpha=0.1, color='red');\n",
    "plt.plot(XX_te, MU[:,1], 'r--', lw=2)\n",
    "plt.axis([-5, 5, -2.5, 2.5]);\n",
    "plt.xlabel('x')\n",
    "plt.ylabel('f,y')\n",
    "plt.title('GP posterior model along with training data');\n",
    "# # plt.show()"
   ]
  },
  {
   "cell_type": "code",
   "execution_count": null,
   "metadata": {
    "scrolled": true
   },
   "outputs": [],
   "source": [
    "# Build-in GPy function\n",
    "fig, ax = plt.subplots()\n",
    "for i in range(2):\n",
    "    model.plot_latent(fignum=1,plot_limits=np.array([-5,5]),fixed_inputs=[(1, i)],ax=ax,legend=False)\n",
    "plt.xlabel('x')\n",
    "plt.ylabel('f')\n",
    "plt.ylim([-2.5, 2.5]);\n",
    "# plt.grid();"
   ]
  },
  {
   "cell_type": "markdown",
   "metadata": {},
   "source": [
    "### Independent models\n",
    "\n",
    "#### Define and fit models"
   ]
  },
  {
   "cell_type": "code",
   "execution_count": null,
   "metadata": {},
   "outputs": [],
   "source": [
    "model1 = GPy.models.GPRegression(XX,YY[:,0].reshape(-1,1))\n",
    "model2 = GPy.models.GPRegression(XX,YY[:,1].reshape(-1,1))\n",
    "\n",
    "model1.optimize_restarts(num_restarts = 5);\n",
    "model2.optimize_restarts(num_restarts = 5);"
   ]
  },
  {
   "cell_type": "markdown",
   "metadata": {},
   "source": [
    "#### Plot model fits"
   ]
  },
  {
   "cell_type": "code",
   "execution_count": null,
   "metadata": {},
   "outputs": [],
   "source": [
    "# Model 1\n",
    "sig_y, sig_f, l_f = np.sqrt(model1.Gaussian_noise.variance[0]), np.sqrt(model1.rbf.variance[0]), model1.rbf.lengthscale[0]\n",
    "K_s = se_kern(XX, XX_te, sig_f, l_f)\n",
    "K_ss = se_kern(XX_te, XX_te, sig_f, l_f)\n",
    "# Apply the kernel function to our training points\n",
    "Ky = Ky_kern(XX, XX, sig_y, sig_f, l_f)\n",
    "Ly = np.linalg.cholesky(Ky)\n",
    "# inverse of covariance\n",
    "invLy = np.linalg.inv(Ly)\n",
    "invKy = invLy.T.dot(invLy) # invK = invL^T invL\n",
    "# alpha\n",
    "alp_y = invKy.dot(YY[:,0].reshape(-1,1))\n",
    "# predictive mean\n",
    "mu_pos1 = np.dot(K_s.T, alp_y)\n",
    "# predictive variance\n",
    "vv_m = np.linalg.solve(Ly,K_s)\n",
    "cov_pos = K_ss - vv_m.T.dot(vv_m)\n",
    "std_pos1 = (np.diag(cov_pos)**(0.5)).reshape(-1,1) # may need abs as variance is zero at training points (no error), which may be encoded as -0 (no allowed)\n",
    "\n",
    "# Model 2\n",
    "sig_y, sig_f, l_f = np.sqrt(model2.Gaussian_noise.variance[0]), np.sqrt(model2.rbf.variance[0]), model2.rbf.lengthscale[0]\n",
    "K_s = se_kern(XX, XX_te, sig_f, l_f)\n",
    "K_ss = se_kern(XX_te, XX_te, sig_f, l_f)\n",
    "# Apply the kernel function to our training points\n",
    "Ky = Ky_kern(XX, XX, sig_y, sig_f, l_f)\n",
    "Ly = np.linalg.cholesky(Ky)\n",
    "# inverse of covariance\n",
    "invLy = np.linalg.inv(Ly)\n",
    "invKy = invLy.T.dot(invLy) # invK = invL^T invL\n",
    "# alpha\n",
    "alp_y = invKy.dot(YY[:,1].reshape(-1,1))\n",
    "# predictive mean\n",
    "mu_pos2 = np.dot(K_s.T, alp_y)\n",
    "# predictive variance\n",
    "vv_m = np.linalg.solve(Ly,K_s)\n",
    "cov_pos = K_ss - vv_m.T.dot(vv_m)\n",
    "std_pos2 = (np.diag(cov_pos)**(0.5)).reshape(-1,1) # may need abs as variance is zero at training points (no error), which may be encoded as -0 (no allowed)\n",
    "\n",
    "# Plot\n",
    "plt.figure()\n",
    "plt.plot(XX, YY[:,0], 'bs', ms=6);\n",
    "plt.plot(XX, YY[:,1], 'rs', ms=6);\n",
    "plt.plot(XX_te, YY_te[:,0], 'bs', ms=3);\n",
    "plt.plot(XX_te, YY_te[:,1], 'rs', ms=3);\n",
    "plt.fill_between(x=XX_te[:,0], y1=mu_pos1[:,0]-2*std_pos1[:,0], y2=mu_pos1[:,0]+2*std_pos1[:,0], alpha=0.1, color='blue');\n",
    "plt.plot(XX_te, mu_pos1, 'b--', lw=2)\n",
    "plt.fill_between(x=XX_te[:,0], y1=mu_pos2[:,0]-2*std_pos2[:,0], y2=mu_pos2[:,0]+2*std_pos2[:,0], alpha=0.1, color='red');\n",
    "plt.plot(XX_te, mu_pos2, 'r--', lw=2)\n",
    "plt.axis([-5, 5, -2.5, 2.5]);\n",
    "plt.xlabel('x')\n",
    "plt.ylabel('f,y')\n",
    "plt.title('Samples from the GP posterior along with the training ');\n",
    "# plt.show()"
   ]
  },
  {
   "cell_type": "code",
   "execution_count": null,
   "metadata": {},
   "outputs": [],
   "source": [
    "# Build-in GPy function\n",
    "fig, ax = plt.subplots()\n",
    "model1.plot_latent(fignum=1,plot_limits=np.array([-5,5]),ax=ax, legend=False)\n",
    "model2.plot_latent(fignum=1,plot_limits=np.array([-5,5]),ax=ax, legend=False)\n",
    "plt.xlabel('x')\n",
    "plt.ylabel('f')\n",
    "plt.ylim([-2.5, 2.5]);\n",
    "# plt.grid();"
   ]
  },
  {
   "cell_type": "markdown",
   "metadata": {},
   "source": [
    "Note again that the uncertainty bounds are wider, within the range of the training data, when considering the two processes separately! Thus, when the two processes are considered jointly, they borrow statistical power from each other through the output kernel $k_y(d,d')$, which expresses the output correlation, as well as through paramaters sharing in a learning setting. Again, as we have considered a zero mean function for the processes in all examples, the predictions will simply approach zero, as the distance to the training exampls gets larger, see e.g. x=5."
   ]
  }
 ],
 "metadata": {
  "kernelspec": {
   "display_name": "Python 3",
   "language": "python",
   "name": "python3"
  },
  "language_info": {
   "codemirror_mode": {
    "name": "ipython",
    "version": 3
   },
   "file_extension": ".py",
   "mimetype": "text/x-python",
   "name": "python",
   "nbconvert_exporter": "python",
   "pygments_lexer": "ipython3",
   "version": "3.6.10"
  }
 },
 "nbformat": 4,
 "nbformat_minor": 4
}
