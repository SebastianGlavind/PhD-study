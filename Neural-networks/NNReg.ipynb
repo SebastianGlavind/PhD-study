{
 "cells": [
  {
   "cell_type": "markdown",
   "metadata": {},
   "source": [
    "# A TUTORIAL ON NEURAL NETWORK REGRESSION USING TENSORFLOW AND KERAS\n",
    "\n",
    "by Sebastian T. Glavind, June, 2020\n",
    "\n",
    "# Introduction\n",
    "\n",
    "In this tutorial, we will consider how to define, train and predict with a feed-forward neural network model using tensorflow and keras. First, we will consider a simple one-input, one-output relation. Second, we will consider how easy it is to extend the model formulation in the number of outputs; including additional inputs follows the same line of reasoning. Third, we will show how to choose the hyperparameters using cross-validation and random search, as well as Bayesian optimization. Note that random search is found to be superior to grid search when the model contains many hyperparameters. The interested reader is referred to the prominent textbook of Goodfellow et al. (2016) for an introduction to neural networks, and Geron (2019) for an excellent guide on their implementation.\n",
    "\n",
    "We will consider small data sets in the tutorial, so that training can be performed on a standard PC, thus regularization becomes extra important!\n",
    "\n",
    "***\n",
    "I. Goodfellow, Y. Bengio, and A. Courville, Deep Learning. MIT Press, 2016, http://www.deeplearningbook.org.\n",
    "\n",
    "A. Geron, Hands-on machine learning with Scikit-Learn, Keras, and TensorFlow: Concepts, tools, and techniques to build intelligent systems. O’Reilly Media, 2019.\n",
    "***\n",
    "\n",
    "# Prelude"
   ]
  },
  {
   "cell_type": "code",
   "execution_count": 1,
   "metadata": {},
   "outputs": [],
   "source": [
    "import numpy as np\n",
    "import scipy.stats as ss \n",
    "import matplotlib.pyplot as plt\n",
    "import sklearn.model_selection\n",
    "import sklearn.preprocessing\n",
    "%matplotlib inline"
   ]
  },
  {
   "cell_type": "code",
   "execution_count": 2,
   "metadata": {},
   "outputs": [],
   "source": [
    "# tensorflow 2.1\n",
    "import tensorflow as tf\n",
    "import tensorflow.keras as keras\n",
    "\n",
    "from tensorflow.keras.layers import Input, InputLayer, Dense, Flatten, Dropout, BatchNormalization\n",
    "from tensorflow.keras.optimizers import Adam\n",
    "from tensorflow.keras.callbacks import CSVLogger, ModelCheckpoint, EarlyStopping, ReduceLROnPlateau"
   ]
  },
  {
   "cell_type": "markdown",
   "metadata": {},
   "source": [
    "# Single-output Neural network\n",
    "\n",
    "\n",
    "## Sample data\n"
   ]
  },
  {
   "cell_type": "code",
   "execution_count": 3,
   "metadata": {},
   "outputs": [
    {
     "data": {
      "image/png": "[encoded data removed]",
      "text/plain": [
       "<Figure size 432x288 with 1 Axes>"
      ]
     },
     "metadata": {
      "needs_background": "light"
     },
     "output_type": "display_data"
    }
   ],
   "source": [
    "# Noise free/Noisy training data\n",
    "np.random.seed(42)\n",
    "nXraw = 50 # no. of training points\n",
    "std_y = 1e-1 # if noise free set to 1e-4 for numerical stability; corr. var = 1e-16 addition along diagonal\n",
    "Xraw = np.random.uniform(low=-4, high=1, size=(nXraw,1)).reshape(-1,1) # input\n",
    "yraw = np.sin(Xraw) + std_y*np.random.normal(size=(nXraw,1)) # output (sin function)\n",
    "\n",
    "# Split into training and test data\n",
    "Xtrain, Xtest, ytrain, ytest = sklearn.model_selection.train_test_split(Xraw,yraw, train_size=.7, random_state=1)\n",
    "nX_tr, mX_tr = Xtrain.shape\n",
    "\n",
    "# plot\n",
    "plt.plot(Xtrain, ytrain, 'bs', ms=3);\n",
    "plt.plot(Xtest, ytest, 'gs', ms=6);\n",
    "plt.axis([-4.5, 1.5, -2, 2]);\n",
    "plt.xlabel('x');\n",
    "plt.ylabel('y');\n",
    "plt.title('Training set');"
   ]
  },
  {
   "cell_type": "markdown",
   "metadata": {},
   "source": [
    "### Scaling of inputs according to scale of training data"
   ]
  },
  {
   "cell_type": "code",
   "execution_count": 4,
   "metadata": {},
   "outputs": [],
   "source": [
    "# Standardize features\n",
    "scaler = sklearn.preprocessing.StandardScaler()\n",
    "scaler.fit(Xtrain)\n",
    "sXtrain = scaler.transform(Xtrain)\n",
    "sXtest = scaler.transform(Xtest)"
   ]
  },
  {
   "cell_type": "markdown",
   "metadata": {},
   "source": [
    "## NN model\n",
    "\n",
    "### Model definition\n",
    "\n",
    "In this section, we will consider a neural network with two hidden layers of 32 units each and regularize the network training using early stopping. Other kinds of regularization are e.g. dropout and batch normalization (commented out below), see e.g. Goodfellow et al. (2016) for a reference on early stopping and dropout.\n",
    "\n",
    "***\n",
    "I. Goodfellow, Y. Bengio, and A. Courville, Deep Learning. MIT Press, 2016, http://www.deeplearningbook.org.\n",
    "***"
   ]
  },
  {
   "cell_type": "code",
   "execution_count": 5,
   "metadata": {},
   "outputs": [
    {
     "name": "stdout",
     "output_type": "stream",
     "text": [
      "Model: \"sequential\"\n",
      "_________________________________________________________________\n",
      "Layer (type)                 Output Shape              Param #   \n",
      "=================================================================\n",
      "dense (Dense)                (None, 32)                64        \n",
      "_________________________________________________________________\n",
      "dense_1 (Dense)              (None, 32)                1056      \n",
      "_________________________________________________________________\n",
      "dense_2 (Dense)              (None, 1)                 33        \n",
      "=================================================================\n",
      "Total params: 1,153\n",
      "Trainable params: 1,153\n",
      "Non-trainable params: 0\n",
      "_________________________________________________________________\n"
     ]
    }
   ],
   "source": [
    "NN_model = keras.models.Sequential()\n",
    "\n",
    "# The Input Layer :\n",
    "NN_model.add(Input(shape=(sXtrain.shape[1])))\n",
    "# NN_model.add(Flatten(input_shape=[Xtrain.shape[1]]))\n",
    "# NN_model.add(InputLayer(input_shape=Xtrain.shape[1]))\n",
    "# NN_model.add(BatchNormalization())\n",
    "\n",
    "# The Hidden Layers :\n",
    "for layer in range(2):\n",
    "        NN_model.add(Dense(32, kernel_initializer='normal',activation='relu'))\n",
    "#         NN_model.add(Dropout(.5))\n",
    "#         NN_model.add(BatchNormalization())\n",
    "\n",
    "# The Output Layer :\n",
    "NN_model.add(Dense(1, kernel_initializer='normal',activation='linear'))\n",
    "\n",
    "# Compile the network :\n",
    "NN_model.compile(loss='mse', optimizer='adam', metrics=['mse'])\n",
    "\n",
    "NN_model.summary()"
   ]
  },
  {
   "cell_type": "markdown",
   "metadata": {},
   "source": [
    "### Model training"
   ]
  },
  {
   "cell_type": "code",
   "execution_count": 6,
   "metadata": {},
   "outputs": [],
   "source": [
    "# checkpoint_name = 'Weights-{epoch:03d}--{val_loss:.5f}.hdf5' \n",
    "# checkpoint = ModelCheckpoint(checkpoint_name, monitor='val_loss', verbose = 1, save_best_only = True, mode ='auto')\n",
    "# callbacks_list = [checkpoint]\n",
    "# mcp = ModelCheckpoint(\"NNR_uni.hd5\", save_best_only=True, period=5)\n",
    "# csv = CSVLogger(\"NNR_uni.csv\")\n",
    "es = EarlyStopping(patience=10, verbose=1, restore_best_weights=True)\n",
    "lr = ReduceLROnPlateau(patience=10, verbose=1)\n",
    "callbacks_list = [es, lr]"
   ]
  },
  {
   "cell_type": "code",
   "execution_count": 7,
   "metadata": {
    "scrolled": true
   },
   "outputs": [
    {
     "name": "stdout",
     "output_type": "stream",
     "text": [
      "Train on 28 samples, validate on 7 samples\n",
      "Epoch 1/100\n",
      "28/28 [==============================] - 0s 15ms/sample - loss: 0.4552 - mse: 0.4552 - val_loss: 0.2681 - val_mse: 0.2681\n",
      "Epoch 2/100\n",
      "28/28 [==============================] - 0s 897us/sample - loss: 0.4515 - mse: 0.4515 - val_loss: 0.2677 - val_mse: 0.2677\n",
      "Epoch 3/100\n",
      "28/28 [==============================] - 0s 949us/sample - loss: 0.4491 - mse: 0.4491 - val_loss: 0.2675 - val_mse: 0.2675\n",
      "Epoch 4/100\n",
      "28/28 [==============================] - 0s 1ms/sample - loss: 0.4455 - mse: 0.4455 - val_loss: 0.2672 - val_mse: 0.2672\n",
      "Epoch 5/100\n",
      "28/28 [==============================] - 0s 944us/sample - loss: 0.4424 - mse: 0.4424 - val_loss: 0.2667 - val_mse: 0.2667\n",
      "Epoch 6/100\n",
      "28/28 [==============================] - 0s 1ms/sample - loss: 0.4383 - mse: 0.4383 - val_loss: 0.2660 - val_mse: 0.2660\n",
      "Epoch 7/100\n",
      "28/28 [==============================] - 0s 1ms/sample - loss: 0.4344 - mse: 0.4344 - val_loss: 0.2656 - val_mse: 0.2656\n",
      "Epoch 8/100\n",
      "28/28 [==============================] - 0s 1ms/sample - loss: 0.4296 - mse: 0.4296 - val_loss: 0.2648 - val_mse: 0.2648\n",
      "Epoch 9/100\n",
      "28/28 [==============================] - 0s 1ms/sample - loss: 0.4252 - mse: 0.4252 - val_loss: 0.2641 - val_mse: 0.2641\n",
      "Epoch 10/100\n",
      "28/28 [==============================] - 0s 910us/sample - loss: 0.4202 - mse: 0.4202 - val_loss: 0.2629 - val_mse: 0.2629\n",
      "Epoch 11/100\n",
      "28/28 [==============================] - 0s 939us/sample - loss: 0.4138 - mse: 0.4138 - val_loss: 0.2611 - val_mse: 0.2611\n",
      "Epoch 12/100\n",
      "28/28 [==============================] - 0s 1ms/sample - loss: 0.4084 - mse: 0.4084 - val_loss: 0.2596 - val_mse: 0.2596\n",
      "Epoch 13/100\n",
      "28/28 [==============================] - 0s 1ms/sample - loss: 0.4008 - mse: 0.4008 - val_loss: 0.2573 - val_mse: 0.2573\n",
      "Epoch 14/100\n",
      "28/28 [==============================] - 0s 1ms/sample - loss: 0.3928 - mse: 0.3928 - val_loss: 0.2550 - val_mse: 0.2550\n",
      "Epoch 15/100\n",
      "28/28 [==============================] - 0s 1ms/sample - loss: 0.3852 - mse: 0.3852 - val_loss: 0.2535 - val_mse: 0.2535\n",
      "Epoch 16/100\n",
      "28/28 [==============================] - 0s 1ms/sample - loss: 0.3753 - mse: 0.3753 - val_loss: 0.2505 - val_mse: 0.2505\n",
      "Epoch 17/100\n",
      "28/28 [==============================] - 0s 1ms/sample - loss: 0.3659 - mse: 0.3659 - val_loss: 0.2461 - val_mse: 0.2461\n",
      "Epoch 18/100\n",
      "28/28 [==============================] - 0s 1ms/sample - loss: 0.3540 - mse: 0.3540 - val_loss: 0.2413 - val_mse: 0.2413\n",
      "Epoch 19/100\n",
      "28/28 [==============================] - 0s 1ms/sample - loss: 0.3429 - mse: 0.3429 - val_loss: 0.2355 - val_mse: 0.2355\n",
      "Epoch 20/100\n",
      "28/28 [==============================] - 0s 1ms/sample - loss: 0.3309 - mse: 0.3309 - val_loss: 0.2260 - val_mse: 0.2260\n",
      "Epoch 21/100\n",
      "28/28 [==============================] - 0s 1ms/sample - loss: 0.3175 - mse: 0.3175 - val_loss: 0.2175 - val_mse: 0.2175\n",
      "Epoch 22/100\n",
      "28/28 [==============================] - 0s 1ms/sample - loss: 0.3040 - mse: 0.3040 - val_loss: 0.2077 - val_mse: 0.2077\n",
      "Epoch 23/100\n",
      "28/28 [==============================] - 0s 1ms/sample - loss: 0.2892 - mse: 0.2892 - val_loss: 0.1959 - val_mse: 0.1959\n",
      "Epoch 24/100\n",
      "28/28 [==============================] - 0s 1ms/sample - loss: 0.2734 - mse: 0.2734 - val_loss: 0.1854 - val_mse: 0.1854\n",
      "Epoch 25/100\n",
      "28/28 [==============================] - 0s 1ms/sample - loss: 0.2570 - mse: 0.2570 - val_loss: 0.1743 - val_mse: 0.1743\n",
      "Epoch 26/100\n",
      "28/28 [==============================] - 0s 1ms/sample - loss: 0.2387 - mse: 0.2387 - val_loss: 0.1621 - val_mse: 0.1621\n",
      "Epoch 27/100\n",
      "28/28 [==============================] - 0s 955us/sample - loss: 0.2221 - mse: 0.2221 - val_loss: 0.1495 - val_mse: 0.1495\n",
      "Epoch 28/100\n",
      "28/28 [==============================] - 0s 994us/sample - loss: 0.2049 - mse: 0.2049 - val_loss: 0.1365 - val_mse: 0.1365\n",
      "Epoch 29/100\n",
      "28/28 [==============================] - 0s 1ms/sample - loss: 0.1854 - mse: 0.1854 - val_loss: 0.1235 - val_mse: 0.1235\n",
      "Epoch 30/100\n",
      "28/28 [==============================] - 0s 936us/sample - loss: 0.1666 - mse: 0.1666 - val_loss: 0.1120 - val_mse: 0.1120\n",
      "Epoch 31/100\n",
      "28/28 [==============================] - 0s 1ms/sample - loss: 0.1495 - mse: 0.1495 - val_loss: 0.1016 - val_mse: 0.1016\n",
      "Epoch 32/100\n",
      "28/28 [==============================] - 0s 1ms/sample - loss: 0.1321 - mse: 0.1321 - val_loss: 0.0920 - val_mse: 0.0920\n",
      "Epoch 33/100\n",
      "28/28 [==============================] - 0s 1ms/sample - loss: 0.1154 - mse: 0.1154 - val_loss: 0.0818 - val_mse: 0.0818\n",
      "Epoch 34/100\n",
      "28/28 [==============================] - 0s 1ms/sample - loss: 0.0984 - mse: 0.0984 - val_loss: 0.0694 - val_mse: 0.0694\n",
      "Epoch 35/100\n",
      "28/28 [==============================] - 0s 1ms/sample - loss: 0.0835 - mse: 0.0835 - val_loss: 0.0582 - val_mse: 0.0582\n",
      "Epoch 36/100\n",
      "28/28 [==============================] - 0s 1ms/sample - loss: 0.0702 - mse: 0.0702 - val_loss: 0.0495 - val_mse: 0.0495\n",
      "Epoch 37/100\n",
      "28/28 [==============================] - 0s 1ms/sample - loss: 0.0577 - mse: 0.0577 - val_loss: 0.0421 - val_mse: 0.0421\n",
      "Epoch 38/100\n",
      "28/28 [==============================] - 0s 987us/sample - loss: 0.0474 - mse: 0.0474 - val_loss: 0.0355 - val_mse: 0.0355\n",
      "Epoch 39/100\n",
      "28/28 [==============================] - 0s 1ms/sample - loss: 0.0372 - mse: 0.0372 - val_loss: 0.0297 - val_mse: 0.0297\n",
      "Epoch 40/100\n",
      "28/28 [==============================] - 0s 991us/sample - loss: 0.0300 - mse: 0.0300 - val_loss: 0.0259 - val_mse: 0.0259\n",
      "Epoch 41/100\n",
      "28/28 [==============================] - 0s 995us/sample - loss: 0.0243 - mse: 0.0243 - val_loss: 0.0225 - val_mse: 0.0225\n",
      "Epoch 42/100\n",
      "28/28 [==============================] - 0s 1ms/sample - loss: 0.0202 - mse: 0.0202 - val_loss: 0.0195 - val_mse: 0.0195\n",
      "Epoch 43/100\n",
      "28/28 [==============================] - 0s 1ms/sample - loss: 0.0164 - mse: 0.0164 - val_loss: 0.0165 - val_mse: 0.0165\n",
      "Epoch 44/100\n",
      "28/28 [==============================] - 0s 1ms/sample - loss: 0.0144 - mse: 0.0144 - val_loss: 0.0151 - val_mse: 0.0151\n",
      "Epoch 45/100\n",
      "28/28 [==============================] - 0s 1ms/sample - loss: 0.0127 - mse: 0.0127 - val_loss: 0.0155 - val_mse: 0.0155\n",
      "Epoch 46/100\n",
      "28/28 [==============================] - 0s 1ms/sample - loss: 0.0119 - mse: 0.0119 - val_loss: 0.0167 - val_mse: 0.0167\n",
      "Epoch 47/100\n",
      "28/28 [==============================] - 0s 1ms/sample - loss: 0.0114 - mse: 0.0114 - val_loss: 0.0162 - val_mse: 0.0162\n",
      "Epoch 48/100\n",
      "28/28 [==============================] - 0s 1ms/sample - loss: 0.0110 - mse: 0.0110 - val_loss: 0.0145 - val_mse: 0.0145\n",
      "Epoch 49/100\n",
      "28/28 [==============================] - 0s 1ms/sample - loss: 0.0108 - mse: 0.0108 - val_loss: 0.0133 - val_mse: 0.0133\n",
      "Epoch 50/100\n",
      "28/28 [==============================] - 0s 958us/sample - loss: 0.0108 - mse: 0.0108 - val_loss: 0.0131 - val_mse: 0.0131\n",
      "Epoch 51/100\n",
      "28/28 [==============================] - 0s 960us/sample - loss: 0.0105 - mse: 0.0105 - val_loss: 0.0135 - val_mse: 0.0135\n",
      "Epoch 52/100\n",
      "28/28 [==============================] - 0s 1ms/sample - loss: 0.0102 - mse: 0.0102 - val_loss: 0.0138 - val_mse: 0.0138\n",
      "Epoch 53/100\n",
      "28/28 [==============================] - 0s 5ms/sample - loss: 0.0101 - mse: 0.0101 - val_loss: 0.0151 - val_mse: 0.0151\n",
      "Epoch 54/100\n",
      "28/28 [==============================] - 0s 836us/sample - loss: 0.0099 - mse: 0.0099 - val_loss: 0.0148 - val_mse: 0.0148\n",
      "Epoch 55/100\n",
      "28/28 [==============================] - 0s 983us/sample - loss: 0.0098 - mse: 0.0098 - val_loss: 0.0149 - val_mse: 0.0149\n",
      "Epoch 56/100\n",
      "28/28 [==============================] - 0s 1ms/sample - loss: 0.0094 - mse: 0.0094 - val_loss: 0.0140 - val_mse: 0.0140\n",
      "Epoch 57/100\n",
      "28/28 [==============================] - 0s 973us/sample - loss: 0.0096 - mse: 0.0096 - val_loss: 0.0137 - val_mse: 0.0137\n",
      "Epoch 58/100\n",
      "28/28 [==============================] - 0s 1ms/sample - loss: 0.0095 - mse: 0.0095 - val_loss: 0.0144 - val_mse: 0.0144\n",
      "Epoch 59/100\n",
      "28/28 [==============================] - 0s 963us/sample - loss: 0.0093 - mse: 0.0093 - val_loss: 0.0159 - val_mse: 0.0159\n",
      "Epoch 60/100\n",
      " 8/28 [=======>......................] - ETA: 0s - loss: 0.0103 - mse: 0.0103Restoring model weights from the end of the best epoch.\n",
      "\n",
      "Epoch 00060: ReduceLROnPlateau reducing learning rate to 0.00010000000474974513.\n",
      "28/28 [==============================] - 0s 1ms/sample - loss: 0.0092 - mse: 0.0092 - val_loss: 0.0168 - val_mse: 0.0168\n"
     ]
    },
    {
     "name": "stdout",
     "output_type": "stream",
     "text": [
      "Epoch 00060: early stopping\n"
     ]
    }
   ],
   "source": [
    "tf.random.set_seed(123)\n",
    "history = NN_model.fit(sXtrain, ytrain, epochs=100, batch_size=8, validation_split=0.2, callbacks=callbacks_list)"
   ]
  },
  {
   "cell_type": "code",
   "execution_count": 8,
   "metadata": {},
   "outputs": [
    {
     "data": {
      "image/png": "[encoded data removed]",
      "text/plain": [
       "<Figure size 432x288 with 1 Axes>"
      ]
     },
     "metadata": {
      "needs_background": "light"
     },
     "output_type": "display_data"
    }
   ],
   "source": [
    "# print(history.history.keys())\n",
    "# \"Loss\"\n",
    "plt.figure()\n",
    "plt.plot(history.history['loss'])\n",
    "plt.plot(history.history['val_loss'])\n",
    "plt.title('model loss')\n",
    "plt.ylabel('loss')\n",
    "plt.xlabel('epoch')\n",
    "plt.legend(['train', 'validation'], loc='upper right');"
   ]
  },
  {
   "cell_type": "markdown",
   "metadata": {},
   "source": [
    "### Model predictions"
   ]
  },
  {
   "cell_type": "code",
   "execution_count": 9,
   "metadata": {},
   "outputs": [
    {
     "name": "stdout",
     "output_type": "stream",
     "text": [
      "Training data\n",
      "35/35 [==============================] - 0s 223us/sample - loss: 0.0110 - mse: 0.0110\n",
      "Variance estimate:  0.01  and True variance:  0.01\n",
      "Test data\n",
      "15/15 [==============================] - 0s 131us/sample - loss: 0.0076 - mse: 0.0076\n"
     ]
    }
   ],
   "source": [
    "print('Training data')\n",
    "MSE = NN_model.evaluate(sXtrain, ytrain)\n",
    "VAR = MSE[0]; print('Variance estimate: ', round(VAR,2), ' and True variance: ', round(std_y**2,2))\n",
    "print('Test data')\n",
    "NN_model.evaluate(sXtest, ytest)\n",
    "# predictions\n",
    "Xpred = np.arange(-5,2,0.05).reshape(-1,1)\n",
    "sXpred = scaler.transform(Xpred)\n",
    "model_pred = NN_model.predict(sXpred)"
   ]
  },
  {
   "cell_type": "code",
   "execution_count": 10,
   "metadata": {
    "scrolled": true
   },
   "outputs": [
    {
     "data": {
      "image/png": "[encoded data removed]",
      "text/plain": [
       "<Figure size 432x288 with 1 Axes>"
      ]
     },
     "metadata": {
      "needs_background": "light"
     },
     "output_type": "display_data"
    }
   ],
   "source": [
    "plt.plot(Xtrain, ytrain, 'bs', ms=3)\n",
    "plt.plot(Xtest, ytest, 'gs', ms=6);\n",
    "plt.plot(Xpred, model_pred, 'b--', lw=2)\n",
    "plt.axis([-4.5, 1.5, -2, 2]);\n",
    "plt.xlabel('x')\n",
    "plt.ylabel('f,y')\n",
    "plt.title('NN model predictions along with training and test data');\n",
    "# plt.show()"
   ]
  },
  {
   "cell_type": "markdown",
   "metadata": {},
   "source": [
    "# Multi-output Neural network\n",
    "\n",
    "## Sample data"
   ]
  },
  {
   "cell_type": "code",
   "execution_count": 11,
   "metadata": {},
   "outputs": [
    {
     "data": {
      "image/png": "[encoded data removed]",
      "text/plain": [
       "<Figure size 432x288 with 1 Axes>"
      ]
     },
     "metadata": {
      "needs_background": "light"
     },
     "output_type": "display_data"
    }
   ],
   "source": [
    "# Noise free/Noisy training data\n",
    "np.random.seed(42)\n",
    "nXraw2 = 100 # no. of training points\n",
    "std_y2 = 1e-1 # if noise free set to 1e-4 for numerical stability; corr. var = 1e-16 addition along diagonal\n",
    "Xraw2 = np.random.uniform(low=-4, high=1, size=(nXraw2,1)).reshape(-1,1) # input\n",
    "yraw2 = np.concatenate((np.sin(Xraw2), np.sin(Xraw2+np.pi/4)), axis=1) + std_y2*np.random.normal(size=(nXraw2,1))\n",
    "\n",
    "Xtrain2, Xtest2, ytrain2, ytest2 = sklearn.model_selection.train_test_split(Xraw2,yraw2, train_size=.7, random_state=1)\n",
    "\n",
    "# plot\n",
    "plt.plot(Xtrain2, ytrain2[:,0], 'bs', ms=3);\n",
    "plt.plot(Xtrain2, ytrain2[:,1], 'rs', ms=3);\n",
    "plt.plot(Xtest2, ytest2[:,0], 'bs', ms=6);\n",
    "plt.plot(Xtest2, ytest2[:,1], 'rs', ms=6);\n",
    "plt.axis([-4.5, 1.5, -2, 2]);\n",
    "plt.xlabel('x');\n",
    "plt.ylabel('y');\n",
    "plt.title('Training and test set');"
   ]
  },
  {
   "cell_type": "markdown",
   "metadata": {},
   "source": [
    "### Scaling of inputs according to scale of training data"
   ]
  },
  {
   "cell_type": "code",
   "execution_count": 12,
   "metadata": {},
   "outputs": [],
   "source": [
    "scaler2 = sklearn.preprocessing.StandardScaler()\n",
    "scaler2.fit(Xtrain2)\n",
    "sXtrain2 = scaler.transform(Xtrain2)\n",
    "sXtest2 = scaler.transform(Xtest2)"
   ]
  },
  {
   "cell_type": "markdown",
   "metadata": {},
   "source": [
    "## NN model\n",
    "\n",
    "### Model definition"
   ]
  },
  {
   "cell_type": "code",
   "execution_count": 13,
   "metadata": {},
   "outputs": [
    {
     "name": "stdout",
     "output_type": "stream",
     "text": [
      "Model: \"sequential_1\"\n",
      "_________________________________________________________________\n",
      "Layer (type)                 Output Shape              Param #   \n",
      "=================================================================\n",
      "dense_3 (Dense)              (None, 32)                64        \n",
      "_________________________________________________________________\n",
      "dense_4 (Dense)              (None, 32)                1056      \n",
      "_________________________________________________________________\n",
      "dense_5 (Dense)              (None, 2)                 66        \n",
      "=================================================================\n",
      "Total params: 1,186\n",
      "Trainable params: 1,186\n",
      "Non-trainable params: 0\n",
      "_________________________________________________________________\n"
     ]
    }
   ],
   "source": [
    "NN_model2 = keras.models.Sequential()\n",
    "\n",
    "# The Input Layer :\n",
    "NN_model2.add(Input(shape=(sXtrain2.shape[1])))\n",
    "# NN_model.add(BatchNormalization())\n",
    "\n",
    "# The Hidden Layers :\n",
    "for layer in range(2):\n",
    "        NN_model2.add(Dense(32, kernel_initializer='normal',activation='relu'))\n",
    "#         NN_model2.add(Dropout(.5))\n",
    "#         NN_model.add(BatchNormalization())\n",
    "\n",
    "# The Output Layer :\n",
    "NN_model2.add(Dense(ytest2.shape[1], kernel_initializer='normal',activation='linear'))\n",
    "\n",
    "# Compile the network :\n",
    "NN_model2.compile(loss='mse', optimizer='adam', metrics=['mse'])\n",
    "\n",
    "NN_model2.summary()"
   ]
  },
  {
   "cell_type": "markdown",
   "metadata": {},
   "source": [
    "### Model training"
   ]
  },
  {
   "cell_type": "code",
   "execution_count": 14,
   "metadata": {
    "scrolled": true
   },
   "outputs": [
    {
     "name": "stdout",
     "output_type": "stream",
     "text": [
      "Train on 56 samples, validate on 14 samples\n",
      "Epoch 1/100\n",
      "56/56 [==============================] - 0s 6ms/sample - loss: 0.4566 - mse: 0.4566 - val_loss: 0.3261 - val_mse: 0.3261\n",
      "Epoch 2/100\n",
      "56/56 [==============================] - 0s 769us/sample - loss: 0.4492 - mse: 0.4492 - val_loss: 0.3232 - val_mse: 0.3232\n",
      "Epoch 3/100\n",
      "56/56 [==============================] - 0s 666us/sample - loss: 0.4410 - mse: 0.4410 - val_loss: 0.3189 - val_mse: 0.3189\n",
      "Epoch 4/100\n",
      "56/56 [==============================] - 0s 646us/sample - loss: 0.4307 - mse: 0.4307 - val_loss: 0.3128 - val_mse: 0.3128\n",
      "Epoch 5/100\n",
      "56/56 [==============================] - 0s 642us/sample - loss: 0.4201 - mse: 0.4201 - val_loss: 0.3064 - val_mse: 0.3064\n",
      "Epoch 6/100\n",
      "56/56 [==============================] - 0s 640us/sample - loss: 0.4038 - mse: 0.4038 - val_loss: 0.2979 - val_mse: 0.2979\n",
      "Epoch 7/100\n",
      "56/56 [==============================] - 0s 661us/sample - loss: 0.3880 - mse: 0.3880 - val_loss: 0.2896 - val_mse: 0.2896\n",
      "Epoch 8/100\n",
      "56/56 [==============================] - 0s 669us/sample - loss: 0.3702 - mse: 0.3702 - val_loss: 0.2825 - val_mse: 0.2825\n",
      "Epoch 9/100\n",
      "56/56 [==============================] - 0s 683us/sample - loss: 0.3524 - mse: 0.3524 - val_loss: 0.2789 - val_mse: 0.2789\n",
      "Epoch 10/100\n",
      "56/56 [==============================] - 0s 486us/sample - loss: 0.3420 - mse: 0.3420 - val_loss: 0.2819 - val_mse: 0.2819\n",
      "Epoch 11/100\n",
      "56/56 [==============================] - 0s 645us/sample - loss: 0.3272 - mse: 0.3272 - val_loss: 0.2793 - val_mse: 0.2793\n",
      "Epoch 12/100\n",
      "56/56 [==============================] - 0s 638us/sample - loss: 0.3168 - mse: 0.3168 - val_loss: 0.2724 - val_mse: 0.2724\n",
      "Epoch 13/100\n",
      "56/56 [==============================] - 0s 625us/sample - loss: 0.3061 - mse: 0.3061 - val_loss: 0.2638 - val_mse: 0.2638\n",
      "Epoch 14/100\n",
      "56/56 [==============================] - 0s 686us/sample - loss: 0.2944 - mse: 0.2944 - val_loss: 0.2529 - val_mse: 0.2529\n",
      "Epoch 15/100\n",
      "56/56 [==============================] - 0s 700us/sample - loss: 0.2826 - mse: 0.2826 - val_loss: 0.2401 - val_mse: 0.2401\n",
      "Epoch 16/100\n",
      "56/56 [==============================] - 0s 604us/sample - loss: 0.2688 - mse: 0.2688 - val_loss: 0.2283 - val_mse: 0.2283\n",
      "Epoch 17/100\n",
      "56/56 [==============================] - 0s 706us/sample - loss: 0.2548 - mse: 0.2548 - val_loss: 0.2206 - val_mse: 0.2206\n",
      "Epoch 18/100\n",
      "56/56 [==============================] - 0s 729us/sample - loss: 0.2410 - mse: 0.2410 - val_loss: 0.2090 - val_mse: 0.2090\n",
      "Epoch 19/100\n",
      "56/56 [==============================] - 0s 701us/sample - loss: 0.2248 - mse: 0.2248 - val_loss: 0.1954 - val_mse: 0.1954\n",
      "Epoch 20/100\n",
      "56/56 [==============================] - 0s 665us/sample - loss: 0.2105 - mse: 0.2105 - val_loss: 0.1876 - val_mse: 0.1876\n",
      "Epoch 21/100\n",
      "56/56 [==============================] - 0s 563us/sample - loss: 0.1931 - mse: 0.1931 - val_loss: 0.1715 - val_mse: 0.1715\n",
      "Epoch 22/100\n",
      "56/56 [==============================] - 0s 626us/sample - loss: 0.1766 - mse: 0.1766 - val_loss: 0.1578 - val_mse: 0.1578\n",
      "Epoch 23/100\n",
      "56/56 [==============================] - 0s 625us/sample - loss: 0.1614 - mse: 0.1614 - val_loss: 0.1517 - val_mse: 0.1517\n",
      "Epoch 24/100\n",
      "56/56 [==============================] - 0s 588us/sample - loss: 0.1447 - mse: 0.1447 - val_loss: 0.1385 - val_mse: 0.1385\n",
      "Epoch 25/100\n",
      "56/56 [==============================] - 0s 694us/sample - loss: 0.1288 - mse: 0.1288 - val_loss: 0.1280 - val_mse: 0.1280\n",
      "Epoch 26/100\n",
      "56/56 [==============================] - 0s 612us/sample - loss: 0.1151 - mse: 0.1151 - val_loss: 0.1211 - val_mse: 0.1211\n",
      "Epoch 27/100\n",
      "56/56 [==============================] - 0s 576us/sample - loss: 0.1011 - mse: 0.1011 - val_loss: 0.1078 - val_mse: 0.1078\n",
      "Epoch 28/100\n",
      "56/56 [==============================] - 0s 674us/sample - loss: 0.0873 - mse: 0.0873 - val_loss: 0.0972 - val_mse: 0.0972\n",
      "Epoch 29/100\n",
      "56/56 [==============================] - 0s 634us/sample - loss: 0.0764 - mse: 0.0764 - val_loss: 0.0912 - val_mse: 0.0912\n",
      "Epoch 30/100\n",
      "56/56 [==============================] - 0s 633us/sample - loss: 0.0644 - mse: 0.0644 - val_loss: 0.0814 - val_mse: 0.0814\n",
      "Epoch 31/100\n",
      "56/56 [==============================] - 0s 676us/sample - loss: 0.0559 - mse: 0.0559 - val_loss: 0.0732 - val_mse: 0.0732\n",
      "Epoch 32/100\n",
      "56/56 [==============================] - 0s 598us/sample - loss: 0.0482 - mse: 0.0482 - val_loss: 0.0668 - val_mse: 0.0668\n",
      "Epoch 33/100\n",
      "56/56 [==============================] - 0s 535us/sample - loss: 0.0424 - mse: 0.0424 - val_loss: 0.0606 - val_mse: 0.0606\n",
      "Epoch 34/100\n",
      "56/56 [==============================] - 0s 687us/sample - loss: 0.0374 - mse: 0.0374 - val_loss: 0.0562 - val_mse: 0.0562\n",
      "Epoch 35/100\n",
      "56/56 [==============================] - 0s 663us/sample - loss: 0.0330 - mse: 0.0330 - val_loss: 0.0512 - val_mse: 0.0512\n",
      "Epoch 36/100\n",
      "56/56 [==============================] - 0s 635us/sample - loss: 0.0305 - mse: 0.0305 - val_loss: 0.0475 - val_mse: 0.0475\n",
      "Epoch 37/100\n",
      "56/56 [==============================] - 0s 678us/sample - loss: 0.0277 - mse: 0.0277 - val_loss: 0.0448 - val_mse: 0.0448\n",
      "Epoch 38/100\n",
      "56/56 [==============================] - 0s 643us/sample - loss: 0.0256 - mse: 0.0256 - val_loss: 0.0421 - val_mse: 0.0421\n",
      "Epoch 39/100\n",
      "56/56 [==============================] - 0s 685us/sample - loss: 0.0240 - mse: 0.0240 - val_loss: 0.0397 - val_mse: 0.0397\n",
      "Epoch 40/100\n",
      "56/56 [==============================] - 0s 664us/sample - loss: 0.0227 - mse: 0.0227 - val_loss: 0.0387 - val_mse: 0.0387\n",
      "Epoch 41/100\n",
      "56/56 [==============================] - 0s 673us/sample - loss: 0.0215 - mse: 0.0215 - val_loss: 0.0364 - val_mse: 0.0364\n",
      "Epoch 42/100\n",
      "56/56 [==============================] - 0s 654us/sample - loss: 0.0205 - mse: 0.0205 - val_loss: 0.0349 - val_mse: 0.0349\n",
      "Epoch 43/100\n",
      "56/56 [==============================] - 0s 608us/sample - loss: 0.0199 - mse: 0.0199 - val_loss: 0.0336 - val_mse: 0.0336\n",
      "Epoch 44/100\n",
      "56/56 [==============================] - 0s 668us/sample - loss: 0.0193 - mse: 0.0193 - val_loss: 0.0324 - val_mse: 0.0324\n",
      "Epoch 45/100\n",
      "56/56 [==============================] - 0s 733us/sample - loss: 0.0186 - mse: 0.0186 - val_loss: 0.0322 - val_mse: 0.0322\n",
      "Epoch 46/100\n",
      "56/56 [==============================] - 0s 699us/sample - loss: 0.0187 - mse: 0.0187 - val_loss: 0.0312 - val_mse: 0.0312\n",
      "Epoch 47/100\n",
      "56/56 [==============================] - 0s 747us/sample - loss: 0.0177 - mse: 0.0177 - val_loss: 0.0292 - val_mse: 0.0292\n",
      "Epoch 48/100\n",
      "56/56 [==============================] - 0s 720us/sample - loss: 0.0178 - mse: 0.0178 - val_loss: 0.0286 - val_mse: 0.0286\n",
      "Epoch 49/100\n",
      "56/56 [==============================] - 0s 668us/sample - loss: 0.0165 - mse: 0.0165 - val_loss: 0.0290 - val_mse: 0.0290\n",
      "Epoch 50/100\n",
      "56/56 [==============================] - 0s 684us/sample - loss: 0.0170 - mse: 0.0170 - val_loss: 0.0275 - val_mse: 0.0275\n",
      "Epoch 51/100\n",
      "56/56 [==============================] - 0s 684us/sample - loss: 0.0160 - mse: 0.0160 - val_loss: 0.0267 - val_mse: 0.0267\n",
      "Epoch 52/100\n",
      "56/56 [==============================] - 0s 672us/sample - loss: 0.0160 - mse: 0.0160 - val_loss: 0.0261 - val_mse: 0.0261\n",
      "Epoch 53/100\n",
      "56/56 [==============================] - 0s 671us/sample - loss: 0.0157 - mse: 0.0157 - val_loss: 0.0260 - val_mse: 0.0260\n",
      "Epoch 54/100\n",
      "56/56 [==============================] - 0s 647us/sample - loss: 0.0155 - mse: 0.0155 - val_loss: 0.0254 - val_mse: 0.0254\n",
      "Epoch 55/100\n",
      "56/56 [==============================] - 0s 683us/sample - loss: 0.0155 - mse: 0.0155 - val_loss: 0.0248 - val_mse: 0.0248\n",
      "Epoch 56/100\n",
      "56/56 [==============================] - 0s 624us/sample - loss: 0.0157 - mse: 0.0157 - val_loss: 0.0241 - val_mse: 0.0241\n",
      "Epoch 57/100\n",
      "56/56 [==============================] - 0s 694us/sample - loss: 0.0149 - mse: 0.0149 - val_loss: 0.0251 - val_mse: 0.0251\n",
      "Epoch 58/100\n",
      "56/56 [==============================] - 0s 630us/sample - loss: 0.0148 - mse: 0.0148 - val_loss: 0.0236 - val_mse: 0.0236\n",
      "Epoch 59/100\n",
      "56/56 [==============================] - 0s 712us/sample - loss: 0.0144 - mse: 0.0144 - val_loss: 0.0230 - val_mse: 0.0230\n",
      "Epoch 60/100\n",
      "56/56 [==============================] - 0s 670us/sample - loss: 0.0152 - mse: 0.0152 - val_loss: 0.0228 - val_mse: 0.0228\n"
     ]
    },
    {
     "name": "stdout",
     "output_type": "stream",
     "text": [
      "Epoch 61/100\n",
      "56/56 [==============================] - 0s 645us/sample - loss: 0.0145 - mse: 0.0145 - val_loss: 0.0221 - val_mse: 0.0221\n",
      "Epoch 62/100\n",
      "56/56 [==============================] - 0s 667us/sample - loss: 0.0146 - mse: 0.0146 - val_loss: 0.0234 - val_mse: 0.0234\n",
      "Epoch 63/100\n",
      "56/56 [==============================] - 0s 745us/sample - loss: 0.0143 - mse: 0.0143 - val_loss: 0.0220 - val_mse: 0.0220\n",
      "Epoch 64/100\n",
      "56/56 [==============================] - 0s 695us/sample - loss: 0.0141 - mse: 0.0141 - val_loss: 0.0217 - val_mse: 0.0217\n",
      "Epoch 65/100\n",
      "56/56 [==============================] - 0s 689us/sample - loss: 0.0138 - mse: 0.0138 - val_loss: 0.0213 - val_mse: 0.0213\n",
      "Epoch 66/100\n",
      "56/56 [==============================] - 0s 705us/sample - loss: 0.0139 - mse: 0.0139 - val_loss: 0.0219 - val_mse: 0.0219\n",
      "Epoch 67/100\n",
      "56/56 [==============================] - 0s 561us/sample - loss: 0.0138 - mse: 0.0138 - val_loss: 0.0210 - val_mse: 0.0210\n",
      "Epoch 68/100\n",
      "56/56 [==============================] - 0s 603us/sample - loss: 0.0140 - mse: 0.0140 - val_loss: 0.0204 - val_mse: 0.0204\n",
      "Epoch 69/100\n",
      "56/56 [==============================] - 0s 535us/sample - loss: 0.0135 - mse: 0.0135 - val_loss: 0.0208 - val_mse: 0.0208\n",
      "Epoch 70/100\n",
      "56/56 [==============================] - 0s 667us/sample - loss: 0.0134 - mse: 0.0134 - val_loss: 0.0207 - val_mse: 0.0207\n",
      "Epoch 71/100\n",
      "56/56 [==============================] - 0s 700us/sample - loss: 0.0138 - mse: 0.0138 - val_loss: 0.0203 - val_mse: 0.0203\n",
      "Epoch 72/100\n",
      "56/56 [==============================] - 0s 703us/sample - loss: 0.0132 - mse: 0.0132 - val_loss: 0.0199 - val_mse: 0.0199\n",
      "Epoch 73/100\n",
      "56/56 [==============================] - 0s 670us/sample - loss: 0.0133 - mse: 0.0133 - val_loss: 0.0201 - val_mse: 0.0201\n",
      "Epoch 74/100\n",
      "56/56 [==============================] - 0s 627us/sample - loss: 0.0138 - mse: 0.0138 - val_loss: 0.0201 - val_mse: 0.0201\n",
      "Epoch 75/100\n",
      "56/56 [==============================] - 0s 651us/sample - loss: 0.0130 - mse: 0.0130 - val_loss: 0.0195 - val_mse: 0.0195\n",
      "Epoch 76/100\n",
      "56/56 [==============================] - 0s 589us/sample - loss: 0.0132 - mse: 0.0132 - val_loss: 0.0201 - val_mse: 0.0201\n",
      "Epoch 77/100\n",
      "56/56 [==============================] - 0s 670us/sample - loss: 0.0129 - mse: 0.0129 - val_loss: 0.0197 - val_mse: 0.0197\n",
      "Epoch 78/100\n",
      "56/56 [==============================] - 0s 674us/sample - loss: 0.0126 - mse: 0.0126 - val_loss: 0.0190 - val_mse: 0.0190\n",
      "Epoch 79/100\n",
      "56/56 [==============================] - 0s 652us/sample - loss: 0.0130 - mse: 0.0130 - val_loss: 0.0185 - val_mse: 0.0185\n",
      "Epoch 80/100\n",
      "56/56 [==============================] - 0s 547us/sample - loss: 0.0128 - mse: 0.0128 - val_loss: 0.0194 - val_mse: 0.0194\n",
      "Epoch 81/100\n",
      "56/56 [==============================] - 0s 449us/sample - loss: 0.0138 - mse: 0.0138 - val_loss: 0.0187 - val_mse: 0.0187\n",
      "Epoch 82/100\n",
      "56/56 [==============================] - 0s 565us/sample - loss: 0.0134 - mse: 0.0134 - val_loss: 0.0186 - val_mse: 0.0186\n",
      "Epoch 83/100\n",
      "56/56 [==============================] - 0s 691us/sample - loss: 0.0129 - mse: 0.0129 - val_loss: 0.0191 - val_mse: 0.0191\n",
      "Epoch 84/100\n",
      "56/56 [==============================] - 0s 629us/sample - loss: 0.0131 - mse: 0.0131 - val_loss: 0.0181 - val_mse: 0.0181\n",
      "Epoch 85/100\n",
      "56/56 [==============================] - 0s 590us/sample - loss: 0.0123 - mse: 0.0123 - val_loss: 0.0180 - val_mse: 0.0180\n",
      "Epoch 86/100\n",
      "56/56 [==============================] - 0s 661us/sample - loss: 0.0126 - mse: 0.0126 - val_loss: 0.0188 - val_mse: 0.0188\n",
      "Epoch 87/100\n",
      "56/56 [==============================] - 0s 665us/sample - loss: 0.0121 - mse: 0.0121 - val_loss: 0.0176 - val_mse: 0.0176\n",
      "Epoch 88/100\n",
      "56/56 [==============================] - 0s 692us/sample - loss: 0.0124 - mse: 0.0124 - val_loss: 0.0173 - val_mse: 0.0173\n",
      "Epoch 89/100\n",
      "56/56 [==============================] - 0s 675us/sample - loss: 0.0118 - mse: 0.0118 - val_loss: 0.0184 - val_mse: 0.0184\n",
      "Epoch 90/100\n",
      "56/56 [==============================] - 0s 630us/sample - loss: 0.0120 - mse: 0.0120 - val_loss: 0.0176 - val_mse: 0.0176\n",
      "Epoch 91/100\n",
      "56/56 [==============================] - 0s 665us/sample - loss: 0.0121 - mse: 0.0121 - val_loss: 0.0169 - val_mse: 0.0169\n",
      "Epoch 92/100\n",
      "56/56 [==============================] - 0s 713us/sample - loss: 0.0121 - mse: 0.0121 - val_loss: 0.0179 - val_mse: 0.0179\n",
      "Epoch 93/100\n",
      "56/56 [==============================] - 0s 655us/sample - loss: 0.0119 - mse: 0.0119 - val_loss: 0.0168 - val_mse: 0.0168\n",
      "Epoch 94/100\n",
      "56/56 [==============================] - 0s 658us/sample - loss: 0.0130 - mse: 0.0130 - val_loss: 0.0168 - val_mse: 0.0168\n",
      "Epoch 95/100\n",
      "56/56 [==============================] - 0s 593us/sample - loss: 0.0109 - mse: 0.0109 - val_loss: 0.0180 - val_mse: 0.0180\n",
      "Epoch 96/100\n",
      "56/56 [==============================] - 0s 778us/sample - loss: 0.0125 - mse: 0.0125 - val_loss: 0.0176 - val_mse: 0.0176\n",
      "Epoch 97/100\n",
      "56/56 [==============================] - 0s 709us/sample - loss: 0.0117 - mse: 0.0117 - val_loss: 0.0166 - val_mse: 0.0166\n",
      "Epoch 98/100\n",
      "56/56 [==============================] - 0s 541us/sample - loss: 0.0115 - mse: 0.0115 - val_loss: 0.0166 - val_mse: 0.0166\n",
      "Epoch 99/100\n",
      "56/56 [==============================] - 0s 612us/sample - loss: 0.0114 - mse: 0.0114 - val_loss: 0.0168 - val_mse: 0.0168\n",
      "Epoch 100/100\n",
      "56/56 [==============================] - 0s 645us/sample - loss: 0.0114 - mse: 0.0114 - val_loss: 0.0160 - val_mse: 0.0160\n"
     ]
    }
   ],
   "source": [
    "tf.random.set_seed(123)\n",
    "history2 = NN_model2.fit(sXtrain2, ytrain2, epochs=100, batch_size=8, validation_split=0.2, callbacks=callbacks_list)"
   ]
  },
  {
   "cell_type": "code",
   "execution_count": 15,
   "metadata": {},
   "outputs": [
    {
     "data": {
      "image/png": "[encoded data removed]",
      "text/plain": [
       "<Figure size 432x288 with 1 Axes>"
      ]
     },
     "metadata": {
      "needs_background": "light"
     },
     "output_type": "display_data"
    }
   ],
   "source": [
    "# print(history.history.keys())\n",
    "# \"Loss\"\n",
    "plt.figure()\n",
    "plt.plot(history2.history['loss'])\n",
    "plt.plot(history2.history['val_loss'])\n",
    "plt.title('model loss')\n",
    "plt.ylabel('loss')\n",
    "plt.xlabel('epoch')\n",
    "plt.legend(['train', 'validation'], loc='upper right');"
   ]
  },
  {
   "cell_type": "markdown",
   "metadata": {},
   "source": [
    "### Model predictions"
   ]
  },
  {
   "cell_type": "code",
   "execution_count": 16,
   "metadata": {},
   "outputs": [
    {
     "name": "stdout",
     "output_type": "stream",
     "text": [
      "Training data\n",
      "70/70 [==============================] - 0s 85us/sample - loss: 0.0120 - mse: 0.0120\n",
      "Test data\n",
      "30/30 [==============================] - 0s 106us/sample - loss: 0.0128 - mse: 0.0128\n"
     ]
    }
   ],
   "source": [
    "print('Training data')\n",
    "NN_model2.evaluate(sXtrain2, ytrain2)\n",
    "print('Test data')\n",
    "NN_model2.evaluate(sXtest2, ytest2)\n",
    "# predictions\n",
    "Xpred2 = np.arange(-5,2,0.1).reshape(-1,1)\n",
    "sXpred2 = scaler.transform(Xpred2)\n",
    "model_pred2 = NN_model2.predict(sXpred2)"
   ]
  },
  {
   "cell_type": "code",
   "execution_count": 17,
   "metadata": {},
   "outputs": [
    {
     "data": {
      "image/png": "[encoded data removed]",
      "text/plain": [
       "<Figure size 432x288 with 1 Axes>"
      ]
     },
     "metadata": {
      "needs_background": "light"
     },
     "output_type": "display_data"
    }
   ],
   "source": [
    "plt.figure()\n",
    "plt.plot(Xtrain2, ytrain2[:,0], 'bs', ms=3);\n",
    "plt.plot(Xtrain2, ytrain2[:,1], 'rs', ms=3);\n",
    "plt.plot(Xtest2, ytest2[:,0], 'bs', ms=6);\n",
    "plt.plot(Xtest2, ytest2[:,1], 'rs', ms=6);\n",
    "plt.plot(Xpred2, model_pred2[:,0], 'b--', lw=2)\n",
    "plt.plot(Xpred2, model_pred2[:,1], 'r--', lw=2)\n",
    "plt.axis([-4.5, 1.5, -2, 2]);\n",
    "plt.xlabel('x')\n",
    "plt.ylabel('f,y')\n",
    "plt.title('NN model predictions along with training and test data');\n",
    "# plt.show()"
   ]
  },
  {
   "cell_type": "markdown",
   "metadata": {},
   "source": [
    "# Hyperparameter optimization\n",
    "\n",
    "It gets tedious to find an \"optimal\" combination of the hyperparameters by hand, so in this section, we will explore how we can automate this process.\n",
    "\n",
    "## Random search\n",
    "\n",
    "In this section, we will use the random search implementation `RandomizedSearchCV` of the `sklearn` package to select a setting for the model hyperparameters, which we will take to be the number of hidden layers and neurons."
   ]
  },
  {
   "cell_type": "code",
   "execution_count": 18,
   "metadata": {},
   "outputs": [],
   "source": [
    "from sklearn.model_selection import RandomizedSearchCV"
   ]
  },
  {
   "cell_type": "markdown",
   "metadata": {},
   "source": [
    "First, we define a model builder function for `RandomizedSearchCV`;"
   ]
  },
  {
   "cell_type": "code",
   "execution_count": 19,
   "metadata": {},
   "outputs": [],
   "source": [
    "def model_opt(n_hidden=1, n_units=32, input_shape=[1]):\n",
    "    model = keras.models.Sequential()\n",
    "\n",
    "    # The Input Layer :\n",
    "    model.add(InputLayer(input_shape=input_shape))\n",
    "#     NN_model.add(BatchNormalization())\n",
    "\n",
    "    # The Hidden Layers :\n",
    "    for layer in range(n_hidden):\n",
    "        model.add(Dense(n_units, kernel_initializer='normal',activation='relu'))\n",
    "#         model.add(Dropout(.5))\n",
    "#         NN_model.add(BatchNormalization())\n",
    "\n",
    "    # The Output Layer :\n",
    "    model.add(Dense(2, kernel_initializer='normal',activation='linear'))\n",
    "\n",
    "    # Compile the network :\n",
    "    model.compile(loss='mse', optimizer='adam', metrics=['mse'])\n",
    "    \n",
    "    return(model)"
   ]
  },
  {
   "cell_type": "markdown",
   "metadata": {},
   "source": [
    "Second, we wrap for use with `sklearn` using the `KerasRegressor` function, define the search space, and perform the optimization. Note that this takes a little time consuming even this small toy example, and thus the optimization is pre-run, saved and loaded below (uncomment the content of the following two cells to re-run the optimization). Note that the splitting of the training data in this case, i.e. `validation_split`, only accounts for early-stopping, as the validation error in `RandomizedSearchCV` is evaluated using k-fold cross-validation."
   ]
  },
  {
   "cell_type": "code",
   "execution_count": 20,
   "metadata": {},
   "outputs": [],
   "source": [
    "# keras_reg = keras.wrappers.scikit_learn.KerasRegressor(model_opt)\n",
    "\n",
    "# hyper_param = {'n_hidden': [1,2,3,4],\n",
    "#                'n_units': np.power(2, np.arange(3,7))\n",
    "#               }\n",
    "\n",
    "# rsCV = RandomizedSearchCV(keras_reg, hyper_param, n_iter=10, cv=3)\n",
    "# rsCV.fit(sXtrain2, ytrain2, epochs=100, batch_size=8, validation_split = 0.2, callbacks=callbacks_list);"
   ]
  },
  {
   "cell_type": "code",
   "execution_count": 21,
   "metadata": {},
   "outputs": [],
   "source": [
    "# print(rsCV.best_params_)\n",
    "# optModel2rs = rsCV.best_estimator_.model\n",
    "# optModel2rs.save('NNreg_optModel2rs.h5')  # creates a HDF5 file 'my_model.h5'"
   ]
  },
  {
   "cell_type": "code",
   "execution_count": 22,
   "metadata": {},
   "outputs": [
    {
     "name": "stdout",
     "output_type": "stream",
     "text": [
      "Model: \"sequential_32\"\n",
      "_________________________________________________________________\n",
      "Layer (type)                 Output Shape              Param #   \n",
      "=================================================================\n",
      "dense_111 (Dense)            (None, 64)                128       \n",
      "_________________________________________________________________\n",
      "dense_112 (Dense)            (None, 64)                4160      \n",
      "_________________________________________________________________\n",
      "dense_113 (Dense)            (None, 64)                4160      \n",
      "_________________________________________________________________\n",
      "dense_114 (Dense)            (None, 64)                4160      \n",
      "_________________________________________________________________\n",
      "dense_115 (Dense)            (None, 2)                 130       \n",
      "=================================================================\n",
      "Total params: 12,738\n",
      "Trainable params: 12,738\n",
      "Non-trainable params: 0\n",
      "_________________________________________________________________\n"
     ]
    }
   ],
   "source": [
    "optModel2rs = keras.models.load_model('NNreg_optModel2rs.h5')\n",
    "optModel2rs.summary()"
   ]
  },
  {
   "cell_type": "markdown",
   "metadata": {},
   "source": [
    "### Model predictions"
   ]
  },
  {
   "cell_type": "code",
   "execution_count": 23,
   "metadata": {},
   "outputs": [
    {
     "name": "stdout",
     "output_type": "stream",
     "text": [
      "Training data\n",
      "70/70 [==============================] - 0s 1ms/sample - loss: 0.0095 - mse: 0.0095\n",
      "Test data\n",
      "30/30 [==============================] - 0s 115us/sample - loss: 0.0116 - mse: 0.0116\n"
     ]
    }
   ],
   "source": [
    "print('Training data')\n",
    "optModel2rs.evaluate(sXtrain2, ytrain2)\n",
    "print('Test data')\n",
    "optModel2rs.evaluate(sXtest2, ytest2)\n",
    "optModel_pred2rs = optModel2rs.predict(sXpred2)"
   ]
  },
  {
   "cell_type": "code",
   "execution_count": 24,
   "metadata": {},
   "outputs": [
    {
     "data": {
      "image/png": "[encoded data removed]",
      "text/plain": [
       "<Figure size 432x288 with 1 Axes>"
      ]
     },
     "metadata": {
      "needs_background": "light"
     },
     "output_type": "display_data"
    }
   ],
   "source": [
    "plt.figure()\n",
    "plt.plot(Xtrain2, ytrain2[:,0], 'bs', ms=3);\n",
    "plt.plot(Xtrain2, ytrain2[:,1], 'rs', ms=3);\n",
    "plt.plot(Xtest2, ytest2[:,0], 'bs', ms=6);\n",
    "plt.plot(Xtest2, ytest2[:,1], 'rs', ms=6);\n",
    "plt.plot(Xpred2, optModel_pred2rs[:,0], 'b--', lw=2)\n",
    "plt.plot(Xpred2, optModel_pred2rs[:,1], 'r--', lw=2)\n",
    "plt.axis([-4.5, 1.5, -2, 2]);\n",
    "plt.xlabel('x')\n",
    "plt.ylabel('f,y')\n",
    "plt.title('NN model predictions along with training and test data');\n",
    "# plt.show()"
   ]
  },
  {
   "cell_type": "markdown",
   "metadata": {},
   "source": [
    "This is already pretty good, but if we were to continue this iterative process, we would try out a smaller range of possible network architectures around the current best network, e.g. NNs with four hidden layer and range(32,128,4) neurons.\n",
    "\n",
    "## Bayesian optimization\n",
    "\n",
    "In this section, we will use the Bayesian optimization implementation `BayesSearchCV` of the `skopt` package to select a setting for the model hyperparameters, which we will take to be the number of hidden layers and neurons.\n",
    "\n",
    "COMMING SOON"
   ]
  }
 ],
 "metadata": {
  "kernelspec": {
   "display_name": "Python 3",
   "language": "python",
   "name": "python3"
  },
  "language_info": {
   "codemirror_mode": {
    "name": "ipython",
    "version": 3
   },
   "file_extension": ".py",
   "mimetype": "text/x-python",
   "name": "python",
   "nbconvert_exporter": "python",
   "pygments_lexer": "ipython3",
   "version": "3.7.7"
  }
 },
 "nbformat": 4,
 "nbformat_minor": 4
}
