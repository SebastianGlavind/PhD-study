{
 "cells": [
  {
   "cell_type": "markdown",
   "metadata": {},
   "source": [
    "# A TUTORIAL ON GRADIENT BOOSTING CLASSIFICATION WITH XGBoost\n",
    "\n",
    "by Sebastian T. Glavind, August, 2020\n",
    "\n",
    "# Introduction\n",
    "\n",
    "In this tutorial, we will consider how to define, train, and predict with gradient boosted decision trees using `XGBoost`. First, we will consider how to use gradient boosting for multi-class classification. Second, we will see how to choose the hyperparameters using Bayesian optimization with a Gaussian process prior. Third, we will consider the feature importance functionalities of `XGBoost`. The interested reader is referred to e.g. the textbook of Hastie et al. (2009) for an introduction to gradient boosting (machines), Chen and Guestrin (2016) for a reference on `XGBoost`, and Shahriari et al. (2016) for a review on Bayesian optimization.\n",
    "\n",
    "We will consider a small data set in the tutorial, i.e. the Wine recognition data set, so that training can be performed on a standard computer.\n",
    "***\n",
    "T. Hastie, R. Tibshirani, J. H. Friedman, The Elements of Statistical Learning, Springer New York, 2009.\n",
    "\n",
    "T. Chen, C. Guestrin, XGBoost: A scalable tree boosting system, in: Proceedings of the 22nd ACM SIGKDD International Conference on Knowledge Discovery and Data Mining, ACM, 2016, pp. 785-794, http://dx.doi.org/10.1145/2939672.2939785\n",
    "\n",
    "B. Shahriari, K. Swersky, Z. Wang, R. P. Adams, N. de Freitas, Taking the human out of the loop: A review of bayesian optimization, in: Proceedings of the IEEE, Vol. 104, 2016, pp. 148-175. \n",
    "***\n",
    "\n",
    "# Prelude"
   ]
  },
  {
   "cell_type": "code",
   "execution_count": 17,
   "metadata": {},
   "outputs": [],
   "source": [
    "import sklearn.utils\n",
    "import sklearn.metrics\n",
    "import sklearn.model_selection\n",
    "import sklearn.decomposition\n",
    "from sklearn.datasets import load_wine\n",
    "import pandas as pd\n",
    "import xgboost as xgb\n",
    "import GPyOpt\n",
    "import pickle\n",
    "import matplotlib\n",
    "import numpy as np\n",
    "import matplotlib.pyplot as plt\n",
    "plt.style.use('ggplot')\n",
    "%matplotlib inline"
   ]
  },
  {
   "cell_type": "markdown",
   "metadata": {},
   "source": [
    "# Multi-class classification with XGBoost\n",
    "\n",
    "\n",
    "## Data set\n",
    "\n",
    "In this tutorial, we will consider the Wine recognition data set, see below, which ships with `scikit-learn`;"
   ]
  },
  {
   "cell_type": "code",
   "execution_count": 18,
   "metadata": {},
   "outputs": [
    {
     "name": "stdout",
     "output_type": "stream",
     "text": [
      ".. _wine_dataset:\n",
      "\n",
      "Wine recognition dataset\n",
      "------------------------\n",
      "\n",
      "**Data Set Characteristics:**\n",
      "\n",
      "    :Number of Instances: 178 (50 in each of three classes)\n",
      "    :Number of Attributes: 13 numeric, predictive attributes and the class\n",
      "    :Attribute Information:\n",
      " \t\t- Alcohol\n",
      " \t\t- Malic acid\n",
      " \t\t- Ash\n",
      "\t\t- Alcalinity of ash  \n",
      " \t\t- Magnesium\n",
      "\t\t- Total phenols\n",
      " \t\t- Flavanoids\n",
      " \t\t- Nonflavanoid phenols\n",
      " \t\t- Proanthocyanins\n",
      "\t\t- Color intensity\n",
      " \t\t- Hue\n",
      " \t\t- OD280/OD315 of diluted wines\n",
      " \t\t- Proline\n",
      "\n",
      "    - class:\n",
      "            - class_0\n",
      "            - class_1\n",
      "            - class_2\n",
      "\t\t\n",
      "    :Summary Statistics:\n",
      "    \n",
      "    ============================= ==== ===== ======= =====\n",
      "                                   Min   Max   Mean     SD\n",
      "    ============================= ==== ===== ======= =====\n",
      "    Alcohol:                      11.0  14.8    13.0   0.8\n",
      "    Malic Acid:                   0.74  5.80    2.34  1.12\n",
      "    Ash:                          1.36  3.23    2.36  0.27\n",
      "    Alcalinity of Ash:            10.6  30.0    19.5   3.3\n",
      "    Magnesium:                    70.0 162.0    99.7  14.3\n",
      "    Total Phenols:                0.98  3.88    2.29  0.63\n",
      "    Flavanoids:                   0.34  5.08    2.03  1.00\n",
      "    Nonflavanoid Phenols:         0.13  0.66    0.36  0.12\n",
      "    Proanthocyanins:              0.41  3.58    1.59  0.57\n",
      "    Colour Intensity:              1.3  13.0     5.1   2.3\n",
      "    Hue:                          0.48  1.71    0.96  0.23\n",
      "    OD280/OD315 of diluted wines: 1.27  4.00    2.61  0.71\n",
      "    Proline:                       278  1680     746   315\n",
      "    ============================= ==== ===== ======= =====\n",
      "\n",
      "    :Missing Attribute Values: None\n",
      "    :Class Distribution: class_0 (59), class_1 (71), class_2 (48)\n",
      "    :Creator: R.A. Fisher\n",
      "    :Donor: Michael Marshall (MARSHALL%PLU@io.arc.nasa.gov)\n",
      "    :Date: July, 1988\n",
      "\n",
      "This is a copy of UCI ML Wine recognition datasets.\n",
      "https://archive.ics.uci.edu/ml/machine-learning-databases/wine/wine.data\n",
      "\n",
      "The data is the results of a chemical analysis of wines grown in the same\n",
      "region in Italy by three different cultivators. There are thirteen different\n",
      "measurements taken for different constituents found in the three types of\n",
      "wine.\n",
      "\n",
      "Original Owners: \n",
      "\n",
      "Forina, M. et al, PARVUS - \n",
      "An Extendible Package for Data Exploration, Classification and Correlation. \n",
      "Institute of Pharmaceutical and Food Analysis and Technologies,\n",
      "Via Brigata Salerno, 16147 Genoa, Italy.\n",
      "\n",
      "Citation:\n",
      "\n",
      "Lichman, M. (2013). UCI Machine Learning Repository\n",
      "[https://archive.ics.uci.edu/ml]. Irvine, CA: University of California,\n",
      "School of Information and Computer Science. \n",
      "\n",
      ".. topic:: References\n",
      "\n",
      "  (1) S. Aeberhard, D. Coomans and O. de Vel, \n",
      "  Comparison of Classifiers in High Dimensional Settings, \n",
      "  Tech. Rep. no. 92-02, (1992), Dept. of Computer Science and Dept. of  \n",
      "  Mathematics and Statistics, James Cook University of North Queensland. \n",
      "  (Also submitted to Technometrics). \n",
      "\n",
      "  The data was used with many others for comparing various \n",
      "  classifiers. The classes are separable, though only RDA \n",
      "  has achieved 100% correct classification. \n",
      "  (RDA : 100%, QDA 99.4%, LDA 98.9%, 1NN 96.1% (z-transformed data)) \n",
      "  (All results using the leave-one-out technique) \n",
      "\n",
      "  (2) S. Aeberhard, D. Coomans and O. de Vel, \n",
      "  \"THE CLASSIFICATION PERFORMANCE OF RDA\" \n",
      "  Tech. Rep. no. 92-01, (1992), Dept. of Computer Science and Dept. of \n",
      "  Mathematics and Statistics, James Cook University of North Queensland. \n",
      "  (Also submitted to Journal of Chemometrics).\n",
      "\n"
     ]
    }
   ],
   "source": [
    "WineData = load_wine()\n",
    "print(WineData['DESCR'])"
   ]
  },
  {
   "cell_type": "markdown",
   "metadata": {},
   "source": [
    "### Collect raw data"
   ]
  },
  {
   "cell_type": "code",
   "execution_count": 19,
   "metadata": {},
   "outputs": [
    {
     "name": "stdout",
     "output_type": "stream",
     "text": [
      "Samples in each class [59 71 48]\n"
     ]
    }
   ],
   "source": [
    "Xraw, yraw = WineData['data'], WineData['target']\n",
    "nTarget = np.array([sum(yraw==0), sum(yraw==1), sum(yraw==2)])\n",
    "print('Samples in each class', nTarget)"
   ]
  },
  {
   "cell_type": "markdown",
   "metadata": {},
   "source": [
    "### Simple random over-sampling (Bootstrapping) to manage class-imbalance"
   ]
  },
  {
   "cell_type": "code",
   "execution_count": 20,
   "metadata": {},
   "outputs": [],
   "source": [
    "Xboost = list()\n",
    "yboost = list()\n",
    "for i in range(len(nTarget)):\n",
    "    index_i = np.where( yraw==i )[0]\n",
    "    X_i_boost = Xraw[index_i,:]\n",
    "    y_i_boost = yraw[index_i]\n",
    "    \n",
    "    if nTarget[i] < max(nTarget):\n",
    "        index_i_boost = sklearn.utils.resample(index_i, replace=True, n_samples=max(nTarget)-nTarget[i],\n",
    "                                              random_state=123)\n",
    "        X_i_boost = np.vstack([ X_i_boost, Xraw[index_i_boost,:] ])\n",
    "        y_i_boost = np.concatenate([ y_i_boost, yraw[index_i_boost] ]) \n",
    "    \n",
    "    Xboost.append(X_i_boost)\n",
    "    yboost.append(y_i_boost)\n",
    "\n",
    "Xboost = np.vstack(Xboost)\n",
    "yboost = np.concatenate(yboost)"
   ]
  },
  {
   "cell_type": "markdown",
   "metadata": {},
   "source": [
    "### Define train and test data"
   ]
  },
  {
   "cell_type": "code",
   "execution_count": 21,
   "metadata": {},
   "outputs": [],
   "source": [
    "Xtrain, Xtest, ytrain, ytest = sklearn.model_selection.train_test_split(Xboost, yboost, stratify=yboost, \n",
    "                                                                        train_size=.8, shuffle=True, \n",
    "                                                                        random_state=1)"
   ]
  },
  {
   "cell_type": "markdown",
   "metadata": {},
   "source": [
    "### Standardize data "
   ]
  },
  {
   "cell_type": "code",
   "execution_count": 22,
   "metadata": {},
   "outputs": [],
   "source": [
    "# Standardize features\n",
    "scaler = sklearn.preprocessing.StandardScaler()\n",
    "scaler.fit(Xtrain)\n",
    "sXtrain = scaler.transform(Xtrain)\n",
    "sXtest = scaler.transform(Xtest)"
   ]
  },
  {
   "cell_type": "markdown",
   "metadata": {},
   "source": [
    "### Principal component analysis\n",
    "\n",
    "See e.g. Geron (2019) - decision tree prefer othogonal features.\n",
    "\n",
    "***\n",
    "A. Geron, Hands-on machine learning with Scikit-Learn, Keras, and TensorFlow: Concepts, tools, and techniques to build intelligent systems. O’Reilly Media, 2019.\n",
    "***"
   ]
  },
  {
   "cell_type": "code",
   "execution_count": 23,
   "metadata": {},
   "outputs": [],
   "source": [
    "# PCA of standardized features\n",
    "pca_trans = sklearn.decomposition.PCA()\n",
    "tXtrain = pca_trans.fit(sXtrain)\n",
    "tXtrain = pca_trans.transform(sXtrain)\n",
    "tXtest = pca_trans.transform(sXtest)"
   ]
  },
  {
   "cell_type": "markdown",
   "metadata": {},
   "source": [
    "## XGBoost - no feature transformation"
   ]
  },
  {
   "cell_type": "code",
   "execution_count": 24,
   "metadata": {},
   "outputs": [
    {
     "data": {
      "text/plain": [
       "XGBClassifier(base_score=0.5, booster=None, colsample_bylevel=1,\n",
       "              colsample_bynode=1, colsample_bytree=1, gamma=0, gpu_id=-1,\n",
       "              importance_type='gain', interaction_constraints=None,\n",
       "              learning_rate=0.300000012, max_delta_step=0, max_depth=6,\n",
       "              min_child_weight=1, missing=nan, monotone_constraints=None,\n",
       "              n_estimators=100, n_jobs=0, num_parallel_tree=1,\n",
       "              objective='multi:softprob', random_state=0, reg_alpha=0,\n",
       "              reg_lambda=1, scale_pos_weight=None, seed=0, subsample=1,\n",
       "              tree_method=None, validate_parameters=False, verbosity=None)"
      ]
     },
     "execution_count": 24,
     "metadata": {},
     "output_type": "execute_result"
    }
   ],
   "source": [
    "xgb_clas = xgb.XGBClassifier(seed=0)\n",
    "xgb_clas.fit(Xtrain,ytrain)"
   ]
  },
  {
   "cell_type": "markdown",
   "metadata": {},
   "source": [
    "### Training error"
   ]
  },
  {
   "cell_type": "code",
   "execution_count": 25,
   "metadata": {},
   "outputs": [
    {
     "name": "stdout",
     "output_type": "stream",
     "text": [
      "              precision    recall  f1-score   support\n",
      "\n",
      "           0       1.00      1.00      1.00        57\n",
      "           1       1.00      1.00      1.00        56\n",
      "           2       1.00      1.00      1.00        57\n",
      "\n",
      "    accuracy                           1.00       170\n",
      "   macro avg       1.00      1.00      1.00       170\n",
      "weighted avg       1.00      1.00      1.00       170\n",
      "\n",
      "Confusion:\n",
      "[[57  0  0]\n",
      " [ 0 56  0]\n",
      " [ 0  0 57]]\n",
      "Predictions (prob)\n",
      "[[0.   0.   1.  ]\n",
      " [0.   0.   1.  ]\n",
      " [0.   1.   0.  ]\n",
      " [1.   0.   0.  ]\n",
      " [1.   0.   0.  ]\n",
      " [0.   1.   0.  ]\n",
      " [0.   0.99 0.01]\n",
      " [0.   1.   0.  ]\n",
      " [1.   0.   0.  ]]\n"
     ]
    }
   ],
   "source": [
    "pred_train = xgb_clas.predict(Xtrain)\n",
    "pred_train_prob = xgb_clas.predict_proba(Xtrain)\n",
    "print(sklearn.metrics.classification_report(ytrain,pred_train))\n",
    "print('Confusion:')\n",
    "print(sklearn.metrics.confusion_matrix(ytrain, pred_train))\n",
    "print('Predictions (prob)')\n",
    "print(np.round(pred_train_prob[1:10,:],2))"
   ]
  },
  {
   "cell_type": "markdown",
   "metadata": {},
   "source": [
    "### Test error"
   ]
  },
  {
   "cell_type": "code",
   "execution_count": 26,
   "metadata": {},
   "outputs": [
    {
     "name": "stdout",
     "output_type": "stream",
     "text": [
      "              precision    recall  f1-score   support\n",
      "\n",
      "           0       1.00      1.00      1.00        14\n",
      "           1       0.94      1.00      0.97        15\n",
      "           2       1.00      0.93      0.96        14\n",
      "\n",
      "    accuracy                           0.98        43\n",
      "   macro avg       0.98      0.98      0.98        43\n",
      "weighted avg       0.98      0.98      0.98        43\n",
      "\n",
      "Confusion:\n",
      "[[14  0  0]\n",
      " [ 0 15  0]\n",
      " [ 0  1 13]]\n",
      "Predictions (prob)\n",
      "[[0.01 0.   0.99]\n",
      " [0.   0.01 0.99]\n",
      " [0.   0.96 0.04]\n",
      " [0.   0.99 0.  ]\n",
      " [1.   0.   0.  ]\n",
      " [1.   0.   0.  ]\n",
      " [1.   0.   0.  ]\n",
      " [0.99 0.   0.01]\n",
      " [1.   0.   0.  ]]\n"
     ]
    }
   ],
   "source": [
    "pred_test = xgb_clas.predict(Xtest)\n",
    "pred_test_prob = xgb_clas.predict_proba(Xtest)\n",
    "print(sklearn.metrics.classification_report(ytest, pred_test))\n",
    "print('Confusion:')\n",
    "print(sklearn.metrics.confusion_matrix(ytest, pred_test))\n",
    "print('Predictions (prob)')\n",
    "print(np.round(pred_test_prob[1:10,:],2))"
   ]
  },
  {
   "cell_type": "markdown",
   "metadata": {},
   "source": [
    "## XGBoost - standardize features"
   ]
  },
  {
   "cell_type": "code",
   "execution_count": 27,
   "metadata": {},
   "outputs": [
    {
     "data": {
      "text/plain": [
       "XGBClassifier(base_score=0.5, booster=None, colsample_bylevel=1,\n",
       "              colsample_bynode=1, colsample_bytree=1, gamma=0, gpu_id=-1,\n",
       "              importance_type='gain', interaction_constraints=None,\n",
       "              learning_rate=0.300000012, max_delta_step=0, max_depth=6,\n",
       "              min_child_weight=1, missing=nan, monotone_constraints=None,\n",
       "              n_estimators=100, n_jobs=0, num_parallel_tree=1,\n",
       "              objective='multi:softprob', random_state=0, reg_alpha=0,\n",
       "              reg_lambda=1, scale_pos_weight=None, seed=0, subsample=1,\n",
       "              tree_method=None, validate_parameters=False, verbosity=None)"
      ]
     },
     "execution_count": 27,
     "metadata": {},
     "output_type": "execute_result"
    }
   ],
   "source": [
    "xgb_clas_s = xgb.XGBClassifier(seed=0)\n",
    "xgb_clas_s.fit(sXtrain,ytrain)"
   ]
  },
  {
   "cell_type": "markdown",
   "metadata": {},
   "source": [
    "### Training error"
   ]
  },
  {
   "cell_type": "code",
   "execution_count": 28,
   "metadata": {},
   "outputs": [
    {
     "name": "stdout",
     "output_type": "stream",
     "text": [
      "              precision    recall  f1-score   support\n",
      "\n",
      "           0       1.00      1.00      1.00        57\n",
      "           1       1.00      1.00      1.00        56\n",
      "           2       1.00      1.00      1.00        57\n",
      "\n",
      "    accuracy                           1.00       170\n",
      "   macro avg       1.00      1.00      1.00       170\n",
      "weighted avg       1.00      1.00      1.00       170\n",
      "\n",
      "Confusion:\n",
      "[[57  0  0]\n",
      " [ 0 56  0]\n",
      " [ 0  0 57]]\n",
      "Predictions (prob)\n",
      "[[0.   0.   1.  ]\n",
      " [0.   0.   1.  ]\n",
      " [0.   1.   0.  ]\n",
      " [1.   0.   0.  ]\n",
      " [1.   0.   0.  ]\n",
      " [0.   1.   0.  ]\n",
      " [0.   0.99 0.01]\n",
      " [0.   1.   0.  ]\n",
      " [1.   0.   0.  ]]\n"
     ]
    }
   ],
   "source": [
    "pred_train_s = xgb_clas_s.predict(sXtrain)\n",
    "pred_train_prob_s = xgb_clas_s.predict_proba(sXtrain)\n",
    "print(sklearn.metrics.classification_report(ytrain,pred_train_s))\n",
    "print('Confusion:')\n",
    "print(sklearn.metrics.confusion_matrix(ytrain,pred_train_s))\n",
    "print('Predictions (prob)')\n",
    "print(np.round(pred_train_prob_s[1:10,:],2))"
   ]
  },
  {
   "cell_type": "markdown",
   "metadata": {},
   "source": [
    "### Test error"
   ]
  },
  {
   "cell_type": "code",
   "execution_count": 29,
   "metadata": {},
   "outputs": [
    {
     "name": "stdout",
     "output_type": "stream",
     "text": [
      "              precision    recall  f1-score   support\n",
      "\n",
      "           0       1.00      1.00      1.00        14\n",
      "           1       0.94      1.00      0.97        15\n",
      "           2       1.00      0.93      0.96        14\n",
      "\n",
      "    accuracy                           0.98        43\n",
      "   macro avg       0.98      0.98      0.98        43\n",
      "weighted avg       0.98      0.98      0.98        43\n",
      "\n",
      "Confusion:\n",
      "[[14  0  0]\n",
      " [ 0 15  0]\n",
      " [ 0  1 13]]\n",
      "Predictions (prob)\n",
      "[[0.01 0.   0.99]\n",
      " [0.   0.01 0.99]\n",
      " [0.   0.96 0.04]\n",
      " [0.   0.99 0.  ]\n",
      " [1.   0.   0.  ]\n",
      " [1.   0.   0.  ]\n",
      " [1.   0.   0.  ]\n",
      " [0.99 0.   0.01]\n",
      " [1.   0.   0.  ]]\n"
     ]
    }
   ],
   "source": [
    "pred_test_s = xgb_clas_s.predict(sXtest)\n",
    "pred_test_prob_s = xgb_clas_s.predict_proba(sXtest)\n",
    "print(sklearn.metrics.classification_report(ytest,pred_test_s))\n",
    "print('Confusion:')\n",
    "print(sklearn.metrics.confusion_matrix(ytest,pred_test_s))\n",
    "print('Predictions (prob)')\n",
    "print(np.round(pred_test_prob_s[1:10,:],2))"
   ]
  },
  {
   "cell_type": "markdown",
   "metadata": {},
   "source": [
    "This has no effect compared to the no scaling case, which is expected given that decision trees operate in a discrete domain. \n",
    "\n",
    "## XGBoost - feature pre-processing with PCA"
   ]
  },
  {
   "cell_type": "code",
   "execution_count": 30,
   "metadata": {},
   "outputs": [
    {
     "data": {
      "text/plain": [
       "XGBClassifier(base_score=0.5, booster=None, colsample_bylevel=1,\n",
       "              colsample_bynode=1, colsample_bytree=1, gamma=0, gpu_id=-1,\n",
       "              importance_type='gain', interaction_constraints=None,\n",
       "              learning_rate=0.300000012, max_delta_step=0, max_depth=6,\n",
       "              min_child_weight=1, missing=nan, monotone_constraints=None,\n",
       "              n_estimators=100, n_jobs=0, num_parallel_tree=1,\n",
       "              objective='multi:softprob', random_state=0, reg_alpha=0,\n",
       "              reg_lambda=1, scale_pos_weight=None, seed=0, subsample=1,\n",
       "              tree_method=None, validate_parameters=False, verbosity=None)"
      ]
     },
     "execution_count": 30,
     "metadata": {},
     "output_type": "execute_result"
    }
   ],
   "source": [
    "xgb_clas_t = xgb.XGBClassifier(seed=0)\n",
    "xgb_clas_t.fit(tXtrain,ytrain)"
   ]
  },
  {
   "cell_type": "markdown",
   "metadata": {},
   "source": [
    "### Training error"
   ]
  },
  {
   "cell_type": "code",
   "execution_count": 31,
   "metadata": {},
   "outputs": [
    {
     "name": "stdout",
     "output_type": "stream",
     "text": [
      "              precision    recall  f1-score   support\n",
      "\n",
      "           0       1.00      1.00      1.00        57\n",
      "           1       1.00      1.00      1.00        56\n",
      "           2       1.00      1.00      1.00        57\n",
      "\n",
      "    accuracy                           1.00       170\n",
      "   macro avg       1.00      1.00      1.00       170\n",
      "weighted avg       1.00      1.00      1.00       170\n",
      "\n",
      "Confusion:\n",
      "[[57  0  0]\n",
      " [ 0 56  0]\n",
      " [ 0  0 57]]\n",
      "Predictions (prob)\n",
      "[[0.   0.   1.  ]\n",
      " [0.   0.   1.  ]\n",
      " [0.   1.   0.  ]\n",
      " [0.99 0.   0.  ]\n",
      " [1.   0.   0.  ]\n",
      " [0.   1.   0.  ]\n",
      " [0.01 0.96 0.03]\n",
      " [0.   1.   0.  ]\n",
      " [1.   0.   0.  ]]\n"
     ]
    }
   ],
   "source": [
    "pred_train_t = xgb_clas_t.predict(tXtrain)\n",
    "pred_train_prob_t = xgb_clas_t.predict_proba(tXtrain)\n",
    "print(sklearn.metrics.classification_report(ytrain,pred_train_t))\n",
    "print('Confusion:')\n",
    "print(sklearn.metrics.confusion_matrix(ytrain,pred_train_t))\n",
    "print('Predictions (prob)')\n",
    "print(np.round(pred_train_prob_t[1:10,:],2))"
   ]
  },
  {
   "cell_type": "markdown",
   "metadata": {},
   "source": [
    "### Test error"
   ]
  },
  {
   "cell_type": "code",
   "execution_count": 32,
   "metadata": {},
   "outputs": [
    {
     "name": "stdout",
     "output_type": "stream",
     "text": [
      "              precision    recall  f1-score   support\n",
      "\n",
      "           0       1.00      1.00      1.00        14\n",
      "           1       1.00      1.00      1.00        15\n",
      "           2       1.00      1.00      1.00        14\n",
      "\n",
      "    accuracy                           1.00        43\n",
      "   macro avg       1.00      1.00      1.00        43\n",
      "weighted avg       1.00      1.00      1.00        43\n",
      "\n",
      "Confusion:\n",
      "[[14  0  0]\n",
      " [ 0 15  0]\n",
      " [ 0  0 14]]\n",
      "Predictions (prob)\n",
      "[[0.   0.   1.  ]\n",
      " [0.   0.01 0.99]\n",
      " [0.   0.99 0.01]\n",
      " [0.   1.   0.  ]\n",
      " [1.   0.   0.  ]\n",
      " [1.   0.   0.  ]\n",
      " [1.   0.   0.  ]\n",
      " [1.   0.   0.  ]\n",
      " [0.97 0.02 0.  ]]\n"
     ]
    }
   ],
   "source": [
    "pred_test_t = xgb_clas_t.predict(tXtest)\n",
    "pred_test_prob_t = xgb_clas_t.predict_proba(tXtest)\n",
    "print(sklearn.metrics.classification_report(ytest,pred_test_t))\n",
    "print('Confusion:')\n",
    "print(sklearn.metrics.confusion_matrix(ytest,pred_test_t))\n",
    "print('Predictions (prob)')\n",
    "print(np.round(pred_test_prob_t[1:10,:],2))"
   ]
  },
  {
   "cell_type": "markdown",
   "metadata": {},
   "source": [
    "This has an effect compared to the no scaling case, i.e. boost accuracy for 98\\% to 100\\%, as decision tree prefer orthogonal features, see e.g. Geron (2019).\n",
    "\n",
    "\n",
    "# Bayesian optimization with GPyOpt\n",
    "\n",
    "As we have already obtained perfect performance on the test set using PCA pre-processing with the default parameters, there is no idea in trying to optimize this model further, so in this section we will try to improve performance on the original (un-transformed) data.\n",
    "\n",
    "The hyper-parameters optimization in this section will be performed using Bayesian optimization with a Gaussian process prior, see e.g. Shahriari et al. (2016) for a reference. In this regard, we will use the functionalities of `GPyOpt` in the implementation of Bayesian optimization, see https://github.com/SheffieldML/GPyOpt.\n",
    "\n",
    "***\n",
    "B. Shahriari, K. Swersky, Z. Wang, R. P. Adams, N. de Freitas, Taking the human out of the loop: A review of Bayesian optimization, in: Proceedings of the IEEE, Vol. 104, 2016, pp. 148-175.\n",
    "***"
   ]
  },
  {
   "cell_type": "code",
   "execution_count": 33,
   "metadata": {},
   "outputs": [],
   "source": [
    "from xgboost import XGBClassifier\n",
    "from GPyOpt.methods import BayesianOptimization\n",
    "from sklearn.model_selection import cross_val_score\n",
    "from sklearn.pipeline import Pipeline"
   ]
  },
  {
   "cell_type": "code",
   "execution_count": 34,
   "metadata": {},
   "outputs": [
    {
     "name": "stdout",
     "output_type": "stream",
     "text": [
      "-0.10083793030969579\n",
      "-0.24960152090472332\n",
      "-0.19155298872467347\n",
      "-0.09375466559534235\n",
      "-0.6035688140813043\n",
      "-0.09375894131097832\n",
      "-0.09996892088229822\n",
      "-0.09426102325977648\n",
      "-0.6658623250091777\n",
      "-0.9834710019476274\n",
      "-0.1985456337385318\n",
      "-0.1985456337385318\n",
      "-0.1985456337385318\n",
      "-0.1988866460893084\n",
      "-0.7733512801282545\n",
      "-0.1960249077528715\n",
      "-0.19709799920811372\n",
      "-0.7140221977935118\n",
      "-0.19475769575904398\n",
      "-0.19666112192413387\n",
      "-0.19512908555129\n",
      "-0.9987070409690633\n",
      "-0.1052140237078728\n",
      "-0.10332427988486255\n",
      "-0.10399644812842941\n",
      "-0.09878283611991825\n",
      "-0.09778701548793298\n",
      "-0.09871185080504374\n",
      "-0.09798807175693047\n",
      "-0.09768934001296978\n",
      "-0.09852958704235361\n",
      "-0.09911754831178662\n",
      "-0.09852958704235361\n",
      "-0.09852958704235361\n"
     ]
    }
   ],
   "source": [
    "bds = [{'name': 'learning_rate', 'type': 'continuous', 'domain': (0.001, 0.3)},\n",
    "        {'name': 'gamma', 'type': 'continuous', 'domain': (0.001, 0.3)},\n",
    "        {'name': 'max_depth', 'type': 'discrete', 'domain': (2, 4, 6, 8, 10, 12)},\n",
    "        {'name': 'n_estimators', 'type':'discrete','domain': (100, 200, 300, 400, 500)},\n",
    "        {'name': 'min_child_weight', 'type': 'discrete', 'domain': (1, 10)}]\n",
    "\n",
    "# Optimization objective \n",
    "def cv_score(parameters):\n",
    "    parameters = parameters[0]\n",
    "    cv = sklearn.model_selection.StratifiedKFold(n_splits=5)\n",
    "    \n",
    "    # define the pipeline\n",
    "    steps = list()\n",
    "#     steps.append(('scaler', sklearn.preprocessing.StandardScaler() ))\n",
    "#     steps.append(('pca', sklearn.decomposition.PCA() ))\n",
    "    steps.append(('model', XGBClassifier(learning_rate=parameters[0],\n",
    "                              gamma=parameters[1],\n",
    "                              max_depth=int(parameters[2]),\n",
    "                              n_estimators=int(parameters[3]),\n",
    "                              min_child_weight=int(parameters[4]),\n",
    "                              objective='mlogloss') ))\n",
    "    pipe = Pipeline(steps=steps)\n",
    "    \n",
    "    score = cross_val_score(\n",
    "        pipe, Xtrain, ytrain, scoring='neg_log_loss', cv=cv).mean()\n",
    "    score = np.array(score)\n",
    "    print(score)\n",
    "    return score\n",
    "\n",
    "optimizer = BayesianOptimization(f=cv_score, \n",
    "                                 domain=bds,\n",
    "                                 model_type='GP',\n",
    "                                 acquisition_type ='EI',\n",
    "                                 acquisition_jitter = 0.01,\n",
    "                                 exact_feval=True, \n",
    "                                 normalize_Y=True,\n",
    "                                 acquisition_optimizer_type='lbfgs', \n",
    "                                 model_update_interval=1, \n",
    "                                 evaluator_type='sequential',\n",
    "                                 maximize=True, # maximize, i.e. minimize negative objective\n",
    "                                 num_cores=1)\n",
    "optimizer.run_optimization(max_iter=40)"
   ]
  },
  {
   "cell_type": "markdown",
   "metadata": {},
   "source": [
    "### Convergence plots for the optimization"
   ]
  },
  {
   "cell_type": "code",
   "execution_count": 39,
   "metadata": {},
   "outputs": [
    {
     "data": {
      "image/png": "[encoded data removed]",
      "text/plain": [
       "<Figure size 720x360 with 2 Axes>"
      ]
     },
     "metadata": {
      "needs_background": "light"
     },
     "output_type": "display_data"
    }
   ],
   "source": [
    "optimizer.plot_convergence()"
   ]
  },
  {
   "cell_type": "markdown",
   "metadata": {},
   "source": [
    "### Optimal parameter setting and corresponding model"
   ]
  },
  {
   "cell_type": "code",
   "execution_count": 35,
   "metadata": {},
   "outputs": [
    {
     "name": "stdout",
     "output_type": "stream",
     "text": [
      "Best parameter setting: [1.03124073e-01 3.60896032e-02 2.00000000e+00 1.00000000e+02\n",
      " 1.00000000e+00]\n"
     ]
    },
    {
     "data": {
      "text/plain": [
       "XGBClassifier(base_score=0.5, booster=None, colsample_bylevel=1,\n",
       "              colsample_bynode=1, colsample_bytree=1, gamma=0.03608960323739712,\n",
       "              gpu_id=-1, importance_type='gain', interaction_constraints=None,\n",
       "              learning_rate=0.10312407313108196, max_delta_step=0, max_depth=2,\n",
       "              min_child_weight=1, missing=nan, monotone_constraints=None,\n",
       "              n_estimators=100, n_jobs=0, num_parallel_tree=1,\n",
       "              objective='multi:softprob', random_state=0, reg_alpha=0,\n",
       "              reg_lambda=1, scale_pos_weight=None, seed=0, subsample=1,\n",
       "              tree_method=None, validate_parameters=False, verbosity=None)"
      ]
     },
     "execution_count": 35,
     "metadata": {},
     "output_type": "execute_result"
    }
   ],
   "source": [
    "params_opt = (optimizer.x_opt); \n",
    "print('Best parameter setting:', params_opt)\n",
    "\n",
    "model_opt = XGBClassifier(learning_rate=params_opt[0],\n",
    "                          gamma=params_opt[1],\n",
    "                          max_depth=int(params_opt[2]),\n",
    "                          n_estimators=int(params_opt[3]),\n",
    "                          min_child_weight=int(params_opt[4]),\n",
    "                          objective='mlogloss',\n",
    "                          seed=0\n",
    "                          )\n",
    "model_opt.fit(tXtrain,ytrain)"
   ]
  },
  {
   "cell_type": "markdown",
   "metadata": {},
   "source": [
    "### Training error"
   ]
  },
  {
   "cell_type": "code",
   "execution_count": 37,
   "metadata": {},
   "outputs": [
    {
     "name": "stdout",
     "output_type": "stream",
     "text": [
      "              precision    recall  f1-score   support\n",
      "\n",
      "           0       1.00      1.00      1.00        57\n",
      "           1       1.00      1.00      1.00        56\n",
      "           2       1.00      1.00      1.00        57\n",
      "\n",
      "    accuracy                           1.00       170\n",
      "   macro avg       1.00      1.00      1.00       170\n",
      "weighted avg       1.00      1.00      1.00       170\n",
      "\n",
      "Confusion:\n",
      "[[57  0  0]\n",
      " [ 0 56  0]\n",
      " [ 0  0 57]]\n",
      "Predictions (prob)\n",
      "[[0.001 0.003 0.996]\n",
      " [0.003 0.001 0.996]\n",
      " [0.002 0.997 0.001]\n",
      " [0.994 0.003 0.003]\n",
      " [0.998 0.001 0.001]\n",
      " [0.002 0.997 0.001]\n",
      " [0.009 0.952 0.039]\n",
      " [0.002 0.997 0.001]\n",
      " [0.998 0.001 0.001]]\n"
     ]
    }
   ],
   "source": [
    "pred_train_opt = model_opt.predict(tXtrain)\n",
    "pred_train_prob_opt = model_opt.predict_proba(tXtrain)\n",
    "print(sklearn.metrics.classification_report(ytrain,pred_train_opt))\n",
    "print('Confusion:')\n",
    "print(sklearn.metrics.confusion_matrix(ytrain,pred_train_opt))\n",
    "print('Predictions (prob)')\n",
    "print(np.round(pred_train_prob_opt[1:10,:],3))"
   ]
  },
  {
   "cell_type": "markdown",
   "metadata": {},
   "source": [
    "### Test error"
   ]
  },
  {
   "cell_type": "code",
   "execution_count": 38,
   "metadata": {},
   "outputs": [
    {
     "name": "stdout",
     "output_type": "stream",
     "text": [
      "              precision    recall  f1-score   support\n",
      "\n",
      "           0       1.00      1.00      1.00        14\n",
      "           1       1.00      1.00      1.00        15\n",
      "           2       1.00      1.00      1.00        14\n",
      "\n",
      "    accuracy                           1.00        43\n",
      "   macro avg       1.00      1.00      1.00        43\n",
      "weighted avg       1.00      1.00      1.00        43\n",
      "\n",
      "Confusion:\n",
      "[[14  0  0]\n",
      " [ 0 15  0]\n",
      " [ 0  0 14]]\n",
      "Predictions (prob)\n",
      "[[0.001 0.003 0.996]\n",
      " [0.001 0.007 0.992]\n",
      " [0.001 0.987 0.012]\n",
      " [0.004 0.995 0.001]\n",
      " [0.998 0.001 0.001]\n",
      " [0.995 0.003 0.002]\n",
      " [0.998 0.001 0.001]\n",
      " [0.99  0.009 0.002]\n",
      " [0.955 0.044 0.001]]\n"
     ]
    }
   ],
   "source": [
    "pred_test_opt = model_opt.predict(tXtest)\n",
    "pred_test_prob_opt = model_opt.predict_proba(tXtest)\n",
    "print(sklearn.metrics.classification_report(ytest,pred_test_opt))\n",
    "print('Confusion:')\n",
    "print(sklearn.metrics.confusion_matrix(ytest,pred_test_opt))\n",
    "print('Predictions (prob)')\n",
    "print(np.round(pred_test_prob_opt[1:10,:],3))"
   ]
  },
  {
   "cell_type": "markdown",
   "metadata": {},
   "source": [
    "It appears that perfect performance can also be obtained for this case by optimizing the hyper-parameters for a model trained on the original (non-transformed) data. For real application, we may need to both transform our data and optimize the hyper-parameters of the `XGBoost` algorithm to get the best possible performance.\n",
    "\n",
    "\n",
    "# Feature importance\n",
    "\n",
    "A benefit of using the original features for model building is that the inherent feature importance functionalities of `XGBoost`, and most other tree-based methods, becomes directly interpretable. Here, the feature importance’s for a single decision tree are calculated as the amount that each feature split point improves the performance measure, weighted by the number of observations the node is responsible for. The feature importance’s from all trees are then averaged within the model to produce the final score, see e.g. Brownlee (2020).\n",
    "\n",
    "***\n",
    "J. Brownlee, XGBoost with Python, 2020.\n",
    "***\n"
   ]
  },
  {
   "cell_type": "code",
   "execution_count": 44,
   "metadata": {},
   "outputs": [
    {
     "data": {
      "image/png": "[encoded data removed]",
      "text/plain": [
       "<Figure size 432x288 with 1 Axes>"
      ]
     },
     "metadata": {
      "needs_background": "light"
     },
     "output_type": "display_data"
    }
   ],
   "source": [
    "xgb.plot_importance(model_opt);"
   ]
  },
  {
   "cell_type": "markdown",
   "metadata": {},
   "source": [
    "We see that the features are automatically named according to their index in the input array;"
   ]
  },
  {
   "cell_type": "code",
   "execution_count": 46,
   "metadata": {},
   "outputs": [
    {
     "data": {
      "text/plain": [
       "['alcohol',\n",
       " 'malic_acid',\n",
       " 'ash',\n",
       " 'alcalinity_of_ash',\n",
       " 'magnesium',\n",
       " 'total_phenols',\n",
       " 'flavanoids',\n",
       " 'nonflavanoid_phenols',\n",
       " 'proanthocyanins',\n",
       " 'color_intensity',\n",
       " 'hue',\n",
       " 'od280/od315_of_diluted_wines',\n",
       " 'proline']"
      ]
     },
     "execution_count": 46,
     "metadata": {},
     "output_type": "execute_result"
    }
   ],
   "source": [
    "WineData['feature_names']"
   ]
  },
  {
   "cell_type": "markdown",
   "metadata": {},
   "source": [
    "Thus, *alcohol* is the most important feature in this case, and the least important feature is *proanthocyanins*."
   ]
  }
 ],
 "metadata": {
  "kernelspec": {
   "display_name": "Python 3",
   "language": "python",
   "name": "python3"
  },
  "language_info": {
   "codemirror_mode": {
    "name": "ipython",
    "version": 3
   },
   "file_extension": ".py",
   "mimetype": "text/x-python",
   "name": "python",
   "nbconvert_exporter": "python",
   "pygments_lexer": "ipython3",
   "version": "3.8.3"
  }
 },
 "nbformat": 4,
 "nbformat_minor": 4
}
